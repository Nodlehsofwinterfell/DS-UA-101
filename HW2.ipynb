{
  "nbformat": 4,
  "nbformat_minor": 0,
  "metadata": {
    "colab": {
      "name": "1.ipynb",
      "provenance": [],
      "collapsed_sections": [
        "ppchQKqDn10Z",
        "lxh02EqWn10m"
      ],
      "toc_visible": true
    },
    "hide_input": false,
    "kernelspec": {
      "display_name": "Python 3",
      "language": "python",
      "name": "python3"
    },
    "language_info": {
      "codemirror_mode": {
        "name": "ipython",
        "version": 3
      },
      "file_extension": ".py",
      "mimetype": "text/x-python",
      "name": "python",
      "nbconvert_exporter": "python",
      "pygments_lexer": "ipython3",
      "version": "3.8.5"
    },
    "varInspector": {
      "cols": {
        "lenName": 16,
        "lenType": 16,
        "lenVar": 40
      },
      "kernels_config": {
        "python": {
          "delete_cmd_postfix": "",
          "delete_cmd_prefix": "del ",
          "library": "var_list.py",
          "varRefreshCmd": "print(var_dic_list())"
        },
        "r": {
          "delete_cmd_postfix": ") ",
          "delete_cmd_prefix": "rm(",
          "library": "var_list.r",
          "varRefreshCmd": "cat(var_dic_list()) "
        }
      },
      "types_to_exclude": [
        "module",
        "function",
        "builtin_function_or_method",
        "instance",
        "_Feature"
      ],
      "window_display": false
    }
  },
  "cells": [
    {
      "cell_type": "markdown",
      "metadata": {
        "deletable": false,
        "editable": false,
        "id": "MWUavWWzn10R",
        "nbgrader": {
          "cell_type": "markdown",
          "checksum": "bba119ada650d83c2bda4ef7e4e58903",
          "grade": false,
          "grade_id": "header",
          "locked": true,
          "schema_version": 3,
          "solution": false,
          "task": false
        }
      },
      "source": [
        "# <center>DS4E, Summer 2021: Homework 2<center>\n",
        "\n",
        "This homework is due on **Monday**, **June 7**, by **9am EDT**. The homework is worth **41 points**, or 10% of the course grade. You can earn one point per sub-question. Late homeworks, even by one minute, will be graded down with no exceptions. The course academic integrity policy applies to every homework, including this one.\n",
        "\n",
        "## Instructions\n",
        "\n",
        "This homework contains **multiple choice** and **programming** questions. \n",
        "\n",
        "Multiple choice questions:\n",
        "\n",
        "* Select your answer from the dropdown menu.\n",
        "\n",
        "Programming questions:\n",
        "* If you see a `...` in the cell below the question, simply replace the `...` with your code.\n",
        "* If the cell is blank, write the full code yourself.\n",
        "\n",
        "Notes:\n",
        "* Some questions refer to external articles that you can find by clicking on the links provided.\n",
        "* Save your work as you go.\n",
        "* If you create additional code cells for scratch work, please **remove them before submission**. Your submission should not include any additional code cells.\n",
        "\n",
        "## Submission\n",
        "\n",
        "To submit this homework:\n",
        "1. Download a copy as an .ipynb file by going to \"File > Download > Download .ipynb\"\n",
        "2. You must then upload the .ipynb file as your submission for Homework 1 under the Assignments tab on Brightspace.    "
      ]
    },
    {
      "cell_type": "markdown",
      "metadata": {
        "deletable": false,
        "editable": false,
        "id": "GSgKu_2Pn10T",
        "nbgrader": {
          "cell_type": "markdown",
          "checksum": "85c0826a56682bdd6988d3ae27db110a",
          "grade": false,
          "grade_id": "q1",
          "locked": true,
          "schema_version": 3,
          "solution": false,
          "task": false
        }
      },
      "source": [
        "## <u> Question 1: Data types</u>\n",
        "\n",
        "Complete the following programming exercises."
      ]
    },
    {
      "cell_type": "markdown",
      "metadata": {
        "deletable": false,
        "editable": false,
        "id": "x4MdYL4en10U",
        "nbgrader": {
          "cell_type": "markdown",
          "checksum": "2bc1d5c3d3741190397d5b1e69097c5c",
          "grade": false,
          "grade_id": "q1a",
          "locked": true,
          "schema_version": 3,
          "solution": false,
          "task": false
        }
      },
      "source": [
        "<b>(a) Write an expression that divides the number 28 by 4 and stores the result in a variable called `my_number`.</b>      "
      ]
    },
    {
      "cell_type": "code",
      "metadata": {
        "deletable": false,
        "id": "l4jRUyhRn10U",
        "nbgrader": {
          "cell_type": "code",
          "checksum": "08b11eb8e0174f779c1a8ee5bcde4675",
          "grade": false,
          "grade_id": "q1a-answer",
          "locked": false,
          "schema_version": 3,
          "solution": true,
          "task": false
        }
      },
      "source": [
        "my_number = 28/4"
      ],
      "execution_count": null,
      "outputs": []
    },
    {
      "cell_type": "markdown",
      "metadata": {
        "deletable": false,
        "editable": false,
        "id": "DRjdg4vbn10U",
        "nbgrader": {
          "cell_type": "markdown",
          "checksum": "a8499dba76ba5fd68b0be7c69537a16f",
          "grade": false,
          "grade_id": "q1b",
          "locked": true,
          "schema_version": 3,
          "solution": false,
          "task": false
        }
      },
      "source": [
        "<b>(b) Create an object called `my_int` that contains an integer with a value of 5. Write another line of code to demonstrate that `my_int` is indeed an integer.</b>"
      ]
    },
    {
      "cell_type": "code",
      "metadata": {
        "colab": {
          "base_uri": "https://localhost:8080/"
        },
        "deletable": false,
        "id": "96NevaRAn10U",
        "nbgrader": {
          "cell_type": "code",
          "checksum": "0ffd06eff3686aa579ede5ada4fcce49",
          "grade": false,
          "grade_id": "q1b-answer",
          "locked": false,
          "schema_version": 3,
          "solution": true,
          "task": false
        },
        "outputId": "59590b8d-7d6d-4c99-bc1c-e74e8530676c"
      },
      "source": [
        "my_int=5\n",
        "type(my_int)"
      ],
      "execution_count": null,
      "outputs": [
        {
          "output_type": "execute_result",
          "data": {
            "text/plain": [
              "int"
            ]
          },
          "metadata": {
            "tags": []
          },
          "execution_count": 2
        }
      ]
    },
    {
      "cell_type": "markdown",
      "metadata": {
        "id": "CzAGSdiL40x4"
      },
      "source": [
        "**(c) Create an object called `my_float` that stores the value 5 as a float. Write another line of code that demonstrates that `my_float` is indeed a float.**"
      ]
    },
    {
      "cell_type": "code",
      "metadata": {
        "colab": {
          "base_uri": "https://localhost:8080/"
        },
        "id": "lezcLPsK6Ki4",
        "outputId": "91aa10a2-afcc-485d-e8ce-8322c3b6141f"
      },
      "source": [
        "my_float=5.0\n",
        "type(my_float)"
      ],
      "execution_count": null,
      "outputs": [
        {
          "output_type": "execute_result",
          "data": {
            "text/plain": [
              "float"
            ]
          },
          "metadata": {
            "tags": []
          },
          "execution_count": 3
        }
      ]
    },
    {
      "cell_type": "markdown",
      "metadata": {
        "id": "bn7LANnBWd0m"
      },
      "source": [
        "**(d) Add together `my_int` and `my_float` and store the result in a variable called `my_sum`. You must use the variable names `my_int` and `my_float`.**"
      ]
    },
    {
      "cell_type": "code",
      "metadata": {
        "colab": {
          "base_uri": "https://localhost:8080/"
        },
        "id": "uQ4eHcSWWdSP",
        "outputId": "9d63d538-9aed-4263-9177-84daea82bd4f"
      },
      "source": [
        "my_int=5\n",
        "my_float=5.0\n",
        "my_sum=print(my_int+my_float)"
      ],
      "execution_count": null,
      "outputs": [
        {
          "output_type": "stream",
          "text": [
            "10.0\n"
          ],
          "name": "stdout"
        }
      ]
    },
    {
      "cell_type": "markdown",
      "metadata": {
        "id": "oafaJcCfXR0j"
      },
      "source": [
        "**(e) What is the type of `my_sum`?**\n",
        "\n",
        "<ol type=\"A\">\n",
        "<li>Int</li>\n",
        "<li>Float</li>\n",
        "<li>String</li>\n",
        "</ol>\n"
      ]
    },
    {
      "cell_type": "code",
      "metadata": {
        "id": "lwILD812XRTv"
      },
      "source": [
        "q1e_answer = \"B\" #@param [\"A\", \"B\", \"C\"]"
      ],
      "execution_count": null,
      "outputs": []
    },
    {
      "cell_type": "markdown",
      "metadata": {
        "deletable": false,
        "editable": false,
        "id": "UgFI0zfOn10V",
        "nbgrader": {
          "cell_type": "markdown",
          "checksum": "2151790529fc83be0c2f5a7ba0a59019",
          "grade": false,
          "grade_id": "q1c",
          "locked": true,
          "schema_version": 3,
          "solution": false,
          "task": false
        }
      },
      "source": [
        "<b>(f) Write one line of code to convert `my_int` to a string and store it in a variable called `my_string`."
      ]
    },
    {
      "cell_type": "code",
      "metadata": {
        "colab": {
          "base_uri": "https://localhost:8080/"
        },
        "deletable": false,
        "id": "dQFPqJ0sn10V",
        "nbgrader": {
          "cell_type": "code",
          "checksum": "f463db4a9af5badb4069ec6bfecab224",
          "grade": false,
          "grade_id": "q1c-answer",
          "locked": false,
          "schema_version": 3,
          "solution": true,
          "task": false
        },
        "outputId": "b03b9aa4-fee6-42fb-cb0e-0a7c0ab96d75"
      },
      "source": [
        "my_string=\"my_int\""
      ],
      "execution_count": null,
      "outputs": [
        {
          "output_type": "execute_result",
          "data": {
            "text/plain": [
              "str"
            ]
          },
          "metadata": {
            "tags": []
          },
          "execution_count": 4
        }
      ]
    },
    {
      "cell_type": "markdown",
      "metadata": {
        "deletable": false,
        "editable": false,
        "id": "tg4sEECpn10V",
        "nbgrader": {
          "cell_type": "markdown",
          "checksum": "64dd36d840df1ff9f51ec5b92aa07668",
          "grade": false,
          "grade_id": "q1d",
          "locked": true,
          "schema_version": 3,
          "solution": false,
          "task": false
        }
      },
      "source": [
        "**(g) Write one line of code to multiply the `my_string` variable by 3.**\n",
        "\n",
        "*Recall: In Python, mathematical operators like `+` and <code>&ast;</code> are \"overloaded\" so that they work for more than just numeric values. For example, if the addition operator `+` is used with two strings, Python will concatenate them, i.e., combine them into a new string where the contents of the second string appear directly after the last character of the first string*"
      ]
    },
    {
      "cell_type": "code",
      "metadata": {
        "colab": {
          "base_uri": "https://localhost:8080/",
          "height": 37
        },
        "deletable": false,
        "id": "o90cBR8Rn10V",
        "nbgrader": {
          "cell_type": "code",
          "checksum": "fe7ee4007b8137b9f28e5aa035557235",
          "grade": false,
          "grade_id": "q1d-answer",
          "locked": false,
          "schema_version": 3,
          "solution": true,
          "task": false
        },
        "outputId": "da87fe67-c2eb-4d53-f451-b8e2a31da9b6"
      },
      "source": [
        "\"my_string\"*3"
      ],
      "execution_count": null,
      "outputs": [
        {
          "output_type": "execute_result",
          "data": {
            "text/plain": [
              "'my_stringmy_stringmy_string'"
            ]
          },
          "metadata": {
            "tags": []
          },
          "execution_count": 7
        }
      ]
    },
    {
      "cell_type": "markdown",
      "metadata": {
        "deletable": false,
        "editable": false,
        "id": "JmRRrj70n10X",
        "nbgrader": {
          "cell_type": "markdown",
          "checksum": "86325265dc14dbaa7ce455a5d91da11d",
          "grade": false,
          "grade_id": "q2",
          "locked": true,
          "schema_version": 3,
          "solution": false,
          "task": false
        }
      },
      "source": [
        "## <u>Question 2: Lists and arrays</u>\n",
        "\n",
        "Complete the following programming exercises."
      ]
    },
    {
      "cell_type": "markdown",
      "metadata": {
        "deletable": false,
        "editable": false,
        "id": "UXtsN_awn10W",
        "nbgrader": {
          "cell_type": "markdown",
          "checksum": "69463befbc3628f937c3ce984023c58e",
          "grade": false,
          "grade_id": "q1e",
          "locked": true,
          "schema_version": 3,
          "solution": false,
          "task": false
        }
      },
      "source": [
        "<b>(a) Create four variables based on the following list of cell phones and their price in USD, given in parentheses. The value for each variable should be the price of that cell phone as written.\n",
        "\n",
        "* iPhone (799)\n",
        "* Galaxy (649)\n",
        "* Pixel (699)\n",
        "* OnePlus (729)\n",
        "    \n",
        "Then, write code that uses arithmetic (i.e., do not import a package) to calculate the mean price of the four phones, using the names of the phone variables in the mathematical expression, and store this mean value in a variable called `phone_price_mean`.</b>"
      ]
    },
    {
      "cell_type": "code",
      "metadata": {
        "deletable": false,
        "id": "iaq2gTFen10W",
        "nbgrader": {
          "cell_type": "code",
          "checksum": "0b96e7d3f408a2698687b9b9535b57e4",
          "grade": false,
          "grade_id": "q1e-answer",
          "locked": false,
          "schema_version": 3,
          "solution": true,
          "task": false
        },
        "colab": {
          "base_uri": "https://localhost:8080/"
        },
        "outputId": "296c08fa-fea4-4e37-8eea-ebf61d82e448"
      },
      "source": [
        "iphone = 799\n",
        "galaxy = 649\n",
        "pixel = 699\n",
        "oneplus = 729\n",
        "phone_price_mean = (iphone+galaxy+pixel+oneplus)/4\n",
        "print(phone_price_mean)"
      ],
      "execution_count": null,
      "outputs": [
        {
          "output_type": "stream",
          "text": [
            "719.0\n"
          ],
          "name": "stdout"
        }
      ]
    },
    {
      "cell_type": "markdown",
      "metadata": {
        "deletable": false,
        "editable": false,
        "id": "UlOy59evn10X",
        "nbgrader": {
          "cell_type": "markdown",
          "checksum": "e73935f514673a7a1e2f89431692ece5",
          "grade": false,
          "grade_id": "q2a",
          "locked": true,
          "schema_version": 3,
          "solution": false,
          "task": false
        }
      },
      "source": [
        "<b> (b) We will now calculate the same mean as in Question 2a above, but this time we will use a `list` variable. \n",
        "\n",
        "Create a `list` variable called `phone_price_list` containing four numeric items that correspond to the prices of the four phones. Write a second line of code that uses arithmetic (still no package importing) to find the mean of the elements in `phone_price_list` and assign this mean to a variable called `phone_price_mean2`.</b>"
      ]
    },
    {
      "cell_type": "code",
      "metadata": {
        "deletable": false,
        "id": "LfWtqcYAn10X",
        "nbgrader": {
          "cell_type": "code",
          "checksum": "6f94be0b82be244f926f084929de0852",
          "grade": false,
          "grade_id": "q2a-answer",
          "locked": false,
          "schema_version": 3,
          "solution": true,
          "task": false
        }
      },
      "source": [
        "phone_price_list = [iphone,pixel,galaxy,oneplus]\n",
        "phone_price_mean2 = sum(phone_price_list)/len(phone_price_list)"
      ],
      "execution_count": null,
      "outputs": []
    },
    {
      "cell_type": "markdown",
      "metadata": {
        "deletable": false,
        "editable": false,
        "id": "XjTucDU2n10Y",
        "nbgrader": {
          "cell_type": "markdown",
          "checksum": "a4c07b20bbb4a5467096b6b75e549c72",
          "grade": false,
          "grade_id": "q2b",
          "locked": true,
          "schema_version": 3,
          "solution": false,
          "task": false
        }
      },
      "source": [
        "<b> (c) We will now calculate the same mean as in Question 1a, but this time we will use a NumPy `array` variable.\n",
        "    \n",
        "Create a NumPy array called `phone_price_array` containing four numeric items, one for each phone price. Find the mean of `phone_price_array` and store it in the variable `phone_price_mean3`.</b>\n",
        "\n",
        "*Note: We have provided you with starter code containing the line `import numpy as np`. This tells Python to load the NumPy library into memory so that you can call its functions with the `np.` prefix, e.g., `np.sqrt()`. You only need to run this import statement once per notebook session*\n"
      ]
    },
    {
      "cell_type": "code",
      "metadata": {
        "deletable": false,
        "id": "a1lEnxRzn10Y",
        "nbgrader": {
          "cell_type": "code",
          "checksum": "941a81a7bd43fcbaceb8d8d41159e473",
          "grade": false,
          "grade_id": "q2b-answer",
          "locked": false,
          "schema_version": 3,
          "solution": true,
          "task": false
        }
      },
      "source": [
        "import numpy as np \n",
        "phone_price_array = np.array(phone_price_list)\n",
        "phone_price_mean3 = np.mean(phone_price_array)"
      ],
      "execution_count": null,
      "outputs": []
    },
    {
      "cell_type": "markdown",
      "metadata": {
        "id": "M-AiLAWBNiyA"
      },
      "source": [
        "**(d) Write a conditional statement to check that `phone_price_mean2` is equal to `phone_price_mean`. Then write a second conditional statement to check that `phone_price_mean3` is equal to `phone_price_mean2`.**"
      ]
    },
    {
      "cell_type": "code",
      "metadata": {
        "id": "9jCvEHunNjcN",
        "colab": {
          "base_uri": "https://localhost:8080/"
        },
        "outputId": "bb04c852-861c-4a97-f281-21bb8ccb4313"
      },
      "source": [
        "if phone_price_mean2 == phone_price_mean:\n",
        "    print('phone_price_mean2 == phone_price_mean')\n",
        "if phone_price_mean3 == phone_price_mean2:\n",
        "    print(\"phone_price_mean3 == phone_price_mean2\")"
      ],
      "execution_count": null,
      "outputs": [
        {
          "output_type": "stream",
          "text": [
            "phone_price_mean2 == phone_price_mean\n",
            "phone_price_mean3 == phone_price_mean2\n"
          ],
          "name": "stdout"
        }
      ]
    },
    {
      "cell_type": "markdown",
      "metadata": {
        "deletable": false,
        "editable": false,
        "id": "-OqZjwI6n10Y",
        "nbgrader": {
          "cell_type": "markdown",
          "checksum": "4fc44181318e5432ff82fc82c32b7fbd",
          "grade": false,
          "grade_id": "q2c",
          "locked": true,
          "schema_version": 3,
          "solution": false,
          "task": false
        }
      },
      "source": [
        "**(e) We can also use built-in functions in Python to make certain calculations. Write code to find the minimum value in the list called `phone_price_list`, and store this minimum value in a variable named `phone_price_min`. Then print the value of `phone_price_min` to confirm that the previous line worked.**"
      ]
    },
    {
      "cell_type": "code",
      "metadata": {
        "deletable": false,
        "id": "Esrv3PYjn10Y",
        "nbgrader": {
          "cell_type": "code",
          "checksum": "b9a16b124ec9b073670f56ac89165aa9",
          "grade": false,
          "grade_id": "q2c-answer",
          "locked": false,
          "schema_version": 3,
          "solution": true,
          "task": false
        },
        "colab": {
          "base_uri": "https://localhost:8080/"
        },
        "outputId": "b9023047-33e2-4bee-fcb1-a619e6aa6dc4"
      },
      "source": [
        "phone_price_min = min(phone_price_list)\n",
        "print(phone_price_min)"
      ],
      "execution_count": null,
      "outputs": [
        {
          "output_type": "stream",
          "text": [
            "649\n"
          ],
          "name": "stdout"
        }
      ]
    },
    {
      "cell_type": "markdown",
      "metadata": {
        "deletable": false,
        "editable": false,
        "id": "r9SlCXEUn10Y",
        "nbgrader": {
          "cell_type": "markdown",
          "checksum": "461809374b86c274c59643524c57c316",
          "grade": false,
          "grade_id": "q2d",
          "locked": true,
          "schema_version": 3,
          "solution": false,
          "task": false
        }
      },
      "source": [
        "**(f) Now find the maximum of `phone_price_array`. For this answer, do not store the maximum in a variable, print it directly instead.**"
      ]
    },
    {
      "cell_type": "code",
      "metadata": {
        "deletable": false,
        "id": "r0_LPD-Hn10Z",
        "nbgrader": {
          "cell_type": "code",
          "checksum": "cb381e4c779ebae4f0addb45cc74cd5e",
          "grade": false,
          "grade_id": "q2d-answer",
          "locked": false,
          "schema_version": 3,
          "solution": true,
          "task": false
        },
        "colab": {
          "base_uri": "https://localhost:8080/"
        },
        "outputId": "bfdd3080-4a5a-4793-f7d5-d1eb2686b79d"
      },
      "source": [
        "print(np.max(phone_price_array))"
      ],
      "execution_count": null,
      "outputs": [
        {
          "output_type": "stream",
          "text": [
            "799\n"
          ],
          "name": "stdout"
        }
      ]
    },
    {
      "cell_type": "markdown",
      "metadata": {
        "deletable": false,
        "editable": false,
        "id": "DBaC1pSNn10Z",
        "nbgrader": {
          "cell_type": "markdown",
          "checksum": "a76617d94ab6bdb91dbf6bfbfea1c390",
          "grade": false,
          "grade_id": "q2e",
          "locked": true,
          "schema_version": 3,
          "solution": false,
          "task": false
        }
      },
      "source": [
        "<b> (g) Given the similarities in some of the functionality of arrays and lists, why might we prefer to use a NumPy array instead of a list? </b>\n",
        "\n",
        "<ol type=\"A\">\n",
        "<li>You can perform arithmetic on the objects in an array, but not a list</li>\n",
        "<li>Arrays can store integers and strings, whereas lists can only store integers</li>\n",
        "<li>A & B</li>\n",
        "<li>Arrays consume less memory</li>\n",
        "<li>Mathematical operations typically run faster on arrays</li>\n",
        "<li>D & E</li>\n",
        "</ol>"
      ]
    },
    {
      "cell_type": "code",
      "metadata": {
        "deletable": false,
        "id": "6y1etYtyn10Z",
        "nbgrader": {
          "cell_type": "code",
          "checksum": "97e37943a855e71d6fab7184976ac0a6",
          "grade": false,
          "grade_id": "q2e-answer",
          "locked": false,
          "schema_version": 3,
          "solution": true,
          "task": false
        }
      },
      "source": [
        "q2f_answer = \"F\" #@param [\"A\", \"B\", \"C\", \"D\", \"E\", \"F\"]"
      ],
      "execution_count": null,
      "outputs": []
    },
    {
      "cell_type": "markdown",
      "metadata": {
        "deletable": false,
        "editable": false,
        "id": "ppchQKqDn10Z",
        "nbgrader": {
          "cell_type": "markdown",
          "checksum": "793a276c247c04471c211dcd2e3c0513",
          "grade": false,
          "grade_id": "q3",
          "locked": true,
          "schema_version": 3,
          "solution": false,
          "task": false
        }
      },
      "source": [
        "## <u>Question 3: Creating, modifying, and evaluating a variable</u>\n",
        "\n",
        "*Suppose you are studying the age at which people first voted in a US Presidential Election.*"
      ]
    },
    {
      "cell_type": "markdown",
      "metadata": {
        "id": "tZ0wgQzOVeHf"
      },
      "source": [
        "**(a) You have a sample of six voters. Two voters reported that they were 19, two were 25, one was 32, and one was 16. Create a NumPy array named `age_at_first_vote` that contains these age values in the order listed here.**"
      ]
    },
    {
      "cell_type": "code",
      "metadata": {
        "colab": {
          "base_uri": "https://localhost:8080/"
        },
        "id": "36WIcNgGbx64",
        "outputId": "f5fbe350-9e16-42b0-b41a-9df835c690ca"
      },
      "source": [
        "age_at_first_vote = [16,19,19,25,25,32]\n",
        "age_at_first_vote=np.array(age_at_first_vote)\n",
        "print(age_at_first_vote)"
      ],
      "execution_count": null,
      "outputs": [
        {
          "output_type": "stream",
          "text": [
            "[16 19 19 25 25 32]\n"
          ],
          "name": "stdout"
        }
      ]
    },
    {
      "cell_type": "markdown",
      "metadata": {
        "id": "lbDseFQIrGoB"
      },
      "source": [
        "**(b) The legal voting age in US Presidential Elections is 18. In one line of code, write a conditional statement that checks whether each element in the array is greater than or equal 18.**"
      ]
    },
    {
      "cell_type": "code",
      "metadata": {
        "id": "Qkh3gDc-rGF7",
        "outputId": "2c9fb838-3098-443e-93ec-b84c4f69e550"
      },
      "source": [
        "if np.min(age_at_first_vote)>=18:\n",
        "    print('yes')\n",
        "else:\n",
        "    print('no')"
      ],
      "execution_count": null,
      "outputs": [
        {
          "output_type": "stream",
          "text": [
            "no\n"
          ],
          "name": "stdout"
        }
      ]
    },
    {
      "cell_type": "markdown",
      "metadata": {
        "id": "cOX4Dn6VWW2Z"
      },
      "source": [
        "**(c) As you examine the raw data, you notice that the person recorded as 16 years old is actually 18. The person reponsible for inputting the data misread the \"8\" as a \"6\". Write one line of code that edits age_at_first_vote to correct this error by changing the element 16 to 18. Print the array to make sure your modification worked.**"
      ]
    },
    {
      "cell_type": "code",
      "metadata": {
        "id": "q-xio4RVqlH3",
        "outputId": "004bf7bc-dde9-42fb-9e19-f944cde11d65"
      },
      "source": [
        "age_at_first_vote[0] = 18\n",
        "print(age_at_first_vote)"
      ],
      "execution_count": null,
      "outputs": [
        {
          "output_type": "stream",
          "text": [
            "[18 19 19 25 25 32]\n"
          ],
          "name": "stdout"
        }
      ]
    },
    {
      "cell_type": "markdown",
      "metadata": {
        "id": "KF3C0f2JqlgK"
      },
      "source": [
        "**(d) Accidentially recording the wrong information, as in the previous question, is an example of what kind of measurement error?**\n",
        "\n",
        "*(See lecture 7.3 to review common types of error)*\n",
        "\n",
        "<ol type=\"A\">\n",
        "<li>Random error</li>\n",
        "<li>Systematic error</li>\n",
        "<li>Error of validity</li>\n",
        "<li>Error of exclusion</li>\n",
        "</ol>"
      ]
    },
    {
      "cell_type": "code",
      "metadata": {
        "id": "04C2UG2xqvjC"
      },
      "source": [
        "q3d_answer = \"A\" #@param [\"A\", \"B\", \"C\", \"D\"]"
      ],
      "execution_count": null,
      "outputs": []
    },
    {
      "cell_type": "markdown",
      "metadata": {
        "id": "_SIy4ec-051e"
      },
      "source": [
        "**(e) Suppose this kind of mistake is more likely to happen for people with an 8 in their age (e.g. suppose those aged 80 are often mistakenly recorded as 60). What kind of measurement error would this be?**\n",
        "\n",
        "<ol type=\"A\">\n",
        "<li>Random error</li>\n",
        "<li>Systematic error</li>\n",
        "<li>Error of validity</li>\n",
        "<li>Error of exclusion</li>\n",
        "</ol>"
      ]
    },
    {
      "cell_type": "code",
      "metadata": {
        "id": "rhvhHs7Y1OYa"
      },
      "source": [
        "q3e_answer = \"B\" #@param [\"A\", \"B\", \"C\", \"D\"]"
      ],
      "execution_count": null,
      "outputs": []
    },
    {
      "cell_type": "markdown",
      "metadata": {
        "id": "AVGxNcb8yfsI"
      },
      "source": [
        "**(f) This data was collected by stopping people in Washington Square Park, a park at the center of NYU's New York campus, and asking them to report the age at which they first voted. You suspect there might be selection bias in this sampling strategy: people may answer dishonestly, or be less willing to answer at all, if they first voted later in life or if they have never voted. If true, wow would this bias affect the data?**\n",
        "\n",
        "<ol type=\"A\">\n",
        "<li>It would bias the data upward. The average age in your sample would be higher than the true average.</li>\n",
        "<li>It would bias the data downward. The average age in your sample would be lower than the true average.</li>\n",
        "<li>It would not bias the data upward or downward.</li>\n",
        "</ol>"
      ]
    },
    {
      "cell_type": "code",
      "metadata": {
        "id": "X5w4dvh4ygTE"
      },
      "source": [
        "q3f_answer = \"B\" #@param [\"A\", \"B\", \"C\"]"
      ],
      "execution_count": null,
      "outputs": []
    },
    {
      "cell_type": "markdown",
      "metadata": {
        "id": "Zo-j38ZfzbZJ"
      },
      "source": [
        "**(g) You are interested in age at first vote because you want to know how life experiences influence party choice (e.g. whether a person votes Democratic, Republican, or third party). In terms of stages of measurement, age is therefore the way you have chosen to _____ life experience.**\n",
        "\n",
        "<ol type=\"A\">\n",
        "<li>Capture</li>\n",
        "<li>Operationalize</li>\n",
        "<li>Estimate</li>\n",
        "<li>Conceptualize</li>\n",
        "</ol>"
      ]
    },
    {
      "cell_type": "code",
      "metadata": {
        "id": "ndykV_0g0PNC"
      },
      "source": [
        "q3g_answer = \"B\" #@param [\"A\", \"B\", \"C\", \"D\"]"
      ],
      "execution_count": null,
      "outputs": []
    },
    {
      "cell_type": "markdown",
      "metadata": {
        "deletable": false,
        "editable": false,
        "id": "3T9mNryKn10f",
        "nbgrader": {
          "cell_type": "markdown",
          "checksum": "deb3df2abd62dea018b9ff5469034aed",
          "grade": false,
          "grade_id": "q4",
          "locked": true,
          "schema_version": 3,
          "solution": false,
          "task": false
        }
      },
      "source": [
        "## <u>Question 4: Setting up a study</u>\n",
        "\n",
        "*Suppose you are interested in investigating the link between college major and income. In the following questions, please respond to prompts related to several steps of this research project.*\n"
      ]
    },
    {
      "cell_type": "markdown",
      "metadata": {
        "deletable": false,
        "editable": false,
        "id": "vs9NCRnen10f",
        "nbgrader": {
          "cell_type": "markdown",
          "checksum": "f8cf3594dc873f4bbb6eaf2d860f8b53",
          "grade": false,
          "grade_id": "q4a",
          "locked": true,
          "schema_version": 3,
          "solution": false,
          "task": false
        }
      },
      "source": [
        "<b> (a) You suspect that students who major in engineering, work full time, and who are male earn higher incomes on average after graduating. What is the dependent variable in this case? </b>\n",
        "\n",
        "<ol type=\"A\">\n",
        "<li>Major</li>\n",
        "<li>Income</li>\n",
        "<li>Full time status</li>\n",
        "<li>A & C</li>\n",
        "</ol>"
      ]
    },
    {
      "cell_type": "code",
      "metadata": {
        "deletable": false,
        "id": "VPTk0fikn10f",
        "nbgrader": {
          "cell_type": "code",
          "checksum": "7bb4e6ecbb1f8367e7419af3b3927bf0",
          "grade": false,
          "grade_id": "q4a-answer",
          "locked": false,
          "schema_version": 3,
          "solution": true,
          "task": false
        }
      },
      "source": [
        "q4a_answer = \"B\" #@param [\"A\", \"B\", \"C\", \"D\"]"
      ],
      "execution_count": null,
      "outputs": []
    },
    {
      "cell_type": "markdown",
      "metadata": {
        "deletable": false,
        "editable": false,
        "id": "zv6u0BGpn10g",
        "nbgrader": {
          "cell_type": "markdown",
          "checksum": "ea1a340d08eea092e6d90c92281fb5f8",
          "grade": false,
          "grade_id": "q4b",
          "locked": true,
          "schema_version": 3,
          "solution": false,
          "task": false
        }
      },
      "source": [
        "<b> (b) To collect data to examine this theory, you must be specific about how to measure these concepts. You decide to measure *college major* in broad categories. That is, you only give respondents the option \"Engineering\" and not more specific options like \"Chemical Engineering\", \"Mechanical Engineering\", etc. What step in the measurement process are you taking?</b>\n",
        "\n",
        "<ol type=\"A\">\n",
        "<li>Estimation</li>\n",
        "<li>Operationalization</li>\n",
        "<li>Hypothesis formation</li>\n",
        "<li>Conceptualization</li>\n",
        "</ol>"
      ]
    },
    {
      "cell_type": "code",
      "metadata": {
        "deletable": false,
        "id": "70RaEVv0n10g",
        "nbgrader": {
          "cell_type": "code",
          "checksum": "ed18ee58da96682ae8ac18430f86eaf1",
          "grade": false,
          "grade_id": "q4b-answer",
          "locked": false,
          "schema_version": 3,
          "solution": true,
          "task": false
        }
      },
      "source": [
        "q4b_answer = \"D\" #@param [\"A\", \"B\", \"C\", \"D\"]"
      ],
      "execution_count": null,
      "outputs": []
    },
    {
      "cell_type": "markdown",
      "metadata": {
        "deletable": false,
        "editable": false,
        "id": "Hl0mhywAn10h",
        "nbgrader": {
          "cell_type": "markdown",
          "checksum": "86dafc1c0efc504768ee31099ef5b8b3",
          "grade": false,
          "grade_id": "q4d",
          "locked": true,
          "schema_version": 3,
          "solution": false,
          "task": false
        }
      },
      "source": [
        "<b> (c) You are concerned that the categories you used to measure college major are too broad to truly capture a student's choice in major. You suspect that Economics majors may earn much more than Sociology majors, even though both would be categorized as \"Social Science\" in your measurement schema. What kind of error are you worried about? </b>\n",
        "\n",
        "<ol type=\"A\">\n",
        "<li>Random Error</li>\n",
        "<li>Systematic Error</li>\n",
        "<li>Error of Validity</li>\n",
        "<li>Error of Exclusion</li>\n",
        "<li>A & B</li>\n",
        "</ol>"
      ]
    },
    {
      "cell_type": "code",
      "metadata": {
        "deletable": false,
        "id": "3s1C77G_n10h",
        "nbgrader": {
          "cell_type": "code",
          "checksum": "2b1d5138f2094d99e4e3a582013540e4",
          "grade": false,
          "grade_id": "q4d-answer",
          "locked": false,
          "schema_version": 3,
          "solution": true,
          "task": false
        }
      },
      "source": [
        "q4c_answer = \"C\" #@param [\"A\", \"B\", \"C\", \"D\", \"E\"]"
      ],
      "execution_count": null,
      "outputs": []
    },
    {
      "cell_type": "markdown",
      "metadata": {
        "deletable": false,
        "editable": false,
        "id": "04AroLG9n10h",
        "nbgrader": {
          "cell_type": "markdown",
          "checksum": "595392af16932a01438af9bf3239a955",
          "grade": false,
          "grade_id": "q4e",
          "locked": true,
          "schema_version": 3,
          "solution": false,
          "task": false
        }
      },
      "source": [
        "<b>(d) You decide to test your suspicion by taking those who earn more than $60,000 per year and calculating how many are Sociology majors and how many are Economics majors. This is an example of:</b>\n",
        "\n",
        "<ol type=\"A\">\n",
        "<li>A natural experiment</li>\n",
        "<li>Selection on the independent variable</li>\n",
        "<li>Selection on the dependent variable</li>\n",
        "<li>Confounding</li>\n",
        "</ol>"
      ]
    },
    {
      "cell_type": "code",
      "metadata": {
        "deletable": false,
        "id": "II8T17TGn10h",
        "nbgrader": {
          "cell_type": "code",
          "checksum": "b378b550b6e71804bd8990a3a6704f1d",
          "grade": false,
          "grade_id": "q4e-answer",
          "locked": false,
          "schema_version": 3,
          "solution": true,
          "task": false
        }
      },
      "source": [
        "q4d_answer = \"C\" #@param [\"A\", \"B\", \"C\", \"D\"]"
      ],
      "execution_count": null,
      "outputs": []
    },
    {
      "cell_type": "markdown",
      "metadata": {
        "deletable": false,
        "editable": false,
        "id": "Vp3rfN6un10h",
        "nbgrader": {
          "cell_type": "markdown",
          "checksum": "804295a47175352da36492d1b1d369ac",
          "grade": false,
          "grade_id": "q5",
          "locked": true,
          "schema_version": 3,
          "solution": false,
          "task": false
        }
      },
      "source": [
        "## <u>Question 5: Evaluating existing research</u>\n",
        "\n",
        "*You decide to read around the subject of college major and income before you proceed with your research. The following questions refer to the study described in this article: [The Economic Guide to Picking a College Major](https://fivethirtyeight.com/features/the-economic-guide-to-picking-a-college-major/).*"
      ]
    },
    {
      "cell_type": "markdown",
      "metadata": {
        "id": "BDna8BjhSTp7"
      },
      "source": [
        "**(a) The above article discusses median earnings by major. However, it does not mention gender, even though other studies have documented pay disparities by gender and variation in major choice by gender. In the relationship between major choice and income, gender may be implicated in _____.**\n",
        "\n",
        "<ol type=\"A\">\n",
        "<li>Reverse causation</li>\n",
        "<li>Selection bias</li>\n",
        "<li>Confounding</li>\n",
        "<li>Endogeneity</li>\n",
        "</ol>"
      ]
    },
    {
      "cell_type": "code",
      "metadata": {
        "id": "k1fIMeVTS6Bp"
      },
      "source": [
        "q5a_answer = \"C\" #@param [\"A\", \"B\", \"C\", \"D\"]"
      ],
      "execution_count": null,
      "outputs": []
    },
    {
      "cell_type": "markdown",
      "metadata": {
        "id": "XJToEtxiTFYZ"
      },
      "source": [
        "**(b) The article states \"if you study drama, be prepared to wait tables.\" This language implies ____.**\n",
        "\n",
        "<ol type=\"A\">\n",
        "<li>Selection on the dependent variable</li>\n",
        "<li>Deterministic causality</li>\n",
        "<li>Probabilistic causality</li>\n",
        "<li>Reverse causality</li>\n",
        "</ol>\n"
      ]
    },
    {
      "cell_type": "code",
      "metadata": {
        "id": "A54JRdiu5pdy"
      },
      "source": [
        "q5b_answer = \"B\" #@param [\"A\", \"B\", \"C\", \"D\"]"
      ],
      "execution_count": null,
      "outputs": []
    },
    {
      "cell_type": "markdown",
      "metadata": {
        "id": "k1YAMld24cCG"
      },
      "source": [
        "**(c) In the text cell below, name a \"third variable\" that may explain, or at least partly explain, both income and major choice. You may not name gender.**"
      ]
    },
    {
      "cell_type": "markdown",
      "metadata": {
        "id": "OxPRVd6B4pvj"
      },
      "source": [
        "race"
      ]
    },
    {
      "cell_type": "markdown",
      "metadata": {
        "id": "IFAhlq6X7xxY"
      },
      "source": [
        "**(d) The article states \"Engineering majors, unsurprisingly, are among the least likely to be underemployed, but they are joined by majors in the education and natural science fields.\" How is \"underemployed\" conceptualized, according to the article?**\n",
        "\n",
        "<ol type=\"A\">\n",
        "<li>Earning a below-average wage</li>\n",
        "<li>Working less than 35 hours per week</li>\n",
        "<li>Not attending graduate school</li>\n",
        "<li>Having a job that does not require a college degree</li>\n",
        "</ol>"
      ]
    },
    {
      "cell_type": "code",
      "metadata": {
        "deletable": false,
        "id": "QYG4c4L9n10i",
        "nbgrader": {
          "cell_type": "code",
          "checksum": "03a2421613fb2e8f00312f28f8c3d752",
          "grade": false,
          "grade_id": "q5b-answer",
          "locked": false,
          "schema_version": 3,
          "solution": true,
          "task": false
        }
      },
      "source": [
        "q5d_answer = \"D\" #@param [\"A\", \"B\", \"C\", \"D\"]"
      ],
      "execution_count": null,
      "outputs": []
    },
    {
      "cell_type": "markdown",
      "metadata": {
        "deletable": false,
        "editable": false,
        "id": "AD7zdWmRn10j",
        "nbgrader": {
          "cell_type": "markdown",
          "checksum": "c235e5ec220d236aff373a070b981f64",
          "grade": false,
          "grade_id": "q6",
          "locked": true,
          "schema_version": 3,
          "solution": false,
          "task": false
        }
      },
      "source": [
        "## <u>Question 6: Working with a dataset</u>\n",
        "*It's time to do your own research! You decide not to conduct a survey yourself, but to instead analyze some existing data. You decide to use the data produced by FiveThirtyEight for the article \"The Economic Guide to Picking a College Major\" (see Question 5 for a link to this article), which is derived from the American Community Survey.*"
      ]
    },
    {
      "cell_type": "markdown",
      "metadata": {
        "deletable": false,
        "editable": false,
        "id": "xdgkZyo3n10j",
        "nbgrader": {
          "cell_type": "markdown",
          "checksum": "864e14df3b05b4b8c7e0094cbe050fb4",
          "grade": false,
          "grade_id": "q6a",
          "locked": true,
          "schema_version": 3,
          "solution": false,
          "task": false
        }
      },
      "source": [
        "<b> (a) A version of this dataset, `major.csv`, is stored in our course Github repository. We have provided starter code that imports Pandas and then stores the path to the `major.csv` file in a string variable called `file_path`. Use this string along with Pandas' `read_csv()` function to load the dataset and store its contents in a DataFrame called `data`.</b> \n",
        "\n",
        "(*Note, refer to exercise 2.4 and the accompanying TA video. This a key skill for data science.*)"
      ]
    },
    {
      "cell_type": "code",
      "metadata": {
        "deletable": false,
        "id": "2klk77tGn10j",
        "nbgrader": {
          "cell_type": "code",
          "checksum": "c9ad717037e00907d2b8aab062c9720e",
          "grade": false,
          "grade_id": "q6a-answer",
          "locked": false,
          "schema_version": 3,
          "solution": true,
          "task": false
        }
      },
      "source": [
        "import pandas as pd\n",
        "\n",
        "file_path = \"https://raw.githubusercontent.com/george-wood/DS4E/main/data/major.csv\"\n",
        "data = pd.read_csv(file_path)"
      ],
      "execution_count": null,
      "outputs": []
    },
    {
      "cell_type": "markdown",
      "metadata": {
        "deletable": false,
        "editable": false,
        "id": "3ZUdaI5Kn10j",
        "nbgrader": {
          "cell_type": "markdown",
          "checksum": "c5f2b14598376e5b6b5a32c73f535968",
          "grade": false,
          "grade_id": "q6b",
          "locked": true,
          "schema_version": 3,
          "solution": false,
          "task": false
        }
      },
      "source": [
        "<b> (b) Inspect the first 4 rows of the data using Pandas' `head()` function to make sure it imported properly.</b>"
      ]
    },
    {
      "cell_type": "code",
      "metadata": {
        "deletable": false,
        "id": "VE17ZBxQn10j",
        "nbgrader": {
          "cell_type": "code",
          "checksum": "a6bec170d704a68f41ada5707d9ac2f3",
          "grade": false,
          "grade_id": "q6b-answer",
          "locked": false,
          "schema_version": 3,
          "solution": true,
          "task": false
        },
        "colab": {
          "base_uri": "https://localhost:8080/"
        },
        "outputId": "048d5ba3-dbca-4c03-e2ac-e8b1d4882d0c"
      },
      "source": [
        "print(data.head(4))"
      ],
      "execution_count": null,
      "outputs": [
        {
          "output_type": "stream",
          "text": [
            "   Rank  Major_code_number  ... Non_college_jobs  Low_wage_jobs\n",
            "0     1               2419  ...              364            193\n",
            "1     2               2416  ...              257             50\n",
            "2     3               2415  ...              176              0\n",
            "3     4               2417  ...              102              0\n",
            "\n",
            "[4 rows x 21 columns]\n"
          ],
          "name": "stdout"
        }
      ]
    },
    {
      "cell_type": "markdown",
      "metadata": {
        "deletable": false,
        "editable": false,
        "id": "D6RLbnWNn10j",
        "nbgrader": {
          "cell_type": "markdown",
          "checksum": "19fbe1b94caa52b3994fd5f7548cd5c5",
          "grade": false,
          "grade_id": "q6c",
          "locked": true,
          "schema_version": 3,
          "solution": false,
          "task": false
        }
      },
      "source": [
        "**(c) Use whatever code you like to find out how many rows and columns there are in this dataset, and then assign the number of rows to a variable called `num_rows` and the number of columns to a variable called `num_cols`.**"
      ]
    },
    {
      "cell_type": "code",
      "metadata": {
        "deletable": false,
        "id": "54XiDpinn10j",
        "nbgrader": {
          "cell_type": "code",
          "checksum": "7cd3fa948b2efbcb6e4b27a70d7aefd1",
          "grade": false,
          "grade_id": "q6c-answer",
          "locked": false,
          "schema_version": 3,
          "solution": true,
          "task": false
        },
        "colab": {
          "base_uri": "https://localhost:8080/",
          "height": 198
        },
        "outputId": "5e3acea8-a1d4-4def-c2cb-789a414e505d"
      },
      "source": [
        "num_rows=len(data)\n",
        "num_col=data.shape\n",
        "print(num_rows,num_cols)"
      ],
      "execution_count": null,
      "outputs": [
        {
          "output_type": "error",
          "ename": "NameError",
          "evalue": "ignored",
          "traceback": [
            "\u001b[0;31m---------------------------------------------------------------------------\u001b[0m",
            "\u001b[0;31mNameError\u001b[0m                                 Traceback (most recent call last)",
            "\u001b[0;32m<ipython-input-3-8fb7833f0377>\u001b[0m in \u001b[0;36m<module>\u001b[0;34m()\u001b[0m\n\u001b[1;32m      1\u001b[0m \u001b[0mnum_rows\u001b[0m\u001b[0;34m=\u001b[0m\u001b[0mlen\u001b[0m\u001b[0;34m(\u001b[0m\u001b[0mdata\u001b[0m\u001b[0;34m)\u001b[0m\u001b[0;34m\u001b[0m\u001b[0;34m\u001b[0m\u001b[0m\n\u001b[1;32m      2\u001b[0m \u001b[0mnum_col\u001b[0m\u001b[0;34m=\u001b[0m\u001b[0mdata\u001b[0m\u001b[0;34m.\u001b[0m\u001b[0mshape\u001b[0m\u001b[0;34m\u001b[0m\u001b[0;34m\u001b[0m\u001b[0m\n\u001b[0;32m----> 3\u001b[0;31m \u001b[0mprint\u001b[0m\u001b[0;34m(\u001b[0m\u001b[0mnum_rows\u001b[0m\u001b[0;34m,\u001b[0m\u001b[0mnum_cols\u001b[0m\u001b[0;34m)\u001b[0m\u001b[0;34m\u001b[0m\u001b[0;34m\u001b[0m\u001b[0m\n\u001b[0m",
            "\u001b[0;31mNameError\u001b[0m: name 'num_cols' is not defined"
          ]
        }
      ]
    },
    {
      "cell_type": "markdown",
      "metadata": {
        "deletable": false,
        "editable": false,
        "id": "JV_fFSzun10j",
        "nbgrader": {
          "cell_type": "markdown",
          "checksum": "426912370ae51b4cac2a905b82fc904f",
          "grade": false,
          "grade_id": "q6d",
          "locked": true,
          "schema_version": 3,
          "solution": false,
          "task": false
        }
      },
      "source": [
        "<b> (d) The output of question 6c tells us what about the dataset? </b>\n",
        "<ol type=\"A\">\n",
        "<li>There are 21 observations</li>\n",
        "<li>There are 21 variables</li>\n",
        "<li>There are 173 observations</li>\n",
        "<li>There are 173 variables</li>\n",
        "<li>A and D</li>\n",
        "<li>B and C</li>\n",
        "</ol>\n",
        "\n",
        "\n"
      ]
    },
    {
      "cell_type": "code",
      "metadata": {
        "deletable": false,
        "id": "AIERaKb8n10j",
        "nbgrader": {
          "cell_type": "code",
          "checksum": "cbe0d84a8e6a6741e085dcc75db7d493",
          "grade": false,
          "grade_id": "q6d-answer",
          "locked": false,
          "schema_version": 3,
          "solution": true,
          "task": false
        }
      },
      "source": [
        "q6d_answer = \"F\" #@param [\"A\", \"B\", \"C\", \"D\", \"E\", \"F\"]"
      ],
      "execution_count": null,
      "outputs": []
    },
    {
      "cell_type": "markdown",
      "metadata": {
        "deletable": false,
        "editable": false,
        "id": "dX2C2S04n10k",
        "nbgrader": {
          "cell_type": "markdown",
          "checksum": "bbab7e76c1d8761ff246964e87b3a180",
          "grade": false,
          "grade_id": "q6e",
          "locked": true,
          "schema_version": 3,
          "solution": false,
          "task": false
        }
      },
      "source": [
        "**(e) When we inspected the dataset using Pandas' `head()` function in Question 6b, we cannot see all of the columns without scrolling (unless your screen is very wide). Write a line of code that prints all of the column names in `data`.**"
      ]
    },
    {
      "cell_type": "code",
      "metadata": {
        "deletable": false,
        "id": "o6qF-G3zn10k",
        "nbgrader": {
          "cell_type": "code",
          "checksum": "f37585e7445b51d75ac4ceab7a1f5d65",
          "grade": false,
          "grade_id": "q6e-answer",
          "locked": false,
          "schema_version": 3,
          "solution": true,
          "task": false
        },
        "colab": {
          "base_uri": "https://localhost:8080/"
        },
        "outputId": "7a3016fb-b141-4451-f70f-a27b93eeffd3"
      },
      "source": [
        "print([column for column in data])"
      ],
      "execution_count": null,
      "outputs": [
        {
          "output_type": "stream",
          "text": [
            "['Rank', 'Major_code_number', 'Major', 'Total', 'Men', 'Women', 'Major_category_broad', 'ShareWomen', 'Sample_size', 'Employed', 'Full_time_employed', 'Part_time', 'Full_time_year_round', 'Number_that_are_Unemployed', 'Unemployment_rate', 'Median', 'P25th', 'P75th', 'College_jobs', 'Non_college_jobs', 'Low_wage_jobs']\n"
          ],
          "name": "stdout"
        }
      ]
    },
    {
      "cell_type": "markdown",
      "metadata": {
        "deletable": false,
        "editable": false,
        "id": "g8VvsSB8n10k",
        "nbgrader": {
          "cell_type": "markdown",
          "checksum": "c0c7664321cb94e2a5d7f1c579dbe080",
          "grade": false,
          "grade_id": "q6g",
          "locked": true,
          "schema_version": 3,
          "solution": false,
          "task": false
        }
      },
      "source": [
        "**<b> (f) Review your answer to Question 6b, where you printed the head of the dataset. Look at those who majored in metallurgical engineering. In the code cell below, calculate the percentage of employed people who majored in metallurgical engineering and work part-time.**"
      ]
    },
    {
      "cell_type": "code",
      "metadata": {
        "id": "IYEwuon-_xJ-",
        "colab": {
          "base_uri": "https://localhost:8080/"
        },
        "outputId": "2de2c7e9-4a71-4fec-bc3f-1ca03408ba95"
      },
      "source": [
        "percentage=(133/648)*100\n",
        "print(percentage)"
      ],
      "execution_count": null,
      "outputs": [
        {
          "output_type": "stream",
          "text": [
            "20.52469135802469\n"
          ],
          "name": "stdout"
        }
      ]
    },
    {
      "cell_type": "markdown",
      "metadata": {
        "deletable": false,
        "editable": false,
        "id": "neS1UDs5n10k",
        "nbgrader": {
          "cell_type": "markdown",
          "checksum": "cac3480499e21727c54f23b7059d485a",
          "grade": false,
          "grade_id": "q6h",
          "locked": true,
          "schema_version": 3,
          "solution": false,
          "task": false
        }
      },
      "source": [
        "<b> (g) Some majors have a small sample size. That is, there are very few respondents in the survey who report majoring in that subject. What problem could we run into when making inferences about income?</b>\n",
        "\n",
        "<ol type=\"A\">\n",
        "<li>Employers may not be familiar with these majors on resumes and this may result in worse employment outcomes</li>\n",
        "<li>Selection on the dependent variable</li>\n",
        "<li>The respondents may not be representative of the broader population who majored in that subject</li>\n",
        "<li>There is no problem with having a small sample size</li>\n",
        "</ol>"
      ]
    },
    {
      "cell_type": "code",
      "metadata": {
        "deletable": false,
        "id": "BO9zdcnWn10k",
        "nbgrader": {
          "cell_type": "code",
          "checksum": "41fcd3eb5ba6c8dcc996716a7ccccd96",
          "grade": false,
          "grade_id": "q6h-answer",
          "locked": false,
          "schema_version": 3,
          "solution": true,
          "task": false
        }
      },
      "source": [
        "q6g_answer = \"C\" #@param [\"A\", \"B\", \"C\", \"D\"]"
      ],
      "execution_count": null,
      "outputs": []
    },
    {
      "cell_type": "markdown",
      "metadata": {
        "deletable": false,
        "editable": false,
        "id": "qDFrZMk2n10l",
        "nbgrader": {
          "cell_type": "markdown",
          "checksum": "e59a676105153784838bdf9f98342224",
          "grade": false,
          "grade_id": "q7",
          "locked": true,
          "schema_version": 3,
          "solution": false,
          "task": false
        }
      },
      "source": [
        "## <u>Question 7: Cleaning the data & preparing for analysis</u>\n",
        "*Finally! You now begin to explore the dataset. (Also, we are almost there, I promise. This is such important practice!)*"
      ]
    },
    {
      "cell_type": "markdown",
      "metadata": {
        "deletable": false,
        "editable": false,
        "id": "n9hxK3jxn10l",
        "nbgrader": {
          "cell_type": "markdown",
          "checksum": "d43b6fb33f4aa4d71a145a14772447cc",
          "grade": false,
          "grade_id": "q7a",
          "locked": true,
          "schema_version": 3,
          "solution": false,
          "task": false
        }
      },
      "source": [
        "<b> (a) In data science, it is common to rename variables we expect to use often in order to make them easier to reference. Rename the following variables exactly as indicated:</b>\n",
        "\n",
        "* \"Major_code_number\" as \"major_code\"\n",
        "* \"Major_category_broad\" as \"major_category\"\n",
        "* \"Number_that_are_Unemployed\" as \"unemployed\"\n",
        "\n",
        "**Print the column names afterward to ensure that your renaming worked.**\n",
        "\n",
        "*(Hint: Refer to this question on [Stack Overflow](https://stackoverflow.com/questions/19758364/rename-specific-columns-in-pandas) and the answers. Pay attention to case, i.e. upper case and lower case letters)*"
      ]
    },
    {
      "cell_type": "code",
      "metadata": {
        "id": "X4AIDqnNLlHG",
        "colab": {
          "base_uri": "https://localhost:8080/"
        },
        "outputId": "abbb03aa-c853-4f6f-95d0-2200b8f5dfca"
      },
      "source": [
        "data.rename(columns={'Major_code_number':'major_code', 'Major_category_broad':'major_category','Number_that_are_Unemployed':'unemployed'}, inplace = True)\n",
        "print([column for column in data])"
      ],
      "execution_count": null,
      "outputs": [
        {
          "output_type": "stream",
          "text": [
            "['Rank', 'major_code', 'Major', 'Total', 'Men', 'Women', 'major_category', 'ShareWomen', 'Sample_size', 'Employed', 'Full_time_employed', 'Part_time', 'Full_time_year_round', 'unemployed', 'Unemployment_rate', 'Median', 'P25th', 'P75th', 'College_jobs', 'Non_college_jobs', 'Low_wage_jobs']\n"
          ],
          "name": "stdout"
        }
      ]
    },
    {
      "cell_type": "markdown",
      "metadata": {
        "id": "XGHjruUeYnLX"
      },
      "source": [
        "**(b) Use the `describe()` method in Pandas to generate summary statistics (mean, standard deviation, etc.) on the `Median` variable. The `Median` is the median salary. Then, use the information to store the minimum median income in a variable called `minimum_median_income`.**"
      ]
    },
    {
      "cell_type": "code",
      "metadata": {
        "id": "9zfPLe-0Y_K9"
      },
      "source": [
        "minimum_median_income = data.describe()['Median']['min']"
      ],
      "execution_count": null,
      "outputs": []
    },
    {
      "cell_type": "markdown",
      "metadata": {
        "deletable": false,
        "editable": false,
        "id": "Gip48SpPn10l",
        "nbgrader": {
          "cell_type": "markdown",
          "checksum": "dac673cc5780817ab0197113d5915c39",
          "grade": false,
          "grade_id": "q7c",
          "locked": true,
          "schema_version": 3,
          "solution": false,
          "task": false
        }
      },
      "source": [
        "<b> (c) Write one line of code to create a new Pandas DataFrame, which you should call `arts`, containing only rows where the major category is \"Arts\". Then write a second line of code that displays the first 10 rows of `arts`."
      ]
    },
    {
      "cell_type": "code",
      "metadata": {
        "deletable": false,
        "id": "9lgYlZKUn10l",
        "nbgrader": {
          "cell_type": "code",
          "checksum": "4ff7e992326628e64e6dd43ff6b45b31",
          "grade": false,
          "grade_id": "q7c-answer",
          "locked": false,
          "schema_version": 3,
          "solution": true,
          "task": false
        },
        "colab": {
          "base_uri": "https://localhost:8080/"
        },
        "outputId": "7c4128c4-5627-4c40-fcc6-3b82069eaefa"
      },
      "source": [
        "arts = pd.DataFrame(data[ data['Major'].str.contains('ARTS')])\n",
        "print(arts.head(10))"
      ],
      "execution_count": null,
      "outputs": [
        {
          "output_type": "stream",
          "text": [
            "     Rank  major_code  ... Non_college_jobs  Low_wage_jobs\n",
            "32     33        6099  ...             1714            755\n",
            "140   141        3401  ...            28558           9030\n",
            "141   142        6005  ...            20721           5862\n",
            "149   150        6000  ...            32725          11880\n",
            "153   154        6003  ...             7635           2840\n",
            "159   160        6007  ...             8707           3586\n",
            "160   161        2201  ...             7384           3163\n",
            "166   167        6001  ...            25313          11068\n",
            "\n",
            "[8 rows x 21 columns]\n"
          ],
          "name": "stdout"
        }
      ]
    },
    {
      "cell_type": "markdown",
      "metadata": {
        "deletable": false,
        "editable": false,
        "id": "IVe7yDDnn10l",
        "nbgrader": {
          "cell_type": "markdown",
          "checksum": "a19506e573617f2ebff89283b8595bb0",
          "grade": false,
          "grade_id": "q7d",
          "locked": true,
          "schema_version": 3,
          "solution": false,
          "task": false
        }
      },
      "source": [
        "<b> (d) Find the major in `arts` with the lowest median salary by writing one line of code that sorts the data by the `Median` column (here your code must use the `ascending` argument) and displays the first five rows, such that the first row displayed corresponds to the arts major with the lowest median income."
      ]
    },
    {
      "cell_type": "code",
      "metadata": {
        "deletable": false,
        "id": "FNoHKptUn10l",
        "nbgrader": {
          "cell_type": "code",
          "checksum": "7ba729146f74a0f7087b1687d9d79fa2",
          "grade": false,
          "grade_id": "q7d-answer",
          "locked": false,
          "schema_version": 3,
          "solution": true,
          "task": false
        },
        "colab": {
          "base_uri": "https://localhost:8080/"
        },
        "outputId": "1dc1444a-ce41-45d0-a718-0249fe7b9a9d"
      },
      "source": [
        "arts_median = arts.sort_values(by='Median',ascending=True)\n",
        "print(arts_median.head(10))"
      ],
      "execution_count": null,
      "outputs": [
        {
          "output_type": "stream",
          "text": [
            "     Rank  major_code  ... Non_college_jobs  Low_wage_jobs\n",
            "166   167        6001  ...            25313          11068\n",
            "159   160        6007  ...             8707           3586\n",
            "160   161        2201  ...             7384           3163\n",
            "153   154        6003  ...             7635           2840\n",
            "149   150        6000  ...            32725          11880\n",
            "140   141        3401  ...            28558           9030\n",
            "141   142        6005  ...            20721           5862\n",
            "32     33        6099  ...             1714            755\n",
            "\n",
            "[8 rows x 21 columns]\n"
          ],
          "name": "stdout"
        }
      ]
    },
    {
      "cell_type": "markdown",
      "metadata": {
        "deletable": false,
        "editable": false,
        "id": "Xvkit-ern10l",
        "nbgrader": {
          "cell_type": "markdown",
          "checksum": "29c9f8923ecbe359a190af635b83c1e5",
          "grade": false,
          "grade_id": "q7e",
          "locked": true,
          "schema_version": 3,
          "solution": false,
          "task": false
        }
      },
      "source": [
        "<b> (e) Find the major in `arts` with the highest unemployment rate by writing one line of code that sorts the data by the `Unemployment_rate` column (again using the `ascending` argument) and displays the first five rows, where this time the first row displayed corresponds to the arts major with the highest unemployment rate."
      ]
    },
    {
      "cell_type": "code",
      "metadata": {
        "deletable": false,
        "id": "dLMSlblrn10l",
        "nbgrader": {
          "cell_type": "code",
          "checksum": "2b67c4a126d332678e92740a5599ee9c",
          "grade": false,
          "grade_id": "q7e-answer",
          "locked": false,
          "schema_version": 3,
          "solution": true,
          "task": false
        },
        "colab": {
          "base_uri": "https://localhost:8080/"
        },
        "outputId": "2bb3a698-0e4a-422e-b9d8-1da36e20fa23"
      },
      "source": [
        "arts_unrate = arts.sort_values(by='Unemployment_rate',ascending=True)\n",
        "print(arts_unrate.head(5))"
      ],
      "execution_count": null,
      "outputs": [
        {
          "output_type": "stream",
          "text": [
            "     Rank  major_code  ... Non_college_jobs  Low_wage_jobs\n",
            "160   161        2201  ...             7384           3163\n",
            "166   167        6001  ...            25313          11068\n",
            "140   141        3401  ...            28558           9030\n",
            "149   150        6000  ...            32725          11880\n",
            "32     33        6099  ...             1714            755\n",
            "\n",
            "[5 rows x 21 columns]\n"
          ],
          "name": "stdout"
        }
      ]
    },
    {
      "cell_type": "markdown",
      "metadata": {
        "deletable": false,
        "editable": false,
        "id": "lxh02EqWn10m",
        "nbgrader": {
          "cell_type": "markdown",
          "checksum": "fe411d64bed797abd21cb1c464a63031",
          "grade": false,
          "grade_id": "footer",
          "locked": true,
          "schema_version": 3,
          "solution": false,
          "task": false
        }
      },
      "source": [
        "## End of Homework\n",
        "\n",
        "Be sure to submit this file according to the instructions at the top of this notebook. Well done for completing this assignment."
      ]
    }
  ]
}