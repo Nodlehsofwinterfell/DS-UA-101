{
  "nbformat": 4,
  "nbformat_minor": 0,
  "metadata": {
    "colab": {
      "name": "DS4E_Homework_3(1).ipynb",
      "provenance": [],
      "collapsed_sections": []
    },
    "kernelspec": {
      "name": "python3",
      "display_name": "Python 3.8.5 64-bit ('base': conda)"
    },
    "language_info": {
      "name": "python",
      "version": "3.8.5"
    },
    "interpreter": {
      "hash": "01065c532287b8fd1ae265fc635b47ec767016c68650f4a2c7c86054772a9f41"
    }
  },
  "cells": [
    {
      "cell_type": "markdown",
      "metadata": {
        "id": "keAu8_tzgyW6"
      },
      "source": [
        "# <center>DS4E, Summer 2021: Homework 3<center>\n",
        "\n",
        "This homework is due on **Monday**, **June 21**, by **9am EDT**. The homework is worth **30 points**, or 10% of the course grade. You can earn one point per sub-question, unless otherwise stated. The course academic integrity policy applies to every homework, including this one.\n",
        "\n",
        "## Instructions\n",
        "\n",
        "This homework contains **multiple choice** and **programming** questions. \n",
        "\n",
        "Multiple choice questions:\n",
        "\n",
        "* Select your answer from the dropdown menu.\n",
        "\n",
        "Programming questions:\n",
        "* If you see a `...` in the cell below the question, simply replace the `...` with your code.\n",
        "* If the cell is blank, write the full code yourself.\n",
        "\n",
        "Notes:\n",
        "* Some questions refer to external articles that you can find by clicking on the links provided.\n",
        "* Save your work as you go.\n",
        "* If you create additional code cells for scratch work, please **remove them before submission**. Your submission should not include any additional code cells. This enables us to grade your submission in a timely manner.\n",
        "\n",
        "## Submission\n",
        "\n",
        "To submit this homework:\n",
        "1. Download a copy as an .ipynb file by going to \"File > Download > Download .ipynb\"\n",
        "2. You must then upload the .ipynb file as your submission for Homework 3 under the Assignments tab on Brightspace.    \n",
        "3. **Before submission, please rename your .ipynb file using the following format: \"hw3_your_name.ipynb\" (replacing your_name with your actual name)**"
      ]
    },
    {
      "cell_type": "markdown",
      "metadata": {
        "id": "KRTlbubahrly"
      },
      "source": [
        "# <u>Question 1: Programming Practice — Functions</u>\n"
      ]
    },
    {
      "cell_type": "markdown",
      "metadata": {
        "id": "IGDTBMUjom9I"
      },
      "source": [
        "**(a) Write a function that raises a numeric variable `x` to the power of 2. Call the function `squared`.**  "
      ]
    },
    {
      "cell_type": "code",
      "metadata": {
        "id": "7ckx_HI6pNe4"
      },
      "source": [
        "def squared(x):\n",
        "  return x*x"
      ],
      "execution_count": null,
      "outputs": []
    },
    {
      "cell_type": "markdown",
      "metadata": {
        "id": "IsL6fyP3pJUv"
      },
      "source": [
        "**(b) Test your function by passing to it the integer 5. Make sure you print the output.**"
      ]
    },
    {
      "cell_type": "code",
      "metadata": {
        "id": "0fPPKoSLpN0e",
        "colab": {
          "base_uri": "https://localhost:8080/"
        },
        "outputId": "1a4e8673-a8a3-43d2-edbd-34c2222c6d21"
      },
      "source": [
        "print(squared(5))"
      ],
      "execution_count": null,
      "outputs": [
        {
          "output_type": "stream",
          "text": [
            "25\n"
          ],
          "name": "stdout"
        }
      ]
    },
    {
      "cell_type": "markdown",
      "metadata": {
        "id": "-P-qLYsGpPUp"
      },
      "source": [
        "**(c) Write a function that returns `True` if the square of a given numeric variable `x` is positive and returns `False` otherwise. Call this function `square_is_positive`. You should use the `squared` function you created for question 1(a) in your answer to this question.**"
      ]
    },
    {
      "cell_type": "code",
      "metadata": {
        "id": "Qw4tx9r0pOr5"
      },
      "source": [
        "def square_is_positive(x):\n",
        "  if x:\n",
        "    return True\n",
        "  else:\n",
        "    return False"
      ],
      "execution_count": null,
      "outputs": []
    },
    {
      "cell_type": "markdown",
      "metadata": {
        "id": "pmiHaPZ-qReb"
      },
      "source": [
        "**(d) Test your function `square_is_positive` by passing to it the integer -3.**"
      ]
    },
    {
      "cell_type": "code",
      "metadata": {
        "id": "H0DJKTGgqc8e",
        "colab": {
          "base_uri": "https://localhost:8080/"
        },
        "outputId": "5f5f0126-9d41-4028-de12-cd5fd8d74e76"
      },
      "source": [
        "square_is_positive(-3)"
      ],
      "execution_count": null,
      "outputs": [
        {
          "output_type": "execute_result",
          "data": {
            "text/plain": [
              "True"
            ]
          },
          "metadata": {
            "tags": []
          },
          "execution_count": 2
        }
      ]
    },
    {
      "cell_type": "markdown",
      "metadata": {
        "id": "hz5lLsM3BMiH"
      },
      "source": [
        "**(e) Write a function that takes a NumPy array, raises each element in the array to the *n*th power, and then takes the sum of the resulting array. Call your function `raise_and_sum`. We have provided an array called `my_array` that you should pass to this function.**\n",
        "\n",
        "*Hint: your function will need two arguments; you will pass your array to the first argument and the power, n, to the second argument.*"
      ]
    },
    {
      "cell_type": "code",
      "metadata": {
        "id": "hfqmNaMtBliG"
      },
      "source": [
        "import numpy as np\n",
        "my_array = np.array([1, 2, 3, 4])\n",
        "def raise_and_sum(my_array, n):\n",
        "    return sum(my_array**n)"
      ],
      "execution_count": null,
      "outputs": []
    },
    {
      "cell_type": "markdown",
      "metadata": {
        "id": "oZ6rxtobDbrn"
      },
      "source": [
        "**(f) Test your `raise_and_sum` function by passing `my_array` to it and raising to the 5th power.**\n",
        "\n",
        "*Hint: The output should be 1300*\n",
        "\n"
      ]
    },
    {
      "cell_type": "code",
      "metadata": {
        "id": "9IcLJpAOBzcc",
        "colab": {
          "base_uri": "https://localhost:8080/"
        },
        "outputId": "46b8c1dc-5bf1-4222-c008-c0ae7a25d795"
      },
      "source": [
        "raise_and_sum(my_array,5)"
      ],
      "execution_count": null,
      "outputs": [
        {
          "output_type": "execute_result",
          "data": {
            "text/plain": [
              "1300"
            ]
          },
          "metadata": {
            "tags": []
          },
          "execution_count": 2
        }
      ]
    },
    {
      "cell_type": "markdown",
      "metadata": {
        "id": "koOjZtY9BqFw"
      },
      "source": [
        "## <u>Question 2: Programming Practice – Conditions</u>\n",
        "\n",
        "This set of questions relates to using conditions (if, elif, else, while) inside functions. See [this link](https://anh.cs.luc.edu/handsonPythonTutorial/ifstatements.html) for a useful reference."
      ]
    },
    {
      "cell_type": "markdown",
      "metadata": {
        "id": "HOGW6gakp6WB"
      },
      "source": [
        "**(a) Write a function that checks whether the square root of a given numeric variable `x` is less than 5. Call your function `sqrt_is_small`. Your function should return \"Yes\" if the square root of `x` is less than 5 and \"No\" otherwise.**\n",
        "\n",
        "*Note: we import math here for the function math.sqrt()*"
      ]
    },
    {
      "cell_type": "code",
      "metadata": {
        "id": "t3MWHyxcxL6F"
      },
      "source": [
        "import math\n",
        "def sqrt_is_small(x):\n",
        "    if math.sqrt(x) <5:\n",
        "        return \"Yes\"\n",
        "    else :\n",
        "        return \"No\""
      ],
      "execution_count": null,
      "outputs": []
    },
    {
      "cell_type": "markdown",
      "metadata": {
        "id": "2AnjS5mYylPj"
      },
      "source": [
        "**(b) Test your function `sqrt_is_small` by passing to it the number 9 and then, in a second line of code, the number 36. Print the output in both cases.**"
      ]
    },
    {
      "cell_type": "code",
      "metadata": {
        "id": "Qgd6jwxGykyt",
        "colab": {
          "base_uri": "https://localhost:8080/"
        },
        "outputId": "f1b7c1e4-81d8-44b8-b5b7-9ddcac606029"
      },
      "source": [
        "print(sqrt_is_small(9))\n",
        "print(sqrt_is_small(36))\n"
      ],
      "execution_count": null,
      "outputs": [
        {
          "output_type": "stream",
          "text": [
            "Yes\n",
            "No\n"
          ],
          "name": "stdout"
        }
      ]
    },
    {
      "cell_type": "markdown",
      "metadata": {
        "id": "vjEQKth7FEE2"
      },
      "source": [
        "**(c) Below we've provided code that generates a random float between -5 and 5 and assigns that float to `x`. We've also created an object called `x_sign` which contains None. Write a function called `sign_of_number` that contains  [if and else](http://anh.cs.luc.edu/handsonPythonTutorial/ifstatements.html#if-else-statements) statements; your function should assign the string \"Positive\" to `x_sign` if `x` is positive and assigns \"Negative\" to `x_sign` otherwise. Your function should return `x_sign`.**\n",
        "\n",
        "*Note: In Python, None is frequently used to represent the absence of a value. You will need to make sure that `import numpy as np` has been run; see Q1(e).*"
      ]
    },
    {
      "cell_type": "code",
      "metadata": {
        "id": "9eLGtCZSFnNi"
      },
      "source": [
        "x = np.random.default_rng(seed=1917).uniform(-5,5)\n",
        "x_sign = None\n",
        "def sign_of_number(x):\n",
        "    x_sign = None\n",
        "    if x > 0 :\n",
        "        x_sign = \"Positive\"\n",
        "    else:\n",
        "        x_sign = \"Negative\"\n",
        "    return x_sign\n"
      ],
      "execution_count": null,
      "outputs": []
    },
    {
      "cell_type": "markdown",
      "metadata": {
        "id": "p-u8epJUGQzF"
      },
      "source": [
        "**(d) Run your `sign_of_number` function on `x` and assign the output to `x_sign`. Then print `x` and `x_sign` to check that it worked:**\n",
        "\n",
        "*Hint: You should see a float when you print `x`. You should see the string 'Positive' when you print `x_sign`.*"
      ]
    },
    {
      "cell_type": "code",
      "metadata": {
        "id": "oxdK3NdBFp-s",
        "colab": {
          "base_uri": "https://localhost:8080/"
        },
        "outputId": "19117f5c-afe5-480c-8ee9-e01cfe10dff1"
      },
      "source": [
        "x_sign = sign_of_number(x)\n",
        "print(x)\n",
        "print(x_sign)"
      ],
      "execution_count": null,
      "outputs": [
        {
          "output_type": "stream",
          "text": [
            "0.16599342386071747\n",
            "Positive\n"
          ],
          "name": "stdout"
        }
      ]
    },
    {
      "cell_type": "markdown",
      "metadata": {
        "id": "DH_RXNI7l2Cd"
      },
      "source": [
        "**(e) The `sign_of_number` function in 2(c) probably doesn't handle `x==0` appropriately. In the code cell below, modify your `sign_of_number` function from 2(c) to assign \"Zero\" to `x_sign` when `x == 0`.**\n",
        "\n",
        "*Hint: We recommend adding an `elif` condition to your function. (See the example in 4.1 [at this link](https://docs.python.org/3/tutorial/controlflow.html#more-control-flow-tools))*"
      ]
    },
    {
      "cell_type": "code",
      "metadata": {
        "id": "FmHaxfKtj0tU"
      },
      "source": [
        "def sign_of_number(x):\n",
        "    x_sign = None\n",
        "    if x > 0 :\n",
        "        x_sign = \"Positive\"\n",
        "    elif x == 0:\n",
        "        x_sign = \"Zero\"\n",
        "    else:\n",
        "        x_sign = \"Negative\"\n",
        "    return x_sign\n"
      ],
      "execution_count": null,
      "outputs": []
    },
    {
      "cell_type": "markdown",
      "metadata": {
        "id": "wngiyI5_0SkG"
      },
      "source": [
        "## <u>Question 3: Programming Practice – Loops</u>\n",
        "\n",
        "In this question you will practice writing while and for loops. Refer to Exercise 3.2 (under week 3 on Brightspace) for more on loops."
      ]
    },
    {
      "cell_type": "markdown",
      "metadata": {
        "id": "Fts9lTwmKzdX"
      },
      "source": [
        "**(a) We have created an object called `i` with the value initially set to 0. Write a `while` loop that, until the value of `i` *exceeds* 5, prints the value of `i` and then increases its value by 1.**"
      ]
    },
    {
      "cell_type": "code",
      "metadata": {
        "id": "9Jwl6YkzAOgz",
        "colab": {
          "base_uri": "https://localhost:8080/"
        },
        "outputId": "5e65dcf8-f51d-49aa-a190-7a5e2461561c"
      },
      "source": [
        "i = 0\n",
        "while i<=5:\n",
        "    print(i)\n",
        "    i+=1"
      ],
      "execution_count": null,
      "outputs": [
        {
          "output_type": "stream",
          "text": [
            "0\n",
            "1\n",
            "2\n",
            "3\n",
            "4\n",
            "5\n"
          ],
          "name": "stdout"
        }
      ]
    },
    {
      "cell_type": "markdown",
      "metadata": {
        "id": "-aD1_P7WWuOc"
      },
      "source": [
        "**(b) Modify the above `while` loop so that, instead of printing `i` itself, the loop prints \"Odd\" if the number is odd and \"Even\" if the number is even. As in 3(a), your loop should continue until `i` exceeds 5.**\n",
        "\n",
        "*Hint: Use an if statement and else statement inside your `while` loop. See [this answer](https://stackoverflow.com/a/21837247/4300478) on Stack Overflow for how to check if a number is even.*"
      ]
    },
    {
      "cell_type": "code",
      "metadata": {
        "id": "GDCD5gLHRYPl",
        "colab": {
          "base_uri": "https://localhost:8080/"
        },
        "outputId": "341099bb-24ba-4b0f-edd4-65395da4d89d"
      },
      "source": [
        "i = 0\n",
        "while i<=5:\n",
        "    print(end=' ')\n",
        "    if i & 1:\n",
        "        print('Odd')\n",
        "    else:\n",
        "        print('Even')\n",
        "    i+=1"
      ],
      "execution_count": 1,
      "outputs": [
        {
          "output_type": "stream",
          "text": [
            " Even\n",
            " Odd\n",
            " Even\n",
            " Odd\n",
            " Even\n",
            " Odd\n"
          ],
          "name": "stdout"
        }
      ]
    },
    {
      "cell_type": "markdown",
      "metadata": {
        "id": "z3sZdhsjK17x"
      },
      "source": [
        "**(c) Now modify the `while` loop from 3(a), but this time the loop should print the *i*th element in `my_list` instead of printing *i* directly. Your `while` loop should continue until all elements of my_list have been printed.**\n",
        "\n",
        "*Note: We have provided code to generate `my_list` below.*\n",
        "\n",
        "*Hint: You should use `len(my_list)` in the `while` condition to ensure that all elements are printed. This would allow you to pass a list of any length to the `while` loop and it would always print all elements.*"
      ]
    },
    {
      "cell_type": "code",
      "metadata": {
        "id": "AR6mJ_r0FwLa",
        "colab": {
          "base_uri": "https://localhost:8080/"
        },
        "outputId": "bbf0390e-cb31-41f9-aa6c-b07ba1c83ee7"
      },
      "source": [
        "my_list = [\"Monday\", \"Tuesday\", \"Wednesday\", \"Thursday\",\n",
        "           \"Friday\", \"Saturday\", \"Sunday\"]\n",
        "i = 0\n",
        "while i < len(my_list):\n",
        "    print(my_list[i])\n",
        "    i+=1\n"
      ],
      "execution_count": null,
      "outputs": [
        {
          "output_type": "stream",
          "text": [
            "Monday\n",
            "Tuesday\n",
            "Wednesday\n",
            "Thursday\n",
            "Friday\n",
            "Saturday\n",
            "Sunday\n"
          ],
          "name": "stdout"
        }
      ]
    },
    {
      "cell_type": "markdown",
      "metadata": {
        "id": "4yU0IJUxGbPN"
      },
      "source": [
        "**(d) Now re-write your answer for 3(c) using a `for` loop instead of a `while` loop. Your `for` loop should print the days of the week from `my_list`.**"
      ]
    },
    {
      "cell_type": "code",
      "metadata": {
        "id": "Nr8VKsSG9PTr",
        "colab": {
          "base_uri": "https://localhost:8080/"
        },
        "outputId": "401c3632-45c3-4d76-ae2e-c826c079f39d"
      },
      "source": [
        "for i in range(len(my_list)):\n",
        "    print(my_list[i])"
      ],
      "execution_count": null,
      "outputs": [
        {
          "output_type": "stream",
          "text": [
            "Monday\n",
            "Tuesday\n",
            "Wednesday\n",
            "Thursday\n",
            "Friday\n",
            "Saturday\n",
            "Sunday\n"
          ],
          "name": "stdout"
        }
      ]
    },
    {
      "cell_type": "markdown",
      "metadata": {
        "id": "_tR1cTIAMmvF"
      },
      "source": [
        "**(a) There is a dataset called 'age.csv' in our class Github repository. The file path is given. As in previous homeworks, read the csv data as a pandas DataFrame and assign it to an object called `ages`. Then print the first five rows using `head`.**"
      ]
    },
    {
      "cell_type": "code",
      "metadata": {
        "id": "bt-HiyvWq4ha",
        "colab": {
          "base_uri": "https://localhost:8080/",
          "height": 204
        },
        "outputId": "bb7d056f-7c6f-4c3d-8866-02c6d88b1c27"
      },
      "source": [
        "import pandas as pd\n",
        "file_path = \"https://raw.githubusercontent.com/george-wood/DS4E/main/data/age.csv\"\n",
        "ages = pd.read_csv(file_path)\n",
        "ages.head()\n"
      ],
      "execution_count": null,
      "outputs": [
        {
          "output_type": "execute_result",
          "data": {
            "text/html": [
              "<div>\n",
              "<style scoped>\n",
              "    .dataframe tbody tr th:only-of-type {\n",
              "        vertical-align: middle;\n",
              "    }\n",
              "\n",
              "    .dataframe tbody tr th {\n",
              "        vertical-align: top;\n",
              "    }\n",
              "\n",
              "    .dataframe thead th {\n",
              "        text-align: right;\n",
              "    }\n",
              "</style>\n",
              "<table border=\"1\" class=\"dataframe\">\n",
              "  <thead>\n",
              "    <tr style=\"text-align: right;\">\n",
              "      <th></th>\n",
              "      <th>age</th>\n",
              "    </tr>\n",
              "  </thead>\n",
              "  <tbody>\n",
              "    <tr>\n",
              "      <th>0</th>\n",
              "      <td>64</td>\n",
              "    </tr>\n",
              "    <tr>\n",
              "      <th>1</th>\n",
              "      <td>65</td>\n",
              "    </tr>\n",
              "    <tr>\n",
              "      <th>2</th>\n",
              "      <td>34</td>\n",
              "    </tr>\n",
              "    <tr>\n",
              "      <th>3</th>\n",
              "      <td>66</td>\n",
              "    </tr>\n",
              "    <tr>\n",
              "      <th>4</th>\n",
              "      <td>47</td>\n",
              "    </tr>\n",
              "  </tbody>\n",
              "</table>\n",
              "</div>"
            ],
            "text/plain": [
              "   age\n",
              "0   64\n",
              "1   65\n",
              "2   34\n",
              "3   66\n",
              "4   47"
            ]
          },
          "metadata": {
            "tags": []
          },
          "execution_count": 15
        }
      ]
    },
    {
      "cell_type": "markdown",
      "metadata": {
        "id": "XzYXh9KFNrJl"
      },
      "source": [
        "**(b) Print the shape of `ages` so that you know how many rows and columns the dataset contains.**"
      ]
    },
    {
      "cell_type": "code",
      "metadata": {
        "id": "c6syEcsivyEM",
        "colab": {
          "base_uri": "https://localhost:8080/"
        },
        "outputId": "4918f346-8014-40c6-d55e-b8736a46f93c"
      },
      "source": [
        "print(ages.shape[0],ages.shape[1])"
      ],
      "execution_count": null,
      "outputs": [
        {
          "output_type": "stream",
          "text": [
            "1000 1\n"
          ],
          "name": "stdout"
        }
      ]
    },
    {
      "cell_type": "markdown",
      "metadata": {
        "id": "mzpT2twaNzpv"
      },
      "source": [
        "**(c) Calculate the mean of the \"age\" column in the `ages` data using the `statistics.mean()` function. Assign the mean to an object called `true_mean`.**\n",
        "\n",
        "*Note: We have imported the statistics package for you.*"
      ]
    },
    {
      "cell_type": "code",
      "metadata": {
        "id": "LQDKHRwn2LHy",
        "colab": {
          "base_uri": "https://localhost:8080/"
        },
        "outputId": "493fb18a-1dcd-46ce-8c08-49238cfc18e6"
      },
      "source": [
        "import statistics\n",
        "true_mean = statistics.mean(ages['age'])\n",
        "print(true_mean)"
      ],
      "execution_count": null,
      "outputs": [
        {
          "output_type": "stream",
          "text": [
            "49.441\n"
          ],
          "name": "stdout"
        }
      ]
    },
    {
      "cell_type": "markdown",
      "metadata": {
        "id": "QEl5s36OOKas"
      },
      "source": [
        "**(d) Below we have created a list of length 30 called `age_mean_n1`. We then created a \"for loop.\" The for loop does the following:**\n",
        "\n",
        "* Draw a [sample](https://pandas.pydata.org/docs/reference/api/pandas.DataFrame.sample.html) of size 1 from the \"age\" column of the `ages` data (i.e. draw one value of age at random). Assign the sample to an object called `age_sample`.\n",
        "* Calculate the mean of `age_sample` and assign this mean to position *i* of the `age_mean_n1` list that we created.\n",
        "* The previous steps are repeated 30 times.\n",
        "\n",
        "**Run the below code and replace `...` with a call to print `age_mean_n1` so you see the output.**"
      ]
    },
    {
      "cell_type": "code",
      "metadata": {
        "id": "wFuFsAI-v7tI",
        "colab": {
          "base_uri": "https://localhost:8080/"
        },
        "outputId": "f764cbfb-3d79-4568-9310-4d3b92f175d1"
      },
      "source": [
        "age_mean_n1 = [None] * 30\n",
        "\n",
        "for i in range(30):\n",
        "  age_sample = ages['age'].sample(n=1, random_state=i)\n",
        "  age_mean_n1[i] = statistics.mean(age_sample)\n",
        "\n",
        "print(age_mean_n1)"
      ],
      "execution_count": null,
      "outputs": [
        {
          "output_type": "stream",
          "text": [
            "[40, 50, 39, 41, 45, 56, 72, 51, 52, 34, 38, 33, 59, 97, 26, 62, 43, 50, 30, 37, 46, 20, 35, 49, 24, 75, 38, 40, 38, 39]\n"
          ],
          "name": "stdout"
        }
      ]
    },
    {
      "cell_type": "markdown",
      "metadata": {
        "id": "ttxZXdtpPz2d"
      },
      "source": [
        "**(e) We now plot `age_mean_n1` as a histogram. This plot shows the distribution of `age_mean_n1`. We also plot a verical line (in red) showing the `true_mean` of the \"age\" column in the full `ages` data.**\n",
        "\n",
        "**Add another vertical line (in black) to the below plot showing the mean of `age_mean_n1`. You should use `statistics.mean()` to calculate this mean.**\n",
        "\n",
        "*Hint: Copy the `plt.axvline` line of code and replace true_mean with your call to `statistics.mean()`.*"
      ]
    },
    {
      "cell_type": "code",
      "metadata": {
        "id": "STs8Vf7Fxl5d",
        "colab": {
          "base_uri": "https://localhost:8080/",
          "height": 282
        },
        "outputId": "f6ff0580-f9b1-4efe-e164-55e6e4c8525a"
      },
      "source": [
        "import matplotlib.pyplot as plt\n",
        "\n",
        "plt.hist(age_mean_n1, bins=30, range=(0, 100))\n",
        "plt.axvline(true_mean, color='red', linestyle='dashed')\n",
        "plt.axvline(statistics.mean(age_mean_n1), color='black', linestyle='dashed')\n"
      ],
      "execution_count": null,
      "outputs": [
        {
          "output_type": "execute_result",
          "data": {
            "text/plain": [
              "<matplotlib.lines.Line2D at 0x7f055e04c090>"
            ]
          },
          "metadata": {
            "tags": []
          },
          "execution_count": 19
        },
        {
          "output_type": "display_data",
          "data": {
            "image/png": "[encoded data removed]",
            "text/plain": [
              "<Figure size 432x288 with 1 Axes>"
            ]
          },
          "metadata": {
            "tags": [],
            "needs_background": "light"
          }
        }
      ]
    },
    {
      "cell_type": "markdown",
      "metadata": {
        "id": "LKPBYJRNQqEa"
      },
      "source": [
        "**(f) Repeat 4(d) and 4(e) again. But this time, increase the sample size to 10. We have indicated the parts you must change with `...`; pay attention to the `...` in the call to `sample(n = ...)`. Note that our list is called `age_mean_n10`. As in 4(e), you must then add the mean of `age_mean_n10` to the plot as a vertical line.**\n",
        "\n",
        "*Note: You should only have two vertical lines in the below plot. One for the `true_mean` and one for `age_mean_n10`.*"
      ]
    },
    {
      "cell_type": "code",
      "metadata": {
        "id": "K4H3xurrwMX-",
        "colab": {
          "base_uri": "https://localhost:8080/",
          "height": 282
        },
        "outputId": "ea21a4c2-678f-4ef3-9250-dad656218517"
      },
      "source": [
        "age_mean_n10 = [None] * 30\n",
        "\n",
        "for i in range(30):\n",
        "  age_sample = ages['age'].sample(n=10, random_state=i)\n",
        "  age_mean_n10[i] = statistics.mean(age_sample)\n",
        "\n",
        "plt.hist(age_mean_n10, bins=30, range=(0, 100))\n",
        "plt.axvline(true_mean, color='red', linestyle='dashed')\n",
        "plt.axvline(statistics.mean(age_mean_n10), color='black', linestyle='dashed')\n"
      ],
      "execution_count": null,
      "outputs": [
        {
          "output_type": "execute_result",
          "data": {
            "text/plain": [
              "<matplotlib.lines.Line2D at 0x7f0555affad0>"
            ]
          },
          "metadata": {
            "tags": []
          },
          "execution_count": 20
        },
        {
          "output_type": "display_data",
          "data": {
            "image/png": "[encoded data removed]",
            "text/plain": [
              "<Figure size 432x288 with 1 Axes>"
            ]
          },
          "metadata": {
            "tags": [],
            "needs_background": "light"
          }
        }
      ]
    },
    {
      "cell_type": "markdown",
      "metadata": {
        "id": "jab3aSPsRiWa"
      },
      "source": [
        "**(g) Repeat (4f) again. But this time, increase the sample size to 100. Again, we have left `...` in the code to indicate the parts you must complete. Note that this time our list is called `age_mean_n100`.**\n",
        "\n",
        "*Note: You should only have two vertical lines on the below plot. One for the true mean and one for `age_mean_n100`.*"
      ]
    },
    {
      "cell_type": "code",
      "metadata": {
        "id": "0BPBfs1zzBLx",
        "colab": {
          "base_uri": "https://localhost:8080/",
          "height": 282
        },
        "outputId": "50ca5dc5-3b90-44b9-c208-40ab658d64af"
      },
      "source": [
        "age_mean_n100 = [None] * 30\n",
        "\n",
        "for i in range(30):\n",
        "  age_sample = ages['age'].sample(n=100, random_state=i)\n",
        "  age_mean_n100[i] = statistics.mean(age_sample)\n",
        "\n",
        "plt.hist(age_mean_n100, bins=30, range=(0, 100))\n",
        "plt.axvline(true_mean, color='red', linestyle='dashed')\n",
        "plt.axvline(statistics.mean(age_mean_n100), color='black', linestyle='dashed')\n"
      ],
      "execution_count": null,
      "outputs": [
        {
          "output_type": "execute_result",
          "data": {
            "text/plain": [
              "<matplotlib.lines.Line2D at 0x7fcb02bf10d0>"
            ]
          },
          "metadata": {
            "tags": []
          },
          "execution_count": 21
        },
        {
          "output_type": "display_data",
          "data": {
            "image/png": "[encoded data removed]",
            "text/plain": [
              "<Figure size 432x288 with 1 Axes>"
            ]
          },
          "metadata": {
            "tags": [],
            "needs_background": "light"
          }
        }
      ]
    },
    {
      "cell_type": "markdown",
      "metadata": {
        "id": "cgW6H64_Rssh"
      },
      "source": [
        "**(h) What do you observe about true mean and the mean of your samples as the sample size increases?**\n",
        "\n",
        "<ol type=\"A\">\n",
        "<li>The sample size and the distance between the two means is unrelated</li>\n",
        "<li>As the sample size increases, the sample mean moves closer to the true mean</li>\n",
        "<li>As the sample size increases, the sample mean moves further away from the true mean</li>\n",
        "<li>As the sample size increases, the true mean increases</li>\n",
        "</ol>"
      ]
    },
    {
      "cell_type": "code",
      "metadata": {
        "id": "ha2MkxtcSTaD"
      },
      "source": [
        "q4h_answer = \"B\" #@param [\"A\", \"B\", \"C\", \"D\"]"
      ],
      "execution_count": null,
      "outputs": []
    },
    {
      "cell_type": "markdown",
      "metadata": {
        "id": "__gCMEp3CzYP"
      },
      "source": [
        "## <u>Question 5: Correlation</u>"
      ]
    },
    {
      "cell_type": "markdown",
      "metadata": {
        "id": "xWLCcWdbIzTK"
      },
      "source": [
        "**(a) Below is a file path to a dataset called \"cars\". The dataset contains information on various cars, such as their horsepower, miles per gallon, and weight. Like in question 5(a), read the csv data as a pandas DataFrame and assign it to an object called `cars`. Then print the first five rows using `head`.**"
      ]
    },
    {
      "cell_type": "code",
      "metadata": {
        "colab": {
          "base_uri": "https://localhost:8080/",
          "height": 204
        },
        "id": "N5wKb2ro78fS",
        "outputId": "385462c6-9174-4808-f414-8a4d89f95927"
      },
      "source": [
        "file_path = \"https://raw.githubusercontent.com/george-wood/DS4E/main/data/cars.csv\"\n",
        "cars = pd.read_csv(file_path)\n",
        "cars.head()"
      ],
      "execution_count": null,
      "outputs": [
        {
          "output_type": "execute_result",
          "data": {
            "text/html": [
              "<div>\n",
              "<style scoped>\n",
              "    .dataframe tbody tr th:only-of-type {\n",
              "        vertical-align: middle;\n",
              "    }\n",
              "\n",
              "    .dataframe tbody tr th {\n",
              "        vertical-align: top;\n",
              "    }\n",
              "\n",
              "    .dataframe thead th {\n",
              "        text-align: right;\n",
              "    }\n",
              "</style>\n",
              "<table border=\"1\" class=\"dataframe\">\n",
              "  <thead>\n",
              "    <tr style=\"text-align: right;\">\n",
              "      <th></th>\n",
              "      <th>Unnamed: 0</th>\n",
              "      <th>mpg</th>\n",
              "      <th>cyl</th>\n",
              "      <th>disp</th>\n",
              "      <th>hp</th>\n",
              "      <th>drat</th>\n",
              "      <th>wt</th>\n",
              "      <th>qsec</th>\n",
              "      <th>vs</th>\n",
              "      <th>am</th>\n",
              "      <th>gear</th>\n",
              "      <th>carb</th>\n",
              "    </tr>\n",
              "  </thead>\n",
              "  <tbody>\n",
              "    <tr>\n",
              "      <th>0</th>\n",
              "      <td>Mazda RX4</td>\n",
              "      <td>21.0</td>\n",
              "      <td>6</td>\n",
              "      <td>160.0</td>\n",
              "      <td>110</td>\n",
              "      <td>3.90</td>\n",
              "      <td>2.620</td>\n",
              "      <td>16.46</td>\n",
              "      <td>0</td>\n",
              "      <td>1</td>\n",
              "      <td>4</td>\n",
              "      <td>4</td>\n",
              "    </tr>\n",
              "    <tr>\n",
              "      <th>1</th>\n",
              "      <td>Mazda RX4 Wag</td>\n",
              "      <td>21.0</td>\n",
              "      <td>6</td>\n",
              "      <td>160.0</td>\n",
              "      <td>110</td>\n",
              "      <td>3.90</td>\n",
              "      <td>2.875</td>\n",
              "      <td>17.02</td>\n",
              "      <td>0</td>\n",
              "      <td>1</td>\n",
              "      <td>4</td>\n",
              "      <td>4</td>\n",
              "    </tr>\n",
              "    <tr>\n",
              "      <th>2</th>\n",
              "      <td>Datsun 710</td>\n",
              "      <td>22.8</td>\n",
              "      <td>4</td>\n",
              "      <td>108.0</td>\n",
              "      <td>93</td>\n",
              "      <td>3.85</td>\n",
              "      <td>2.320</td>\n",
              "      <td>18.61</td>\n",
              "      <td>1</td>\n",
              "      <td>1</td>\n",
              "      <td>4</td>\n",
              "      <td>1</td>\n",
              "    </tr>\n",
              "    <tr>\n",
              "      <th>3</th>\n",
              "      <td>Hornet 4 Drive</td>\n",
              "      <td>21.4</td>\n",
              "      <td>6</td>\n",
              "      <td>258.0</td>\n",
              "      <td>110</td>\n",
              "      <td>3.08</td>\n",
              "      <td>3.215</td>\n",
              "      <td>19.44</td>\n",
              "      <td>1</td>\n",
              "      <td>0</td>\n",
              "      <td>3</td>\n",
              "      <td>1</td>\n",
              "    </tr>\n",
              "    <tr>\n",
              "      <th>4</th>\n",
              "      <td>Hornet Sportabout</td>\n",
              "      <td>18.7</td>\n",
              "      <td>8</td>\n",
              "      <td>360.0</td>\n",
              "      <td>175</td>\n",
              "      <td>3.15</td>\n",
              "      <td>3.440</td>\n",
              "      <td>17.02</td>\n",
              "      <td>0</td>\n",
              "      <td>0</td>\n",
              "      <td>3</td>\n",
              "      <td>2</td>\n",
              "    </tr>\n",
              "  </tbody>\n",
              "</table>\n",
              "</div>"
            ],
            "text/plain": [
              "          Unnamed: 0   mpg  cyl   disp   hp  ...   qsec  vs  am  gear  carb\n",
              "0          Mazda RX4  21.0    6  160.0  110  ...  16.46   0   1     4     4\n",
              "1      Mazda RX4 Wag  21.0    6  160.0  110  ...  17.02   0   1     4     4\n",
              "2         Datsun 710  22.8    4  108.0   93  ...  18.61   1   1     4     1\n",
              "3     Hornet 4 Drive  21.4    6  258.0  110  ...  19.44   1   0     3     1\n",
              "4  Hornet Sportabout  18.7    8  360.0  175  ...  17.02   0   0     3     2\n",
              "\n",
              "[5 rows x 12 columns]"
            ]
          },
          "metadata": {
            "tags": []
          },
          "execution_count": 23
        }
      ]
    },
    {
      "cell_type": "markdown",
      "metadata": {
        "id": "0oTBrW1C8Xvi"
      },
      "source": [
        "**(b) Let's rename some columns in `data` to be more informative. Rename the following columns:**\n",
        "\n",
        "* \"wt\" should be renamed to \"weight\"\n",
        "* \"hp\" should be renamed to \"horsepower\""
      ]
    },
    {
      "cell_type": "code",
      "metadata": {
        "id": "k-8fLzyp8ZoP",
        "colab": {
          "base_uri": "https://localhost:8080/",
          "height": 326
        },
        "outputId": "029dc17c-6a8d-4c13-e479-9dc4026df9cc"
      },
      "source": [
        "cars.rename(columns = {\"wt\": \"weight\", 'hp':'horsepower'}, inplace=True)\n",
        "cars.head()"
      ],
      "execution_count": null,
      "outputs": [
        {
          "output_type": "execute_result",
          "data": {
            "text/html": [
              "<div>\n",
              "<style scoped>\n",
              "    .dataframe tbody tr th:only-of-type {\n",
              "        vertical-align: middle;\n",
              "    }\n",
              "\n",
              "    .dataframe tbody tr th {\n",
              "        vertical-align: top;\n",
              "    }\n",
              "\n",
              "    .dataframe thead th {\n",
              "        text-align: right;\n",
              "    }\n",
              "</style>\n",
              "<table border=\"1\" class=\"dataframe\">\n",
              "  <thead>\n",
              "    <tr style=\"text-align: right;\">\n",
              "      <th></th>\n",
              "      <th>Unnamed: 0</th>\n",
              "      <th>mpg</th>\n",
              "      <th>cyl</th>\n",
              "      <th>disp</th>\n",
              "      <th>horsepower</th>\n",
              "      <th>drat</th>\n",
              "      <th>weight</th>\n",
              "      <th>qsec</th>\n",
              "      <th>vs</th>\n",
              "      <th>am</th>\n",
              "      <th>gear</th>\n",
              "      <th>carb</th>\n",
              "    </tr>\n",
              "  </thead>\n",
              "  <tbody>\n",
              "    <tr>\n",
              "      <th>0</th>\n",
              "      <td>Mazda RX4</td>\n",
              "      <td>21.0</td>\n",
              "      <td>6</td>\n",
              "      <td>160.0</td>\n",
              "      <td>110</td>\n",
              "      <td>3.90</td>\n",
              "      <td>2.620</td>\n",
              "      <td>16.46</td>\n",
              "      <td>0</td>\n",
              "      <td>1</td>\n",
              "      <td>4</td>\n",
              "      <td>4</td>\n",
              "    </tr>\n",
              "    <tr>\n",
              "      <th>1</th>\n",
              "      <td>Mazda RX4 Wag</td>\n",
              "      <td>21.0</td>\n",
              "      <td>6</td>\n",
              "      <td>160.0</td>\n",
              "      <td>110</td>\n",
              "      <td>3.90</td>\n",
              "      <td>2.875</td>\n",
              "      <td>17.02</td>\n",
              "      <td>0</td>\n",
              "      <td>1</td>\n",
              "      <td>4</td>\n",
              "      <td>4</td>\n",
              "    </tr>\n",
              "    <tr>\n",
              "      <th>2</th>\n",
              "      <td>Datsun 710</td>\n",
              "      <td>22.8</td>\n",
              "      <td>4</td>\n",
              "      <td>108.0</td>\n",
              "      <td>93</td>\n",
              "      <td>3.85</td>\n",
              "      <td>2.320</td>\n",
              "      <td>18.61</td>\n",
              "      <td>1</td>\n",
              "      <td>1</td>\n",
              "      <td>4</td>\n",
              "      <td>1</td>\n",
              "    </tr>\n",
              "    <tr>\n",
              "      <th>3</th>\n",
              "      <td>Hornet 4 Drive</td>\n",
              "      <td>21.4</td>\n",
              "      <td>6</td>\n",
              "      <td>258.0</td>\n",
              "      <td>110</td>\n",
              "      <td>3.08</td>\n",
              "      <td>3.215</td>\n",
              "      <td>19.44</td>\n",
              "      <td>1</td>\n",
              "      <td>0</td>\n",
              "      <td>3</td>\n",
              "      <td>1</td>\n",
              "    </tr>\n",
              "    <tr>\n",
              "      <th>4</th>\n",
              "      <td>Hornet Sportabout</td>\n",
              "      <td>18.7</td>\n",
              "      <td>8</td>\n",
              "      <td>360.0</td>\n",
              "      <td>175</td>\n",
              "      <td>3.15</td>\n",
              "      <td>3.440</td>\n",
              "      <td>17.02</td>\n",
              "      <td>0</td>\n",
              "      <td>0</td>\n",
              "      <td>3</td>\n",
              "      <td>2</td>\n",
              "    </tr>\n",
              "  </tbody>\n",
              "</table>\n",
              "</div>"
            ],
            "text/plain": [
              "          Unnamed: 0   mpg  cyl   disp  horsepower  ...   qsec  vs  am  gear  carb\n",
              "0          Mazda RX4  21.0    6  160.0         110  ...  16.46   0   1     4     4\n",
              "1      Mazda RX4 Wag  21.0    6  160.0         110  ...  17.02   0   1     4     4\n",
              "2         Datsun 710  22.8    4  108.0          93  ...  18.61   1   1     4     1\n",
              "3     Hornet 4 Drive  21.4    6  258.0         110  ...  19.44   1   0     3     1\n",
              "4  Hornet Sportabout  18.7    8  360.0         175  ...  17.02   0   0     3     2\n",
              "\n",
              "[5 rows x 12 columns]"
            ]
          },
          "metadata": {
            "tags": []
          },
          "execution_count": 24
        }
      ]
    },
    {
      "cell_type": "markdown",
      "metadata": {
        "id": "3gwi9H0_8agZ"
      },
      "source": [
        "**(c) Create a scatterplot of weight and mpg. The \"mpg\" variable denotes miles per gallon. Make sure you label your axes.**"
      ]
    },
    {
      "cell_type": "code",
      "metadata": {
        "id": "QHidWKb-8wIZ",
        "colab": {
          "base_uri": "https://localhost:8080/",
          "height": 283
        },
        "outputId": "0826d41e-7d95-41ed-fe22-a163a45c7930"
      },
      "source": [
        "plt.ylabel('miles per gallon')\n",
        "plt.xlabel('weight')\n",
        "plt.scatter(cars['weight'].values,cars['mpg'].values)\n",
        "plt.show()\n"
      ],
      "execution_count": null,
      "outputs": [
        {
          "output_type": "display_data",
          "data": {
            "image/png": "[encoded data removed]",
            "text/plain": [
              "<Figure size 432x288 with 1 Axes>"
            ]
          },
          "metadata": {
            "tags": [],
            "needs_background": "light"
          }
        }
      ]
    },
    {
      "cell_type": "markdown",
      "metadata": {
        "id": "vWeOzRAPKLL2"
      },
      "source": [
        "**(d) Create a scatterplot of weight and horsepower. Again, you must label your axes.**"
      ]
    },
    {
      "cell_type": "code",
      "metadata": {
        "id": "dIbAGNsyEGrx",
        "colab": {
          "base_uri": "https://localhost:8080/",
          "height": 279
        },
        "outputId": "77fe6663-830c-4cf7-ddd2-5420ed261ad0"
      },
      "source": [
        "plt.ylabel('horsepower')\n",
        "plt.xlabel('weight')\n",
        "plt.scatter(cars['weight'].values,cars['horsepower'].values)\n",
        "plt.show()"
      ],
      "execution_count": null,
      "outputs": [
        {
          "output_type": "display_data",
          "data": {
            "image/png": "[encoded data removed]",
            "text/plain": [
              "<Figure size 432x288 with 1 Axes>"
            ]
          },
          "metadata": {
            "tags": [],
            "needs_background": "light"
          }
        }
      ]
    },
    {
      "cell_type": "markdown",
      "metadata": {
        "id": "FWZgJPIzKRpO"
      },
      "source": [
        "**(e) How would you characterize the association in the plots you created for 5(c) and 5(d)?**\n",
        "\n",
        "<ol type=\"A\">\n",
        "<li>There is a positive correlation between weight and mpg and a negative correlation between weight and horsepower</li>\n",
        "<li>There is a negative correlation between weight and mpg and a positive correlation between weight and horsepower</li>\n",
        "<li>Both plots show a positive correlation</li>\n",
        "<li>Both plots show a negative correlation</li>\n",
        "<li>Both plots show no correlation</li>\n",
        "</ol>\n",
        "\n",
        "\n",
        "\n"
      ]
    },
    {
      "cell_type": "code",
      "metadata": {
        "id": "V3MllJe8LleL"
      },
      "source": [
        "q5e_answer = \"B\" #@param [\"A\", \"B\", \"C\", \"D\", \"E\"]"
      ],
      "execution_count": null,
      "outputs": []
    },
    {
      "cell_type": "markdown",
      "metadata": {
        "id": "QIDoGVtGEf1t"
      },
      "source": [
        "**(f) Calculate the Pearson's correlation coefficient for `wt` and `mpg`. Then calculate the Pearson's correlation coefficient for `wt` and `hp`. You should use `stats.pearsonr()` to calculate the correlation coefficient; this function is available after running `from scipy import stats`. Make sure you print both coefficients.**\n",
        "\n",
        "*Note: The first number in the output of `stats.pearsonr()` is the correlation coefficient.*"
      ]
    },
    {
      "cell_type": "code",
      "metadata": {
        "id": "t1qH6mJqFGwQ",
        "colab": {
          "base_uri": "https://localhost:8080/"
        },
        "outputId": "81380a21-7202-4702-a6f6-fb8e5f696f9c"
      },
      "source": [
        "from scipy import stats\n",
        "wt=cars['weight']\n",
        "mpg=cars['mpg']\n",
        "hp=cars['horsepower']\n",
        "print(stats.pearsonr(wt,mpg))\n",
        "print(stats.pearsonr(wt,hp))"
      ],
      "execution_count": null,
      "outputs": [
        {
          "output_type": "stream",
          "text": [
            "(-0.8676593765172279, 1.2939587013504974e-10)\n",
            "(0.6587478873447591, 4.145827441075327e-05)\n"
          ],
          "name": "stdout"
        }
      ]
    },
    {
      "cell_type": "markdown",
      "metadata": {
        "id": "IoMp5NngImRJ"
      },
      "source": [
        "**(g) Which pair of variables has a stronger correlation?**\n",
        "\n",
        "<ol type=\"A\">\n",
        "<li>Weight and mpg</li>\n",
        "<li>Weight and horsepower</li>\n",
        "<li>No difference</li>\n",
        "</ol>\n",
        "\n"
      ]
    },
    {
      "cell_type": "code",
      "metadata": {
        "id": "rG9lA1i0MSoY"
      },
      "source": [
        "q5g_answer = \"A\" #@param [\"A\", \"B\", \"C\"]"
      ],
      "execution_count": null,
      "outputs": []
    },
    {
      "cell_type": "markdown",
      "metadata": {
        "id": "LpKieHl6IrjT"
      },
      "source": [
        "## End of Homework\n",
        "\n",
        "Be sure to submit this file according to the instructions at the top of this notebook."
      ]
    }
  ]
}