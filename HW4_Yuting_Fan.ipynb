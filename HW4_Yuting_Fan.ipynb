{
  "nbformat": 4,
  "nbformat_minor": 0,
  "metadata": {
    "colab": {
      "name": "HW4_Yuting_Fan.ipynb",
      "provenance": [],
      "collapsed_sections": [],
      "toc_visible": true
    },
    "kernelspec": {
      "name": "python3",
      "display_name": "Python 3.8.5 64-bit ('base': conda)"
    },
    "language_info": {
      "name": "python",
      "version": "3.8.5"
    },
    "interpreter": {
      "hash": "01065c532287b8fd1ae265fc635b47ec767016c68650f4a2c7c86054772a9f41"
    }
  },
  "cells": [
    {
      "cell_type": "markdown",
      "metadata": {
        "id": "keAu8_tzgyW6"
      },
      "source": [
        "# <center>DS4E, Summer 2021: Homework 4<center>\n",
        "\n",
        "This homework is due on **Monday**, **June 28**, by **9am EDT**. The homework is worth **35 points**, or 10% of the course grade. You can earn one point per sub-question. The course academic integrity policy applies to every homework, including this one.\n",
        "\n",
        "## Instructions\n",
        "\n",
        "This homework contains **multiple choice**, **short answer** and **programming** questions. \n",
        "\n",
        "Multiple choice questions:\n",
        "\n",
        "* Select your answer from the dropdown menu.\n",
        "\n",
        "Short answer questions:\n",
        "\n",
        "* Write your answer. Be brief and concise. You are not required to use full sentences.\n",
        "\n",
        "Programming questions:\n",
        "* If you see a `...` in the cell below the question, simply replace the `...` with your code.\n",
        "* If the cell is blank, write the full code yourself.\n",
        "\n",
        "Notes:\n",
        "* Save your work as you go.\n",
        "* If you create additional code cells for scratch work, please **remove them before submission**. Your submission should not include any additional code cells. This enables us to grade your submission in a timely manner.\n",
        "\n",
        "## Submission\n",
        "\n",
        "To submit this homework:\n",
        "1. Download a copy as an .ipynb file by going to \"File > Download > Download .ipynb\"\n",
        "2. You must then upload the .ipynb file as your submission for Homework 4 under the Assignments tab on Brightspace.    \n",
        "3. **Please include your name in the filename of your .ipynb notebook, e.g. \"hw4_George_Wood.ipynb\"**"
      ]
    },
    {
      "cell_type": "markdown",
      "metadata": {
        "id": "KRTlbubahrly"
      },
      "source": [
        "# <u>Question 1: Importing and tidying data</u>\n",
        "\n",
        "In this homework, you will analyze data on a large number of US Colleges from the 1995 issue of [US News and World Report](https://en.wikipedia.org/wiki/U.S._News_%26_World_Report). You should review the description of the variables in our course Github [repository](https://github.com/george-wood/DS4E)."
      ]
    },
    {
      "cell_type": "markdown",
      "metadata": {
        "id": "rlecVm53P8iz"
      },
      "source": [
        "**(a) The dataset `college.csv` is available in our course Github repository. In the code cell below, import pandas as pd and use the `read_csv()` function to read the college data as a DataFrame and assign it to an object called `data`. Then print the first 5 rows of `data`.**"
      ]
    },
    {
      "cell_type": "code",
      "metadata": {
        "id": "y7hH4XaQ7K3B",
        "colab": {
          "base_uri": "https://localhost:8080/",
          "height": 340
        },
        "outputId": "c91db3c2-864f-4fab-9657-80762b92d638"
      },
      "source": [
        "import pandas as pd \n",
        "file_path = 'https://raw.githubusercontent.com/george-wood/DS4E/main/data/college.csv'\n",
        "data = pd.read_csv(file_path)\n",
        "data.head()"
      ],
      "execution_count": 6,
      "outputs": [
        {
          "output_type": "execute_result",
          "data": {
            "text/html": [
              "<div>\n",
              "<style scoped>\n",
              "    .dataframe tbody tr th:only-of-type {\n",
              "        vertical-align: middle;\n",
              "    }\n",
              "\n",
              "    .dataframe tbody tr th {\n",
              "        vertical-align: top;\n",
              "    }\n",
              "\n",
              "    .dataframe thead th {\n",
              "        text-align: right;\n",
              "    }\n",
              "</style>\n",
              "<table border=\"1\" class=\"dataframe\">\n",
              "  <thead>\n",
              "    <tr style=\"text-align: right;\">\n",
              "      <th></th>\n",
              "      <th>college</th>\n",
              "      <th>Private</th>\n",
              "      <th>Apps</th>\n",
              "      <th>accept</th>\n",
              "      <th>enroll</th>\n",
              "      <th>Tuition</th>\n",
              "      <th>Grad.Rate</th>\n",
              "      <th>expenditure</th>\n",
              "      <th>Perc.AlumniDonation</th>\n",
              "    </tr>\n",
              "  </thead>\n",
              "  <tbody>\n",
              "    <tr>\n",
              "      <th>0</th>\n",
              "      <td>Abilene Christian University</td>\n",
              "      <td>Yes</td>\n",
              "      <td>1660</td>\n",
              "      <td>1232</td>\n",
              "      <td>721</td>\n",
              "      <td>7440</td>\n",
              "      <td>60</td>\n",
              "      <td>7041</td>\n",
              "      <td>12</td>\n",
              "    </tr>\n",
              "    <tr>\n",
              "      <th>1</th>\n",
              "      <td>Adelphi University</td>\n",
              "      <td>Yes</td>\n",
              "      <td>2186</td>\n",
              "      <td>1924</td>\n",
              "      <td>512</td>\n",
              "      <td>12280</td>\n",
              "      <td>56</td>\n",
              "      <td>10527</td>\n",
              "      <td>16</td>\n",
              "    </tr>\n",
              "    <tr>\n",
              "      <th>2</th>\n",
              "      <td>Adrian College</td>\n",
              "      <td>Yes</td>\n",
              "      <td>1428</td>\n",
              "      <td>1097</td>\n",
              "      <td>336</td>\n",
              "      <td>11250</td>\n",
              "      <td>54</td>\n",
              "      <td>8735</td>\n",
              "      <td>30</td>\n",
              "    </tr>\n",
              "    <tr>\n",
              "      <th>3</th>\n",
              "      <td>Agnes Scott College</td>\n",
              "      <td>Yes</td>\n",
              "      <td>417</td>\n",
              "      <td>349</td>\n",
              "      <td>137</td>\n",
              "      <td>12960</td>\n",
              "      <td>59</td>\n",
              "      <td>19016</td>\n",
              "      <td>37</td>\n",
              "    </tr>\n",
              "    <tr>\n",
              "      <th>4</th>\n",
              "      <td>Alaska Pacific University</td>\n",
              "      <td>Yes</td>\n",
              "      <td>193</td>\n",
              "      <td>146</td>\n",
              "      <td>55</td>\n",
              "      <td>7560</td>\n",
              "      <td>15</td>\n",
              "      <td>10922</td>\n",
              "      <td>2</td>\n",
              "    </tr>\n",
              "  </tbody>\n",
              "</table>\n",
              "</div>"
            ],
            "text/plain": [
              "                        college Private  ...  expenditure  Perc.AlumniDonation\n",
              "0  Abilene Christian University     Yes  ...         7041                   12\n",
              "1            Adelphi University     Yes  ...        10527                   16\n",
              "2                Adrian College     Yes  ...         8735                   30\n",
              "3           Agnes Scott College     Yes  ...        19016                   37\n",
              "4     Alaska Pacific University     Yes  ...        10922                    2\n",
              "\n",
              "[5 rows x 9 columns]"
            ]
          },
          "metadata": {
            "tags": []
          },
          "execution_count": 6
        }
      ]
    },
    {
      "cell_type": "markdown",
      "metadata": {
        "id": "DKkWOMdIQlhr"
      },
      "source": [
        "**(b) As always when working with a dataset, we first want to clean things up. Rename the following columns exactly as follows and print the first 5 rows again.**\n",
        "\n",
        "* \"Private\" as \"private\"\n",
        "* \"Apps\" as \"applications\"\n",
        "* \"Tuition\" as \"tuition\"\n",
        "* \"Grad.Rate\" as \"graduation\"\n",
        "* \"Perc.AlumniDonation\" as \"alumni_donation\""
      ]
    },
    {
      "cell_type": "code",
      "metadata": {
        "id": "9WTrvhOZQj7j",
        "colab": {
          "base_uri": "https://localhost:8080/",
          "height": 360
        },
        "outputId": "3b1c8248-2907-4915-f865-a8b1240210da"
      },
      "source": [
        "data.rename(columns = {'Private':'private','Apps':'applications','Tuition':'tuition','Grad.Rate':'graduation','Perc.AlumniDonation':'alumni_donation'}, inplace = True)\n",
        "data.head()\n"
      ],
      "execution_count": 7,
      "outputs": [
        {
          "output_type": "execute_result",
          "data": {
            "text/html": [
              "<div>\n",
              "<style scoped>\n",
              "    .dataframe tbody tr th:only-of-type {\n",
              "        vertical-align: middle;\n",
              "    }\n",
              "\n",
              "    .dataframe tbody tr th {\n",
              "        vertical-align: top;\n",
              "    }\n",
              "\n",
              "    .dataframe thead th {\n",
              "        text-align: right;\n",
              "    }\n",
              "</style>\n",
              "<table border=\"1\" class=\"dataframe\">\n",
              "  <thead>\n",
              "    <tr style=\"text-align: right;\">\n",
              "      <th></th>\n",
              "      <th>college</th>\n",
              "      <th>private</th>\n",
              "      <th>applications</th>\n",
              "      <th>accept</th>\n",
              "      <th>enroll</th>\n",
              "      <th>tuition</th>\n",
              "      <th>graduation</th>\n",
              "      <th>expenditure</th>\n",
              "      <th>alumni_donation</th>\n",
              "    </tr>\n",
              "  </thead>\n",
              "  <tbody>\n",
              "    <tr>\n",
              "      <th>0</th>\n",
              "      <td>Abilene Christian University</td>\n",
              "      <td>Yes</td>\n",
              "      <td>1660</td>\n",
              "      <td>1232</td>\n",
              "      <td>721</td>\n",
              "      <td>7440</td>\n",
              "      <td>60</td>\n",
              "      <td>7041</td>\n",
              "      <td>12</td>\n",
              "    </tr>\n",
              "    <tr>\n",
              "      <th>1</th>\n",
              "      <td>Adelphi University</td>\n",
              "      <td>Yes</td>\n",
              "      <td>2186</td>\n",
              "      <td>1924</td>\n",
              "      <td>512</td>\n",
              "      <td>12280</td>\n",
              "      <td>56</td>\n",
              "      <td>10527</td>\n",
              "      <td>16</td>\n",
              "    </tr>\n",
              "    <tr>\n",
              "      <th>2</th>\n",
              "      <td>Adrian College</td>\n",
              "      <td>Yes</td>\n",
              "      <td>1428</td>\n",
              "      <td>1097</td>\n",
              "      <td>336</td>\n",
              "      <td>11250</td>\n",
              "      <td>54</td>\n",
              "      <td>8735</td>\n",
              "      <td>30</td>\n",
              "    </tr>\n",
              "    <tr>\n",
              "      <th>3</th>\n",
              "      <td>Agnes Scott College</td>\n",
              "      <td>Yes</td>\n",
              "      <td>417</td>\n",
              "      <td>349</td>\n",
              "      <td>137</td>\n",
              "      <td>12960</td>\n",
              "      <td>59</td>\n",
              "      <td>19016</td>\n",
              "      <td>37</td>\n",
              "    </tr>\n",
              "    <tr>\n",
              "      <th>4</th>\n",
              "      <td>Alaska Pacific University</td>\n",
              "      <td>Yes</td>\n",
              "      <td>193</td>\n",
              "      <td>146</td>\n",
              "      <td>55</td>\n",
              "      <td>7560</td>\n",
              "      <td>15</td>\n",
              "      <td>10922</td>\n",
              "      <td>2</td>\n",
              "    </tr>\n",
              "  </tbody>\n",
              "</table>\n",
              "</div>"
            ],
            "text/plain": [
              "                        college private  ...  expenditure  alumni_donation\n",
              "0  Abilene Christian University     Yes  ...         7041               12\n",
              "1            Adelphi University     Yes  ...        10527               16\n",
              "2                Adrian College     Yes  ...         8735               30\n",
              "3           Agnes Scott College     Yes  ...        19016               37\n",
              "4     Alaska Pacific University     Yes  ...        10922                2\n",
              "\n",
              "[5 rows x 9 columns]"
            ]
          },
          "metadata": {
            "tags": []
          },
          "execution_count": 7
        }
      ]
    },
    {
      "cell_type": "markdown",
      "metadata": {
        "id": "Q0Dcjy5MQwta"
      },
      "source": [
        "**(c) Print the number of rows and columns in `data` below. You may print these in any format as long as both numbers are printed.**"
      ]
    },
    {
      "cell_type": "code",
      "metadata": {
        "id": "dckTY82-Qj2E",
        "colab": {
          "base_uri": "https://localhost:8080/"
        },
        "outputId": "e4947250-2836-43fb-aa35-dd6e13a38e93"
      },
      "source": [
        "data.shape"
      ],
      "execution_count": null,
      "outputs": [
        {
          "output_type": "execute_result",
          "data": {
            "text/plain": [
              "(777, 9)"
            ]
          },
          "metadata": {
            "tags": []
          },
          "execution_count": 5
        }
      ]
    },
    {
      "cell_type": "markdown",
      "metadata": {
        "id": "i0yQrtJrTezo"
      },
      "source": [
        "**(d) Print the data type of each column in `data` by calling the `dtypes` [property](https://pandas.pydata.org/pandas-docs/stable/reference/api/pandas.DataFrame.dtypes.html) of data.**"
      ]
    },
    {
      "cell_type": "code",
      "metadata": {
        "id": "XaTS8WYbTaaj",
        "colab": {
          "base_uri": "https://localhost:8080/"
        },
        "outputId": "78431816-6def-48aa-d387-1a26c4270bd4"
      },
      "source": [
        "print(data.dtypes)"
      ],
      "execution_count": null,
      "outputs": [
        {
          "output_type": "stream",
          "text": [
            "college            object\n",
            "private            object\n",
            "applications        int64\n",
            "accept              int64\n",
            "enroll              int64\n",
            "tuition             int64\n",
            "graduation          int64\n",
            "expenditure         int64\n",
            "alumni_donation     int64\n",
            "dtype: object\n"
          ],
          "name": "stdout"
        }
      ]
    },
    {
      "cell_type": "markdown",
      "metadata": {
        "id": "6sDst6a3UxxQ"
      },
      "source": [
        "# <u>Question 2: Setting up for OLS</u>\n",
        "\n",
        "We are interested in the relationship between tuition costs and expenditure per student. Before we estimate our OLS model, we should look at the data and formalize our hypotheses and model. "
      ]
    },
    {
      "cell_type": "markdown",
      "metadata": {
        "id": "xX4mymdKg0NI"
      },
      "source": [
        "**(a) One relationship of interest is between tuition costs and expenditure per student. Generate a scatterplot for `expenditure` and `tuition`. You should plot `tuition` on the y-axis and make sure you label axes.**"
      ]
    },
    {
      "cell_type": "code",
      "metadata": {
        "id": "FrucpizWidcl",
        "colab": {
          "base_uri": "https://localhost:8080/",
          "height": 282
        },
        "outputId": "f58ad97e-d3f7-4ff0-8406-c59164c6833f"
      },
      "source": [
        "import matplotlib.pyplot as plt\n",
        "x = data['expenditure'].values\n",
        "y = data['tuition'].values\n",
        "plt.scatter(x,y)\n",
        "plt.xlabel('expenditure')\n",
        "plt.ylabel('tuition')\n",
        "plt.show()"
      ],
      "execution_count": 8,
      "outputs": [
        {
          "output_type": "display_data",
          "data": {
            "image/png": "[encoded data removed]",
            "text/plain": [
              "<Figure size 432x288 with 1 Axes>"
            ]
          },
          "metadata": {
            "tags": [],
            "needs_background": "light"
          }
        }
      ]
    },
    {
      "cell_type": "markdown",
      "metadata": {
        "id": "ibJcLvtuCBUG"
      },
      "source": [
        "**(b) Find the Pearson correlation coefficient for the correlation between tuition and expenditure. Your code should find the correlation coefficient for expenditure and tuition only, not all correlation coefficients in the data.**\n",
        "\n",
        "*Hint: Search for a function that calculates the Pearson correlation coefficient*"
      ]
    },
    {
      "cell_type": "code",
      "metadata": {
        "id": "L0eWXZM7Cgp9",
        "colab": {
          "base_uri": "https://localhost:8080/"
        },
        "outputId": "d1ea91c1-9e32-43a6-8f79-84463105976e"
      },
      "source": [
        "from scipy import stats\n",
        "coefficient = stats.pearsonr(data['expenditure'],data['tuition'])[0]\n",
        "print(coefficient)"
      ],
      "execution_count": 17,
      "outputs": [
        {
          "output_type": "stream",
          "text": [
            "0.6727786189608973\n"
          ],
          "name": "stdout"
        }
      ]
    },
    {
      "cell_type": "markdown",
      "metadata": {
        "id": "Prik1egqD7KW"
      },
      "source": [
        "**(c) We are going to conduct a linear regression using OLS to evaluate the association between our dependent variable, `tuition`, and our independent variable, `expenditure`. Our alternative hypothesis (H1) is that expenditure is associated with tuition. Given this H1, what is our null hypothesis (H0)?**\n",
        "\n",
        "<ol type=\"A\">\n",
        "<li>Expenditure and tuition have a correlation coefficient that is less than 0.05</li>\n",
        "<li>Expenditure is negatively associated with tuition</li>\n",
        "<li>Expenditure is positively associated with tuition</li>\n",
        "<li>Expenditure and tuition are not associated</li>\n",
        "</ol>\n",
        "\n"
      ]
    },
    {
      "cell_type": "code",
      "metadata": {
        "id": "EHut7O-lF1Vt"
      },
      "source": [
        "q2c_answer = \"D\" #@param [\"A\", \"B\", \"C\", \"D\"]"
      ],
      "execution_count": null,
      "outputs": []
    },
    {
      "cell_type": "markdown",
      "metadata": {
        "id": "B2JTVyqZGkdc"
      },
      "source": [
        "**(d) Before we conduct our regression analysis, we should formalize our model. Which of the following is the equation for the regression described in question 2C?**\n",
        "\n",
        "*Note: the $\\cdot$ symbol denotes multiplication*\n",
        "\n",
        "<ol type=\"A\">\n",
        "<li>$tuition = \\alpha + \\beta + expenditure$ </li>\n",
        "<li>$tuition = \\alpha + \\beta \\cdot expenditure$ </li>\n",
        "<li>$expenditure = \\alpha + \\beta + tuition$ </li>\n",
        "<li>$expenditure = \\alpha + \\beta \\cdot tuition$ </li>\n",
        "</ol>"
      ]
    },
    {
      "cell_type": "code",
      "metadata": {
        "id": "a-KvaF97G-vl"
      },
      "source": [
        "q2d_answer = \"B\" #@param [\"A\", \"B\", \"C\", \"D\"]"
      ],
      "execution_count": null,
      "outputs": []
    },
    {
      "cell_type": "markdown",
      "metadata": {
        "id": "BJESNUuJccSj"
      },
      "source": [
        "# <u>Question 3: Simple linear regression with OLS</u>\n",
        "\n",
        "We are now ready to estimate our first OLS model, in which we will investigate the relationship between our dependent variable, tuition costs, and our independent variaable, expenditure per student, in the college data. "
      ]
    },
    {
      "cell_type": "markdown",
      "metadata": {
        "id": "2vkA_AnHM5eB"
      },
      "source": [
        "**(a) Let's estimate our regression and show the summary output. In three lines of code, you should: (i) import the relevant module from `statsmodels` for estimating OLS regression; (ii) fit the regression model and assign it to an object called `simple`; (iii) print the summary output of `simple`.**\n",
        "\n",
        "*Hint: Review the 16.3 lecture code or exercise 5.1 OLS.*"
      ]
    },
    {
      "cell_type": "code",
      "metadata": {
        "id": "3Cb894BZMq2a",
        "colab": {
          "base_uri": "https://localhost:8080/",
          "height": 532
        },
        "outputId": "1ccaedaa-9340-4d62-a16a-1fd875064578"
      },
      "source": [
        "import statsmodels.formula.api as smf\n",
        "simple = smf.ols('tuition ~ expenditure ', data = data).fit()\n",
        "simple.summary()"
      ],
      "execution_count": 20,
      "outputs": [
        {
          "output_type": "stream",
          "text": [
            "/usr/local/lib/python3.7/dist-packages/statsmodels/tools/_testing.py:19: FutureWarning: pandas.util.testing is deprecated. Use the functions in the public API at pandas.testing instead.\n",
            "  import pandas.util.testing as tm\n"
          ],
          "name": "stderr"
        },
        {
          "output_type": "execute_result",
          "data": {
            "text/html": [
              "<table class=\"simpletable\">\n",
              "<caption>OLS Regression Results</caption>\n",
              "<tr>\n",
              "  <th>Dep. Variable:</th>         <td>tuition</td>     <th>  R-squared:         </th> <td>   0.453</td> \n",
              "</tr>\n",
              "<tr>\n",
              "  <th>Model:</th>                   <td>OLS</td>       <th>  Adj. R-squared:    </th> <td>   0.452</td> \n",
              "</tr>\n",
              "<tr>\n",
              "  <th>Method:</th>             <td>Least Squares</td>  <th>  F-statistic:       </th> <td>   640.9</td> \n",
              "</tr>\n",
              "<tr>\n",
              "  <th>Date:</th>             <td>Mon, 28 Jun 2021</td> <th>  Prob (F-statistic):</th> <td>1.63e-103</td>\n",
              "</tr>\n",
              "<tr>\n",
              "  <th>Time:</th>                 <td>07:54:00</td>     <th>  Log-Likelihood:    </th> <td> -7316.8</td> \n",
              "</tr>\n",
              "<tr>\n",
              "  <th>No. Observations:</th>      <td>   777</td>      <th>  AIC:               </th> <td>1.464e+04</td>\n",
              "</tr>\n",
              "<tr>\n",
              "  <th>Df Residuals:</th>          <td>   775</td>      <th>  BIC:               </th> <td>1.465e+04</td>\n",
              "</tr>\n",
              "<tr>\n",
              "  <th>Df Model:</th>              <td>     1</td>      <th>                     </th>     <td> </td>    \n",
              "</tr>\n",
              "<tr>\n",
              "  <th>Covariance Type:</th>      <td>nonrobust</td>    <th>                     </th>     <td> </td>    \n",
              "</tr>\n",
              "</table>\n",
              "<table class=\"simpletable\">\n",
              "<tr>\n",
              "       <td></td>          <th>coef</th>     <th>std err</th>      <th>t</th>      <th>P>|t|</th>  <th>[0.025</th>    <th>0.975]</th>  \n",
              "</tr>\n",
              "<tr>\n",
              "  <th>Intercept</th>   <td> 5433.5123</td> <td>  224.806</td> <td>   24.170</td> <td> 0.000</td> <td> 4992.211</td> <td> 5874.813</td>\n",
              "</tr>\n",
              "<tr>\n",
              "  <th>expenditure</th> <td>    0.5183</td> <td>    0.020</td> <td>   25.315</td> <td> 0.000</td> <td>    0.478</td> <td>    0.559</td>\n",
              "</tr>\n",
              "</table>\n",
              "<table class=\"simpletable\">\n",
              "<tr>\n",
              "  <th>Omnibus:</th>       <td>39.929</td> <th>  Durbin-Watson:     </th> <td>   1.786</td>\n",
              "</tr>\n",
              "<tr>\n",
              "  <th>Prob(Omnibus):</th> <td> 0.000</td> <th>  Jarque-Bera (JB):  </th> <td>  67.984</td>\n",
              "</tr>\n",
              "<tr>\n",
              "  <th>Skew:</th>          <td>-0.380</td> <th>  Prob(JB):          </th> <td>1.73e-15</td>\n",
              "</tr>\n",
              "<tr>\n",
              "  <th>Kurtosis:</th>      <td> 4.234</td> <th>  Cond. No.          </th> <td>2.31e+04</td>\n",
              "</tr>\n",
              "</table><br/><br/>Warnings:<br/>[1] Standard Errors assume that the covariance matrix of the errors is correctly specified.<br/>[2] The condition number is large, 2.31e+04. This might indicate that there are<br/>strong multicollinearity or other numerical problems."
            ],
            "text/plain": [
              "<class 'statsmodels.iolib.summary.Summary'>\n",
              "\"\"\"\n",
              "                            OLS Regression Results                            \n",
              "==============================================================================\n",
              "Dep. Variable:                tuition   R-squared:                       0.453\n",
              "Model:                            OLS   Adj. R-squared:                  0.452\n",
              "Method:                 Least Squares   F-statistic:                     640.9\n",
              "Date:                Mon, 28 Jun 2021   Prob (F-statistic):          1.63e-103\n",
              "Time:                        07:54:00   Log-Likelihood:                -7316.8\n",
              "No. Observations:                 777   AIC:                         1.464e+04\n",
              "Df Residuals:                     775   BIC:                         1.465e+04\n",
              "Df Model:                           1                                         \n",
              "Covariance Type:            nonrobust                                         \n",
              "===============================================================================\n",
              "                  coef    std err          t      P>|t|      [0.025      0.975]\n",
              "-------------------------------------------------------------------------------\n",
              "Intercept    5433.5123    224.806     24.170      0.000    4992.211    5874.813\n",
              "expenditure     0.5183      0.020     25.315      0.000       0.478       0.559\n",
              "==============================================================================\n",
              "Omnibus:                       39.929   Durbin-Watson:                   1.786\n",
              "Prob(Omnibus):                  0.000   Jarque-Bera (JB):               67.984\n",
              "Skew:                          -0.380   Prob(JB):                     1.73e-15\n",
              "Kurtosis:                       4.234   Cond. No.                     2.31e+04\n",
              "==============================================================================\n",
              "\n",
              "Warnings:\n",
              "[1] Standard Errors assume that the covariance matrix of the errors is correctly specified.\n",
              "[2] The condition number is large, 2.31e+04. This might indicate that there are\n",
              "strong multicollinearity or other numerical problems.\n",
              "\"\"\""
            ]
          },
          "metadata": {
            "tags": []
          },
          "execution_count": 20
        }
      ]
    },
    {
      "cell_type": "markdown",
      "metadata": {
        "id": "SGECP7_DPQ4s"
      },
      "source": [
        "**(b) What is the correct interpretation of the coefficient for expenditure?**\n",
        "\n",
        "<ol type=\"A\">\n",
        "<li>A one-unit increase in tuition is associated with a 0.52 increase in expenditure</li>\n",
        "<li>A 0.52-unit increase in tuition is associated with a one-unit increase in expenditure</li>\n",
        "<li>A one-unit increase in expenditure is associated with a 0.52 increase in tuition</li>\n",
        "<li>A 0.52-unit increase in expenditure is associated with a one-unit increase in tuition</li>\n",
        "</ol>"
      ]
    },
    {
      "cell_type": "code",
      "metadata": {
        "id": "J5QLzTJ4E77w"
      },
      "source": [
        "q3b_answer = \"C\" #@param [\"A\", \"B\", \"C\", \"D\"]"
      ],
      "execution_count": null,
      "outputs": []
    },
    {
      "cell_type": "markdown",
      "metadata": {
        "id": "3qBnKEWGPQ0C"
      },
      "source": [
        "**(c) What is the correct interpretation of the coefficient for the intercept?**\n",
        "\n",
        "<ol type=\"A\">\n",
        "<li>The residual for the model</li>\n",
        "<li>The value for expenditure when the null hypothesis is true</li>\n",
        "<li>The value for expenditure when ladder is 0</li>\n",
        "<li>The value for tuition when expenditure is 0</li>\n",
        "</ol>"
      ]
    },
    {
      "cell_type": "code",
      "metadata": {
        "id": "Ubf67JnpFB_s"
      },
      "source": [
        "q3c_answer = \"D\" #@param [\"A\", \"B\", \"C\", \"D\"]"
      ],
      "execution_count": null,
      "outputs": []
    },
    {
      "cell_type": "markdown",
      "metadata": {
        "id": "taUWf0LXPcoE"
      },
      "source": [
        "**(d) Suppose we set a significance level of 0.05, which is very common in the social sciences. According to the p-value for the coefficient for expenditure, is the expenditure coefficient statistically significant?**\n",
        "\n",
        "<ol type=\"A\">\n",
        "<li>Yes, the coefficient is statistically significant</li>\n",
        "<li>No, the coefficient is not statistically significant</li>\n",
        "<li>The p-value and statistical signficance are unrelated</li>\n",
        "</ol>"
      ]
    },
    {
      "cell_type": "code",
      "metadata": {
        "id": "N1aKPb4EFCoG"
      },
      "source": [
        "q3d_answer = \"A\" #@param [\"A\", \"B\", \"C\", \"D\"]"
      ],
      "execution_count": null,
      "outputs": []
    },
    {
      "cell_type": "markdown",
      "metadata": {
        "id": "yWw2o3fcQFSs"
      },
      "source": [
        "**(e) What does this mean for our null and alternative hypothesis?**\n",
        "\n",
        "<ol type=\"A\">\n",
        "<li>We reject the alternative hypothesis and accept the null</li>\n",
        "<li>We reject the alternative hypothesis and fail to reject the null</li>\n",
        "<li>We reject the null and reject the alternative hypothesis </li>\n",
        "<li>We reject the null hypothesis</li>\n",
        "</ol>"
      ]
    },
    {
      "cell_type": "code",
      "metadata": {
        "id": "cC4PxPmZFDTE"
      },
      "source": [
        "q3e_answer = \"D\" #@param [\"A\", \"B\", \"C\", \"D\"] "
      ],
      "execution_count": null,
      "outputs": []
    },
    {
      "cell_type": "markdown",
      "metadata": {
        "id": "Zvcsi0IuQMv7"
      },
      "source": [
        "**(f) Consider the R-squared in the output. What does this tell us about our model?**\n",
        "\n",
        "<ol type=\"A\">\n",
        "<li>That our model minimizes the sum of squared residuals</li>\n",
        "<li>The probability that we are violating our assumption of a linear relationship between the dependent and independent variables</li>\n",
        "<li>The statistical significance of our model in general</li>\n",
        "<li>The percentage of the variance in our dependent variable that is predictable by our model</li>\n",
        "</ol>"
      ]
    },
    {
      "cell_type": "code",
      "metadata": {
        "id": "rwFtadZ9FD40"
      },
      "source": [
        "q3f_answer = \"D\" #@param [\"A\", \"B\", \"C\", \"D\"]"
      ],
      "execution_count": null,
      "outputs": []
    },
    {
      "cell_type": "markdown",
      "metadata": {
        "id": "bhWOKRr9QUuf"
      },
      "source": [
        "**(g) What does the confidence interval for the coefficient for expenditure tell us?**\n",
        "\n",
        "<ol type=\"A\">\n",
        "<li>If we conducted our study many times, 95% of the time our confidence interval would contain the true coefficient</li>\n",
        "<li>That there is a 95% chance that the true coefficient falls within this interval</li>\n",
        "<li>The range of the coefficient plus or minus one standard deviation</li>\n",
        "<li>If we conducted our study many times, 98.6% of the time our confidence interval would contain the true coefficient</li>\n",
        "</ol>"
      ]
    },
    {
      "cell_type": "code",
      "metadata": {
        "id": "Ux1DG6c9FEp3"
      },
      "source": [
        "q3g_answer = \"A\" #@param [\"A\", \"B\", \"C\", \"D\"]"
      ],
      "execution_count": null,
      "outputs": []
    },
    {
      "cell_type": "markdown",
      "metadata": {
        "id": "1iZQJRJ8QnqN"
      },
      "source": [
        "**(h) Plot the fitted regression line on a scatterplot of expenditure and tuition. First, create the scatterplot with expenditure on the x-axis and tuition on the y-axis, as you did for question 2(a). We have included code to generate an object, `x`, which covers the range of expenditure values in the data. Second, you should calculate an object, `y`, which uses the intercept and coefficient for expenditure, along with `x`, to calculate the fitted y-values. Third, you should plot these `x` and `y` values as a line on your scatterplot.**\n",
        "\n",
        "*Hint: Refer to the last plot shown in exercise 5.1 OLS.*"
      ]
    },
    {
      "cell_type": "code",
      "metadata": {
        "id": "p6kRnP75LDja",
        "colab": {
          "base_uri": "https://localhost:8080/",
          "height": 279
        },
        "outputId": "25a2bbf9-3985-420a-c6a4-b9e4fe648252"
      },
      "source": [
        "import numpy as np\n",
        "import matplotlib.pyplot as plt\n",
        "x = np.arange(min(data['expenditure']), max(data['expenditure']))\n",
        "y = simple.params['Intercept'] + simple.params['expenditure'] * x\n",
        "plt.scatter(data['expenditure'], data['tuition'])\n",
        "plt.plot(x,y)\n",
        "plt.xlabel('expenditure')\n",
        "plt.ylabel('tuition')\n",
        "plt.show()"
      ],
      "execution_count": 21,
      "outputs": [
        {
          "output_type": "display_data",
          "data": {
            "image/png": "[encoded data removed]",
            "text/plain": [
              "<Figure size 432x288 with 1 Axes>"
            ]
          },
          "metadata": {
            "tags": [],
            "needs_background": "light"
          }
        }
      ]
    },
    {
      "cell_type": "markdown",
      "metadata": {
        "id": "59xio7AOQnlC"
      },
      "source": [
        "**(i) Interpret the fitted regression line and scatterplot you generated in question 3(h). In the text cell below, write down one observation about the plot. You must refer to the fitted regression line in your answer.**\n",
        "\n",
        "*Note: Your observation may relate to any aspect of the plot, and we will accept any reasonable observation. However, your answer must refer to the fitted regression line.*\n"
      ]
    },
    {
      "cell_type": "markdown",
      "metadata": {
        "id": "QNY3eaaTPASO"
      },
      "source": [
        "as the regression line suggests, this is a positive linear association in the original scatterplot"
      ]
    },
    {
      "cell_type": "markdown",
      "metadata": {
        "id": "Q8fsKSrsccj-"
      },
      "source": [
        "# <u>Question 4: Multiple linear regression with OLS</u>\n",
        "\n",
        "Simple linear regression refers to a model where there is only one indepedent variable. In this next series of questions, we will conduct multiple linear regression, which means we have more than one independent variable."
      ]
    },
    {
      "cell_type": "markdown",
      "metadata": {
        "id": "4p_lp9gcQ_jd"
      },
      "source": [
        "**(a) It is plausible that tuition could be associated with several variables in our data. We suspect that tuition may be associated with whether a school is private or public. Estimate a multiple OLS model where we add \"private\" as a second independent variable, alongside expenditure. You should assign the fit to an object called `multiple`. Then print the summary output for `multiple`.**"
      ]
    },
    {
      "cell_type": "code",
      "metadata": {
        "id": "HB224CZ5RA1w",
        "colab": {
          "base_uri": "https://localhost:8080/",
          "height": 499
        },
        "outputId": "a9352620-ccb9-497b-8bb5-1041c94f3e5b"
      },
      "source": [
        "multiple = smf.ols('tuition ~ expenditure + private ', data = data).fit()\n",
        "multiple.summary()"
      ],
      "execution_count": null,
      "outputs": [
        {
          "output_type": "execute_result",
          "data": {
            "text/html": [
              "<table class=\"simpletable\">\n",
              "<caption>OLS Regression Results</caption>\n",
              "<tr>\n",
              "  <th>Dep. Variable:</th>         <td>tuition</td>     <th>  R-squared:         </th> <td>   0.606</td> \n",
              "</tr>\n",
              "<tr>\n",
              "  <th>Model:</th>                   <td>OLS</td>       <th>  Adj. R-squared:    </th> <td>   0.605</td> \n",
              "</tr>\n",
              "<tr>\n",
              "  <th>Method:</th>             <td>Least Squares</td>  <th>  F-statistic:       </th> <td>   596.1</td> \n",
              "</tr>\n",
              "<tr>\n",
              "  <th>Date:</th>             <td>Sun, 27 Jun 2021</td> <th>  Prob (F-statistic):</th> <td>2.01e-157</td>\n",
              "</tr>\n",
              "<tr>\n",
              "  <th>Time:</th>                 <td>13:48:33</td>     <th>  Log-Likelihood:    </th> <td> -7188.7</td> \n",
              "</tr>\n",
              "<tr>\n",
              "  <th>No. Observations:</th>      <td>   777</td>      <th>  AIC:               </th> <td>1.438e+04</td>\n",
              "</tr>\n",
              "<tr>\n",
              "  <th>Df Residuals:</th>          <td>   774</td>      <th>  BIC:               </th> <td>1.440e+04</td>\n",
              "</tr>\n",
              "<tr>\n",
              "  <th>Df Model:</th>              <td>     2</td>      <th>                     </th>     <td> </td>    \n",
              "</tr>\n",
              "<tr>\n",
              "  <th>Covariance Type:</th>      <td>nonrobust</td>    <th>                     </th>     <td> </td>    \n",
              "</tr>\n",
              "</table>\n",
              "<table class=\"simpletable\">\n",
              "<tr>\n",
              "         <td></td>           <th>coef</th>     <th>std err</th>      <th>t</th>      <th>P>|t|</th>  <th>[0.025</th>    <th>0.975]</th>  \n",
              "</tr>\n",
              "<tr>\n",
              "  <th>Intercept</th>      <td> 3550.3272</td> <td>  219.370</td> <td>   16.184</td> <td> 0.000</td> <td> 3119.696</td> <td> 3980.958</td>\n",
              "</tr>\n",
              "<tr>\n",
              "  <th>private[T.Yes]</th> <td> 3663.4885</td> <td>  210.713</td> <td>   17.386</td> <td> 0.000</td> <td> 3249.851</td> <td> 4077.126</td>\n",
              "</tr>\n",
              "<tr>\n",
              "  <th>expenditure</th>    <td>    0.4375</td> <td>    0.018</td> <td>   24.326</td> <td> 0.000</td> <td>    0.402</td> <td>    0.473</td>\n",
              "</tr>\n",
              "</table>\n",
              "<table class=\"simpletable\">\n",
              "<tr>\n",
              "  <th>Omnibus:</th>       <td>46.817</td> <th>  Durbin-Watson:     </th> <td>   1.915</td>\n",
              "</tr>\n",
              "<tr>\n",
              "  <th>Prob(Omnibus):</th> <td> 0.000</td> <th>  Jarque-Bera (JB):  </th> <td> 106.223</td>\n",
              "</tr>\n",
              "<tr>\n",
              "  <th>Skew:</th>          <td>-0.341</td> <th>  Prob(JB):          </th> <td>8.59e-24</td>\n",
              "</tr>\n",
              "<tr>\n",
              "  <th>Kurtosis:</th>      <td> 4.678</td> <th>  Cond. No.          </th> <td>3.18e+04</td>\n",
              "</tr>\n",
              "</table><br/><br/>Warnings:<br/>[1] Standard Errors assume that the covariance matrix of the errors is correctly specified.<br/>[2] The condition number is large, 3.18e+04. This might indicate that there are<br/>strong multicollinearity or other numerical problems."
            ],
            "text/plain": [
              "<class 'statsmodels.iolib.summary.Summary'>\n",
              "\"\"\"\n",
              "                            OLS Regression Results                            \n",
              "==============================================================================\n",
              "Dep. Variable:                tuition   R-squared:                       0.606\n",
              "Model:                            OLS   Adj. R-squared:                  0.605\n",
              "Method:                 Least Squares   F-statistic:                     596.1\n",
              "Date:                Sun, 27 Jun 2021   Prob (F-statistic):          2.01e-157\n",
              "Time:                        13:48:33   Log-Likelihood:                -7188.7\n",
              "No. Observations:                 777   AIC:                         1.438e+04\n",
              "Df Residuals:                     774   BIC:                         1.440e+04\n",
              "Df Model:                           2                                         \n",
              "Covariance Type:            nonrobust                                         \n",
              "==================================================================================\n",
              "                     coef    std err          t      P>|t|      [0.025      0.975]\n",
              "----------------------------------------------------------------------------------\n",
              "Intercept       3550.3272    219.370     16.184      0.000    3119.696    3980.958\n",
              "private[T.Yes]  3663.4885    210.713     17.386      0.000    3249.851    4077.126\n",
              "expenditure        0.4375      0.018     24.326      0.000       0.402       0.473\n",
              "==============================================================================\n",
              "Omnibus:                       46.817   Durbin-Watson:                   1.915\n",
              "Prob(Omnibus):                  0.000   Jarque-Bera (JB):              106.223\n",
              "Skew:                          -0.341   Prob(JB):                     8.59e-24\n",
              "Kurtosis:                       4.678   Cond. No.                     3.18e+04\n",
              "==============================================================================\n",
              "\n",
              "Warnings:\n",
              "[1] Standard Errors assume that the covariance matrix of the errors is correctly specified.\n",
              "[2] The condition number is large, 3.18e+04. This might indicate that there are\n",
              "strong multicollinearity or other numerical problems.\n",
              "\"\"\""
            ]
          },
          "metadata": {
            "tags": []
          },
          "execution_count": 7
        }
      ]
    },
    {
      "cell_type": "markdown",
      "metadata": {
        "id": "t75aCqWlRBPQ"
      },
      "source": [
        "**(b) What is the correct interpretation of the coefficient for private?**\n",
        "\n",
        "<ol type=\"A\">\n",
        "<li>The joint effect of a college being private and a one-unit increase expenditure is associated with 3,663 higher tuition</li>\n",
        "<li>Private colleges have lower tuition than public colleges, on average</li>\n",
        "<li>A college being private is associated with 3,663 higher tuition</li>\n",
        "<li>A college being private is associated with 3,663 higher tuition, holding expenditure constant </li>\n",
        "</ol>"
      ]
    },
    {
      "cell_type": "code",
      "metadata": {
        "id": "R2CW4fmWd6xA"
      },
      "source": [
        "q4b_answer = \"D\" #@param [\"A\", \"B\", \"C\", \"D\"]"
      ],
      "execution_count": null,
      "outputs": []
    },
    {
      "cell_type": "markdown",
      "metadata": {
        "id": "jQeAJPvuRBsw"
      },
      "source": [
        "**(c) Which R-squared should we consult for multiple regression, and why**\n",
        "\n",
        "<ol type=\"A\">\n",
        "<li>Adjusted R-squared, because it takes into account risks of nonlinearity</li>\n",
        "<li>Adjusted R-squared, because it \"penalizes\" us for adding variables, which would otherwise increase R-squared</li>\n",
        "<li>R-squared, because we prefer simpler versions of our output wherever possible</li>\n",
        "<li>R-squared, because it is the correlation coefficient (r) squared</li>\n",
        "</ol>"
      ]
    },
    {
      "cell_type": "code",
      "metadata": {
        "id": "AQvnGJZVd7Q-"
      },
      "source": [
        "q4c_answer = \"B\" #@param [\"A\", \"B\", \"C\", \"D\"]"
      ],
      "execution_count": null,
      "outputs": []
    },
    {
      "cell_type": "markdown",
      "metadata": {
        "id": "nAJ7bu5gRB8E"
      },
      "source": [
        "**(d) What does \"Prob (F-statistic)\" tell us in this output?**\n",
        "\n",
        "<ol type=\"A\">\n",
        "<li>That the the coefficients in our model are jointly statistically significant at the p < 0.01 level</li>\n",
        "<li>That the the coefficients in our model are jointly not statistically significant at the p < 0.01 level</li>\n",
        "<li>That the p-values for each coefficient are likely overstating their significance</li>\n",
        "<li>The probability that the F-statistic is correct in this case</li>\n",
        "</ol>"
      ]
    },
    {
      "cell_type": "code",
      "metadata": {
        "id": "cH9eXt8CRH7o"
      },
      "source": [
        "q4d_answer = \"A\" #@param [\"A\", \"B\", \"C\", \"D\"]"
      ],
      "execution_count": null,
      "outputs": []
    },
    {
      "cell_type": "markdown",
      "metadata": {
        "id": "B2IuRgghccr1"
      },
      "source": [
        "**(e) The coefficient for private is much larger number than the coefficient for expenditure. In the text cell below, write down one possible explanation for why the coefficient for private is so much larger than the coefficient for expenditure.**"
      ]
    },
    {
      "cell_type": "markdown",
      "metadata": {
        "id": "GxkrzmmZaqdS"
      },
      "source": [
        "because the value for whether or not to go to private college is only true or false. so it would make a big difference. while the number values for expenditure is more than 2 so it would have a lower coefficient."
      ]
    },
    {
      "cell_type": "code",
      "metadata": {
        "id": "epe_Im2kccy6"
      },
      "source": [
        "Question 5: An ML approach to simple linear regression</u>\n",
        "\n",
        "We are going to conduct the simple linear regression from Question 2, but this time using a machine learning approach.\n",
        "\n",
        "Hint: For this series of questions, you may find it helpful to review the 18.2 lecture code and exercise 5.1 OLS.*"
      ],
      "execution_count": null,
      "outputs": []
    },
    {
      "cell_type": "markdown",
      "metadata": {
        "id": "bHO5PKiCancj"
      },
      "source": [
        ""
      ]
    },
    {
      "cell_type": "markdown",
      "metadata": {
        "id": "_1McIwFXhGOG"
      },
      "source": [
        "**(a) To build and evaluate our ML model for linear regression, we are going to need to import two modules (LinearRegression and train_test_split) from `sklearn`. Do so below.**"
      ]
    },
    {
      "cell_type": "code",
      "metadata": {
        "id": "Npxd8_70i4Y1"
      },
      "source": [
        "from sklearn.linear_model import LinearRegression\n",
        "from sklearn.model_selection import train_test_split"
      ],
      "execution_count": null,
      "outputs": []
    },
    {
      "cell_type": "markdown",
      "metadata": {
        "id": "BpS-xTkghHpG"
      },
      "source": [
        "**(b) Create two arrays, one called `x` that contains the values for expenditure, and one called `y` that contains the values for tuition.**\n",
        "\n",
        "*Hint: You will need to use `.values.reshape`. See 18.2 lecture code.*"
      ]
    },
    {
      "cell_type": "code",
      "metadata": {
        "id": "8iwbMAYpkXaF",
        "colab": {
          "base_uri": "https://localhost:8080/"
        },
        "outputId": "72e35718-a0a1-4bb2-df4a-ef36c1adc8da"
      },
      "source": [
        "x = data['expenditure'].values.reshape(-1,1)\n",
        "y = data['tuition'].values.reshape(-1,1)\n",
        "print(x.shape,y.shape)"
      ],
      "execution_count": null,
      "outputs": [
        {
          "output_type": "stream",
          "text": [
            "(777, 1) (777, 1)\n"
          ],
          "name": "stdout"
        }
      ]
    },
    {
      "cell_type": "markdown",
      "metadata": {
        "id": "Yz5UmUvVhK6L"
      },
      "source": [
        "**(c) Split `x` and `y` into training and test sets, where the test sets are 30% of the observations. Set the random state to 1.**"
      ]
    },
    {
      "cell_type": "code",
      "metadata": {
        "id": "d7hmttJ8kW6Q"
      },
      "source": [
        "x_train, x_test, y_train, y_test = train_test_split(x, y, test_size=0.3, random_state=1)"
      ],
      "execution_count": null,
      "outputs": []
    },
    {
      "cell_type": "markdown",
      "metadata": {
        "id": "6e35PA5hhQ9W"
      },
      "source": [
        "**(d) Fit the linear regression to `x_train` and `y_train` using ML.**"
      ]
    },
    {
      "cell_type": "code",
      "metadata": {
        "id": "PgejLlaAkWkL",
        "colab": {
          "base_uri": "https://localhost:8080/"
        },
        "outputId": "22310114-40b3-401f-9d13-5f272ae15cad"
      },
      "source": [
        "regr = LinearRegression()\n",
        "regr.fit(x_train, y_train)"
      ],
      "execution_count": null,
      "outputs": [
        {
          "output_type": "execute_result",
          "data": {
            "text/plain": [
              "LinearRegression(copy_X=True, fit_intercept=True, n_jobs=None, normalize=False)"
            ]
          },
          "metadata": {
            "tags": []
          },
          "execution_count": 13
        }
      ]
    },
    {
      "cell_type": "markdown",
      "metadata": {
        "id": "_B-3QkanhTDU"
      },
      "source": [
        "**(e) Print the intercept and coefficient from your ML linear regression.**\n",
        "\n",
        "*Hint: You can compare your results to the output from 4(a). The intercept and coefficient for expenditure should be similar.*"
      ]
    },
    {
      "cell_type": "code",
      "metadata": {
        "id": "RgwaO7_hkUx9",
        "colab": {
          "base_uri": "https://localhost:8080/"
        },
        "outputId": "c9a31b1e-f0d3-4fde-8a47-48c2a097839e"
      },
      "source": [
        "k = regr.coef_\n",
        "b = regr.intercept_\n",
        "print(k,b)"
      ],
      "execution_count": null,
      "outputs": [
        {
          "output_type": "stream",
          "text": [
            "[[0.47429784]] [5843.79858675]\n"
          ],
          "name": "stdout"
        }
      ]
    },
    {
      "cell_type": "markdown",
      "metadata": {
        "id": "ssvWzQyCcdBc"
      },
      "source": [
        "# <u>Question 6: KNN classification </u>\n",
        "\n",
        "In this question, we will conduct KNN analysis of a categorical version of our dependent variable. You should refer to the 19.2 lecture code and exercise 5.2 KNN."
      ]
    },
    {
      "cell_type": "markdown",
      "metadata": {
        "id": "MProSpkKppaw"
      },
      "source": [
        "**(a) We need three more modules from `sklearn` in order to carry out and evaluate our KNN model. Import them by running the code cell below.**\n",
        "\n",
        "*Note: You do not need to write any code. This is a free point.*"
      ]
    },
    {
      "cell_type": "code",
      "metadata": {
        "id": "gOe-yovurL2U"
      },
      "source": [
        "from sklearn.neighbors import KNeighborsClassifier\n",
        "from sklearn.metrics import classification_report, confusion_matrix"
      ],
      "execution_count": null,
      "outputs": []
    },
    {
      "cell_type": "markdown",
      "metadata": {
        "id": "LrLbWovdpqbh"
      },
      "source": [
        "**(b) Classifiers require a categorical dependent variable. We will generate a categorical tuition variable by transforming tuition into \"high\" and \"low\" values. First, generate a histogram of tuition.**"
      ]
    },
    {
      "cell_type": "code",
      "metadata": {
        "id": "hxfL3Ov5rExW",
        "colab": {
          "base_uri": "https://localhost:8080/",
          "height": 333
        },
        "outputId": "d1aa646d-2de7-4619-bcf6-d73eed81ddc5"
      },
      "source": [
        "plt.hist(data['tuition'])"
      ],
      "execution_count": null,
      "outputs": [
        {
          "output_type": "execute_result",
          "data": {
            "text/plain": [
              "(array([ 17.,  93., 142., 143., 142.,  94.,  49.,  44.,  47.,   6.]),\n",
              " array([ 2340.,  4276.,  6212.,  8148., 10084., 12020., 13956., 15892.,\n",
              "        17828., 19764., 21700.]),\n",
              " <a list of 10 Patch objects>)"
            ]
          },
          "metadata": {
            "tags": []
          },
          "execution_count": 16
        },
        {
          "output_type": "display_data",
          "data": {
            "image/png": "[encoded data removed]",
            "text/plain": [
              "<Figure size 432x288 with 1 Axes>"
            ]
          },
          "metadata": {
            "tags": [],
            "needs_background": "light"
          }
        }
      ]
    },
    {
      "cell_type": "markdown",
      "metadata": {
        "id": "MFmd2jAeprQh"
      },
      "source": [
        "**(c) We will use the median as the threshold to divide our tuition variable into \"high\" and \"low\" values. Find the median (i.e. 50%) tuition using the `describe()` function.**"
      ]
    },
    {
      "cell_type": "code",
      "metadata": {
        "id": "MpHEWhncr0-y",
        "colab": {
          "base_uri": "https://localhost:8080/"
        },
        "outputId": "bda9a8f1-760b-4f11-e998-186bc4cacbda"
      },
      "source": [
        "mid = data['tuition'].describe()['50%']\n",
        "print(mid)"
      ],
      "execution_count": null,
      "outputs": [
        {
          "output_type": "stream",
          "text": [
            "9990.0\n"
          ],
          "name": "stdout"
        }
      ]
    },
    {
      "cell_type": "markdown",
      "metadata": {
        "id": "bl0jsQ8GpunG"
      },
      "source": [
        "**(d) The median is approximately 10,000. We will use this as our threshold. Below, we create a new column in `data` called `tuition_category` that labels all values above 10,000 as \"high\" and all values 10,000 or below as \"low\". Print the number of `low` values and `high` values in the `tuition_category` column.**\n",
        "\n",
        "*Hint: You can use the `value_counts()` function.*"
      ]
    },
    {
      "cell_type": "code",
      "metadata": {
        "id": "cWKGsVJAshiW",
        "colab": {
          "base_uri": "https://localhost:8080/"
        },
        "outputId": "df263ca5-dc73-486f-bf66-ed05fb413c18"
      },
      "source": [
        "data['tuition_category'] = pd.cut(data.tuition, bins=[0, 10000, 100000], labels=['low', 'high'])\n",
        "data['tuition_category'].value_counts()"
      ],
      "execution_count": null,
      "outputs": [
        {
          "output_type": "execute_result",
          "data": {
            "text/plain": [
              "low     394\n",
              "high    383\n",
              "Name: tuition_category, dtype: int64"
            ]
          },
          "metadata": {
            "tags": []
          },
          "execution_count": 17
        }
      ]
    },
    {
      "cell_type": "markdown",
      "metadata": {
        "id": "tQL8jl51pvSF"
      },
      "source": [
        "**(e) Below, we use the OrdinalEncoder function to transform the \"Yes\" into 1 and \"No\" into 0 in the `private` variable. We then create an object `X` that contiains the private and expenditure variables, and an object `y` that contains our dependent variable, tuition_category. In the code cell below, split `X` and `y` into training and test sets, where the test sets are 20% of the observations. Set the random state to 1.**"
      ]
    },
    {
      "cell_type": "code",
      "metadata": {
        "id": "i3MVKkCGue9N"
      },
      "source": [
        "from sklearn.preprocessing import OrdinalEncoder\n",
        "oenc = OrdinalEncoder()\n",
        "data[['private']] = oenc.fit_transform(data[['private']]).astype(int)\n",
        "oenc.inverse_transform([[0],[1]])\n",
        "\n",
        "X = data[['private', 'expenditure']].values\n",
        "y = data['tuition_category'].values\n",
        "\n",
        "X_train, X_test, y_train, y_test = train_test_split(X, y, test_size=0.2, random_state=1)\n",
        "\n"
      ],
      "execution_count": null,
      "outputs": []
    },
    {
      "cell_type": "markdown",
      "metadata": {
        "id": "umkcJOvDqAR2"
      },
      "source": [
        "**(f) Here we run some feature scaling on our variables so that the distances are comparable. Run the below code.**\n",
        "\n",
        "*Note: You do not need to write any code. This is a free point. You will need to make sure you called your splits X_train, X_test, y_train, y_test in your answer to question 6(e).*"
      ]
    },
    {
      "cell_type": "code",
      "metadata": {
        "id": "PAQNyIj-uTgO"
      },
      "source": [
        "from sklearn.preprocessing import StandardScaler  \n",
        "scaler = StandardScaler()                           \n",
        "scaler.fit(X_train)\n",
        "X_train = scaler.transform(X_train)\n",
        "X_test = scaler.transform(X_test)"
      ],
      "execution_count": null,
      "outputs": []
    },
    {
      "cell_type": "markdown",
      "metadata": {
        "id": "AonxQMLkqhkh"
      },
      "source": [
        "**(g) Write two lines of code to train the KNN classifier. Set k=5. You should assign the classifier to an object called `classifier`.**"
      ]
    },
    {
      "cell_type": "code",
      "metadata": {
        "id": "zsmROV3VvTOg",
        "outputId": "1c2c1c76-c1e4-4fb9-8c80-f970fa47224d"
      },
      "source": [
        "classifier = KNeighborsClassifier(n_neighbors=5, algorithm='auto', weights='distance', n_jobs=1)\n",
        "classifier.fit(X_train,y_train)"
      ],
      "execution_count": null,
      "outputs": [
        {
          "output_type": "execute_result",
          "data": {
            "text/plain": [
              "KNeighborsClassifier(n_jobs=1, weights='distance')"
            ]
          },
          "metadata": {
            "tags": []
          },
          "execution_count": 73
        }
      ]
    },
    {
      "cell_type": "markdown",
      "metadata": {
        "id": "nJzFDYfwqQ8V"
      },
      "source": [
        "**(h) Run the below code cell, which predicts the tuition categories for the `X_test` data split using the classifier we just trained. The first 5 predictions are printed. We then plot a confusion matrix. Review the below to interpret the confusion matrix:**\n",
        "\n",
        "<ul>\n",
        "<li>The number in the top left refers to the number of high tuition colleges correctly predicted as high tuition</li>\n",
        "<li>The number in the top right refers to the number of high tuition colleges incorrectly predicted as low tuition</li>\n",
        "<li>The number in the bottom left refers to the number of low tuition colleges incorrectly predicted as high tuition</li>\n",
        "<li>The number in the bottom right refers to the number of low tuition colleges correctly predicted as low tuition\n",
        "</ul>\n",
        "\n",
        "*Note: You do not need to write any code. This is a free point. You will need to ensure that you called your KNN classifier `classifier` in your answer to question 6(g).*"
      ]
    },
    {
      "cell_type": "code",
      "metadata": {
        "id": "HmpeiYkaw85G",
        "outputId": "3778d6da-3694-4f74-f3b6-d4ea0748719d"
      },
      "source": [
        "from sklearn.metrics import plot_confusion_matrix\n",
        "\n",
        "y_pred = classifier.predict(X_test)\n",
        "print(\"First five predictions:\", y_pred[0:5])\n",
        "\n",
        "plot_confusion_matrix(classifier, X_test, y_test)\n",
        "plt.show()"
      ],
      "execution_count": null,
      "outputs": [
        {
          "output_type": "stream",
          "text": [
            "First five predictions: ['low' 'low' 'low' 'high' 'low']\n"
          ],
          "name": "stdout"
        },
        {
          "output_type": "display_data",
          "data": {
            "text/plain": [
              "<Figure size 432x288 with 2 Axes>"
            ],
            "image/svg+xml": "<?xml version=\"1.0\" encoding=\"utf-8\" standalone=\"no\"?>\r\n<!DOCTYPE svg PUBLIC \"-//W3C//DTD SVG 1.1//EN\"\r\n  \"http://www.w3.org/Graphics/SVG/1.1/DTD/svg11.dtd\">\r\n<!-- Created with matplotlib (https://matplotlib.org/) -->\r\n<svg height=\"262.19625pt\" version=\"1.1\" viewBox=\"0 0 321.656687 262.19625\" width=\"321.656687pt\" xmlns=\"http://www.w3.org/2000/svg\" xmlns:xlink=\"http://www.w3.org/1999/xlink\">\r\n <metadata>\r\n  <rdf:RDF xmlns:cc=\"http://creativecommons.org/ns#\" xmlns:dc=\"http://purl.org/dc/elements/1.1/\" xmlns:rdf=\"http://www.w3.org/1999/02/22-rdf-syntax-ns#\">\r\n   <cc:Work>\r\n    <dc:type rdf:resource=\"http://purl.org/dc/dcmitype/StillImage\"/>\r\n    <dc:date>2021-06-23T15:04:43.057088</dc:date>\r\n    <dc:format>image/svg+xml</dc:format>\r\n    <dc:creator>\r\n     <cc:Agent>\r\n      <dc:title>Matplotlib v3.3.2, https://matplotlib.org/</dc:title>\r\n     </cc:Agent>\r\n    </dc:creator>\r\n   </cc:Work>\r\n  </rdf:RDF>\r\n </metadata>\r\n <defs>\r\n  <style type=\"text/css\">*{stroke-linecap:butt;stroke-linejoin:round;}</style>\r\n </defs>\r\n <g id=\"figure_1\">\r\n  <g id=\"patch_1\">\r\n   <path d=\"M 0 262.19625 \r\nL 321.656687 262.19625 \r\nL 321.656687 0 \r\nL 0 0 \r\nz\r\n\" style=\"fill:none;\"/>\r\n  </g>\r\n  <g id=\"axes_1\">\r\n   <g id=\"patch_2\">\r\n    <path d=\"M 49.679688 224.64 \r\nL 267.119687 224.64 \r\nL 267.119687 7.2 \r\nL 49.679688 7.2 \r\nz\r\n\" style=\"fill:#ffffff;\"/>\r\n   </g>\r\n   <g clip-path=\"url(#p187f885993)\">\r\n    <image height=\"218\" id=\"image2b216d032f\" transform=\"scale(1 -1)translate(0 -218)\" width=\"218\" x=\"49.679688\" xlink:href=\"data:image/png;base64,\r\niVBORw0KGgoAAAANSUhEUgAAANoAAADaCAYAAADAHVzbAAACm0lEQVR4nO3VMQ3CUABFUUqqoioQQYKBGkEeLrqxMGMDNPzl/hDOUfCWm7dcl/1z4qc83sfsCQw6zx4A/0BoEBAaBIQGAaFBQGgQEBoEhAYBoUFAaBAQGgSEBgGhQUBoEBAaBIQGAaFBQGgQEBoEhAYBoUFAaBAQGgSEBgGhQUBoEBAaBIQGAaFBQGgQEBoEhAYBoUFAaBAQGgSEBgGhQUBoEBAaBIQGAaFBQGgQEBoEhAYBoUFAaBAQGgSEBgGhQUBoEBAaBIQGAaFBQGgQEBoEhAYBoUFAaBAQGgSEBgGhQUBoEBAaBIQGAaFBQGgQEBoEhAYBoUFAaBAQGgSEBgGhQUBoEBAaBIQGAaFBQGgQEBoEhAYBoUFAaBAQGgSEBgGhQUBoEBAaBIQGAaFBQGgQEBoEhAYBoUFAaBAQGgSEBgGhQUBoEBAaBIQGAaFBQGgQEBoEhAYBoUFAaBAQGgSEBoH1/nrO3sCg23aZPYFBHg0CQoOA0CAgNAgIDQJCg4DQICA0CAgNAkKDgNAgIDQICA0CQoOA0CAgNAgIDQJCg4DQICA0CAgNAkKDgNAgIDQICA0CQoOA0CAgNAgIDQJCg4DQICA0CAgNAkKDgNAgIDQICA0CQoOA0CAgNAgIDQJCg4DQICA0CAgNAkKDgNAgIDQICA0CQoOA0CAgNAgIDQJCg4DQICA0CAgNAkKDgNAgIDQICA0CQoOA0CAgNAgIDQJCg4DQICA0CAgNAkKDgNAgIDQICA0CQoOA0CAgNAgIDQJCg4DQICA0CAgNAkKDgNAgIDQICA0CQoOA0CAgNAgIDQJCg4DQICA0CAgNAkKDgNAgIDQICA0CQoOA0CAgNAgIDQJCg4DQICA0CAgNAkKDgNAgIDQIfAH3kQhy0zQh+AAAAABJRU5ErkJggg==\" y=\"-6.64\"/>\r\n   </g>\r\n   <g id=\"matplotlib.axis_1\">\r\n    <g id=\"xtick_1\">\r\n     <g id=\"line2d_1\">\r\n      <defs>\r\n       <path d=\"M 0 0 \r\nL 0 3.5 \r\n\" id=\"m4e39812fb3\" style=\"stroke:#000000;stroke-width:0.8;\"/>\r\n      </defs>\r\n      <g>\r\n       <use style=\"stroke:#000000;stroke-width:0.8;\" x=\"104.039688\" xlink:href=\"#m4e39812fb3\" y=\"224.64\"/>\r\n      </g>\r\n     </g>\r\n     <g id=\"text_1\">\r\n      <!-- high -->\r\n      <g transform=\"translate(93.138906 239.238438)scale(0.1 -0.1)\">\r\n       <defs>\r\n        <path d=\"M 54.890625 33.015625 \r\nL 54.890625 0 \r\nL 45.90625 0 \r\nL 45.90625 32.71875 \r\nQ 45.90625 40.484375 42.875 44.328125 \r\nQ 39.84375 48.1875 33.796875 48.1875 \r\nQ 26.515625 48.1875 22.3125 43.546875 \r\nQ 18.109375 38.921875 18.109375 30.90625 \r\nL 18.109375 0 \r\nL 9.078125 0 \r\nL 9.078125 75.984375 \r\nL 18.109375 75.984375 \r\nL 18.109375 46.1875 \r\nQ 21.34375 51.125 25.703125 53.5625 \r\nQ 30.078125 56 35.796875 56 \r\nQ 45.21875 56 50.046875 50.171875 \r\nQ 54.890625 44.34375 54.890625 33.015625 \r\nz\r\n\" id=\"DejaVuSans-104\"/>\r\n        <path d=\"M 9.421875 54.6875 \r\nL 18.40625 54.6875 \r\nL 18.40625 0 \r\nL 9.421875 0 \r\nz\r\nM 9.421875 75.984375 \r\nL 18.40625 75.984375 \r\nL 18.40625 64.59375 \r\nL 9.421875 64.59375 \r\nz\r\n\" id=\"DejaVuSans-105\"/>\r\n        <path d=\"M 45.40625 27.984375 \r\nQ 45.40625 37.75 41.375 43.109375 \r\nQ 37.359375 48.484375 30.078125 48.484375 \r\nQ 22.859375 48.484375 18.828125 43.109375 \r\nQ 14.796875 37.75 14.796875 27.984375 \r\nQ 14.796875 18.265625 18.828125 12.890625 \r\nQ 22.859375 7.515625 30.078125 7.515625 \r\nQ 37.359375 7.515625 41.375 12.890625 \r\nQ 45.40625 18.265625 45.40625 27.984375 \r\nz\r\nM 54.390625 6.78125 \r\nQ 54.390625 -7.171875 48.1875 -13.984375 \r\nQ 42 -20.796875 29.203125 -20.796875 \r\nQ 24.46875 -20.796875 20.265625 -20.09375 \r\nQ 16.0625 -19.390625 12.109375 -17.921875 \r\nL 12.109375 -9.1875 \r\nQ 16.0625 -11.328125 19.921875 -12.34375 \r\nQ 23.78125 -13.375 27.78125 -13.375 \r\nQ 36.625 -13.375 41.015625 -8.765625 \r\nQ 45.40625 -4.15625 45.40625 5.171875 \r\nL 45.40625 9.625 \r\nQ 42.625 4.78125 38.28125 2.390625 \r\nQ 33.9375 0 27.875 0 \r\nQ 17.828125 0 11.671875 7.65625 \r\nQ 5.515625 15.328125 5.515625 27.984375 \r\nQ 5.515625 40.671875 11.671875 48.328125 \r\nQ 17.828125 56 27.875 56 \r\nQ 33.9375 56 38.28125 53.609375 \r\nQ 42.625 51.21875 45.40625 46.390625 \r\nL 45.40625 54.6875 \r\nL 54.390625 54.6875 \r\nz\r\n\" id=\"DejaVuSans-103\"/>\r\n       </defs>\r\n       <use xlink:href=\"#DejaVuSans-104\"/>\r\n       <use x=\"63.378906\" xlink:href=\"#DejaVuSans-105\"/>\r\n       <use x=\"91.162109\" xlink:href=\"#DejaVuSans-103\"/>\r\n       <use x=\"154.638672\" xlink:href=\"#DejaVuSans-104\"/>\r\n      </g>\r\n     </g>\r\n    </g>\r\n    <g id=\"xtick_2\">\r\n     <g id=\"line2d_2\">\r\n      <g>\r\n       <use style=\"stroke:#000000;stroke-width:0.8;\" x=\"212.759688\" xlink:href=\"#m4e39812fb3\" y=\"224.64\"/>\r\n      </g>\r\n     </g>\r\n     <g id=\"text_2\">\r\n      <!-- low -->\r\n      <g transform=\"translate(204.222188 239.238438)scale(0.1 -0.1)\">\r\n       <defs>\r\n        <path d=\"M 9.421875 75.984375 \r\nL 18.40625 75.984375 \r\nL 18.40625 0 \r\nL 9.421875 0 \r\nz\r\n\" id=\"DejaVuSans-108\"/>\r\n        <path d=\"M 30.609375 48.390625 \r\nQ 23.390625 48.390625 19.1875 42.75 \r\nQ 14.984375 37.109375 14.984375 27.296875 \r\nQ 14.984375 17.484375 19.15625 11.84375 \r\nQ 23.34375 6.203125 30.609375 6.203125 \r\nQ 37.796875 6.203125 41.984375 11.859375 \r\nQ 46.1875 17.53125 46.1875 27.296875 \r\nQ 46.1875 37.015625 41.984375 42.703125 \r\nQ 37.796875 48.390625 30.609375 48.390625 \r\nz\r\nM 30.609375 56 \r\nQ 42.328125 56 49.015625 48.375 \r\nQ 55.71875 40.765625 55.71875 27.296875 \r\nQ 55.71875 13.875 49.015625 6.21875 \r\nQ 42.328125 -1.421875 30.609375 -1.421875 \r\nQ 18.84375 -1.421875 12.171875 6.21875 \r\nQ 5.515625 13.875 5.515625 27.296875 \r\nQ 5.515625 40.765625 12.171875 48.375 \r\nQ 18.84375 56 30.609375 56 \r\nz\r\n\" id=\"DejaVuSans-111\"/>\r\n        <path d=\"M 4.203125 54.6875 \r\nL 13.1875 54.6875 \r\nL 24.421875 12.015625 \r\nL 35.59375 54.6875 \r\nL 46.1875 54.6875 \r\nL 57.421875 12.015625 \r\nL 68.609375 54.6875 \r\nL 77.59375 54.6875 \r\nL 63.28125 0 \r\nL 52.6875 0 \r\nL 40.921875 44.828125 \r\nL 29.109375 0 \r\nL 18.5 0 \r\nz\r\n\" id=\"DejaVuSans-119\"/>\r\n       </defs>\r\n       <use xlink:href=\"#DejaVuSans-108\"/>\r\n       <use x=\"27.783203\" xlink:href=\"#DejaVuSans-111\"/>\r\n       <use x=\"88.964844\" xlink:href=\"#DejaVuSans-119\"/>\r\n      </g>\r\n     </g>\r\n    </g>\r\n    <g id=\"text_3\">\r\n     <!-- Predicted label -->\r\n     <g transform=\"translate(121.247344 252.916563)scale(0.1 -0.1)\">\r\n      <defs>\r\n       <path d=\"M 19.671875 64.796875 \r\nL 19.671875 37.40625 \r\nL 32.078125 37.40625 \r\nQ 38.96875 37.40625 42.71875 40.96875 \r\nQ 46.484375 44.53125 46.484375 51.125 \r\nQ 46.484375 57.671875 42.71875 61.234375 \r\nQ 38.96875 64.796875 32.078125 64.796875 \r\nz\r\nM 9.8125 72.90625 \r\nL 32.078125 72.90625 \r\nQ 44.34375 72.90625 50.609375 67.359375 \r\nQ 56.890625 61.8125 56.890625 51.125 \r\nQ 56.890625 40.328125 50.609375 34.8125 \r\nQ 44.34375 29.296875 32.078125 29.296875 \r\nL 19.671875 29.296875 \r\nL 19.671875 0 \r\nL 9.8125 0 \r\nz\r\n\" id=\"DejaVuSans-80\"/>\r\n       <path d=\"M 41.109375 46.296875 \r\nQ 39.59375 47.171875 37.8125 47.578125 \r\nQ 36.03125 48 33.890625 48 \r\nQ 26.265625 48 22.1875 43.046875 \r\nQ 18.109375 38.09375 18.109375 28.8125 \r\nL 18.109375 0 \r\nL 9.078125 0 \r\nL 9.078125 54.6875 \r\nL 18.109375 54.6875 \r\nL 18.109375 46.1875 \r\nQ 20.953125 51.171875 25.484375 53.578125 \r\nQ 30.03125 56 36.53125 56 \r\nQ 37.453125 56 38.578125 55.875 \r\nQ 39.703125 55.765625 41.0625 55.515625 \r\nz\r\n\" id=\"DejaVuSans-114\"/>\r\n       <path d=\"M 56.203125 29.59375 \r\nL 56.203125 25.203125 \r\nL 14.890625 25.203125 \r\nQ 15.484375 15.921875 20.484375 11.0625 \r\nQ 25.484375 6.203125 34.421875 6.203125 \r\nQ 39.59375 6.203125 44.453125 7.46875 \r\nQ 49.3125 8.734375 54.109375 11.28125 \r\nL 54.109375 2.78125 \r\nQ 49.265625 0.734375 44.1875 -0.34375 \r\nQ 39.109375 -1.421875 33.890625 -1.421875 \r\nQ 20.796875 -1.421875 13.15625 6.1875 \r\nQ 5.515625 13.8125 5.515625 26.8125 \r\nQ 5.515625 40.234375 12.765625 48.109375 \r\nQ 20.015625 56 32.328125 56 \r\nQ 43.359375 56 49.78125 48.890625 \r\nQ 56.203125 41.796875 56.203125 29.59375 \r\nz\r\nM 47.21875 32.234375 \r\nQ 47.125 39.59375 43.09375 43.984375 \r\nQ 39.0625 48.390625 32.421875 48.390625 \r\nQ 24.90625 48.390625 20.390625 44.140625 \r\nQ 15.875 39.890625 15.1875 32.171875 \r\nz\r\n\" id=\"DejaVuSans-101\"/>\r\n       <path d=\"M 45.40625 46.390625 \r\nL 45.40625 75.984375 \r\nL 54.390625 75.984375 \r\nL 54.390625 0 \r\nL 45.40625 0 \r\nL 45.40625 8.203125 \r\nQ 42.578125 3.328125 38.25 0.953125 \r\nQ 33.9375 -1.421875 27.875 -1.421875 \r\nQ 17.96875 -1.421875 11.734375 6.484375 \r\nQ 5.515625 14.40625 5.515625 27.296875 \r\nQ 5.515625 40.1875 11.734375 48.09375 \r\nQ 17.96875 56 27.875 56 \r\nQ 33.9375 56 38.25 53.625 \r\nQ 42.578125 51.265625 45.40625 46.390625 \r\nz\r\nM 14.796875 27.296875 \r\nQ 14.796875 17.390625 18.875 11.75 \r\nQ 22.953125 6.109375 30.078125 6.109375 \r\nQ 37.203125 6.109375 41.296875 11.75 \r\nQ 45.40625 17.390625 45.40625 27.296875 \r\nQ 45.40625 37.203125 41.296875 42.84375 \r\nQ 37.203125 48.484375 30.078125 48.484375 \r\nQ 22.953125 48.484375 18.875 42.84375 \r\nQ 14.796875 37.203125 14.796875 27.296875 \r\nz\r\n\" id=\"DejaVuSans-100\"/>\r\n       <path d=\"M 48.78125 52.59375 \r\nL 48.78125 44.1875 \r\nQ 44.96875 46.296875 41.140625 47.34375 \r\nQ 37.3125 48.390625 33.40625 48.390625 \r\nQ 24.65625 48.390625 19.8125 42.84375 \r\nQ 14.984375 37.3125 14.984375 27.296875 \r\nQ 14.984375 17.28125 19.8125 11.734375 \r\nQ 24.65625 6.203125 33.40625 6.203125 \r\nQ 37.3125 6.203125 41.140625 7.25 \r\nQ 44.96875 8.296875 48.78125 10.40625 \r\nL 48.78125 2.09375 \r\nQ 45.015625 0.34375 40.984375 -0.53125 \r\nQ 36.96875 -1.421875 32.421875 -1.421875 \r\nQ 20.0625 -1.421875 12.78125 6.34375 \r\nQ 5.515625 14.109375 5.515625 27.296875 \r\nQ 5.515625 40.671875 12.859375 48.328125 \r\nQ 20.21875 56 33.015625 56 \r\nQ 37.15625 56 41.109375 55.140625 \r\nQ 45.0625 54.296875 48.78125 52.59375 \r\nz\r\n\" id=\"DejaVuSans-99\"/>\r\n       <path d=\"M 18.3125 70.21875 \r\nL 18.3125 54.6875 \r\nL 36.8125 54.6875 \r\nL 36.8125 47.703125 \r\nL 18.3125 47.703125 \r\nL 18.3125 18.015625 \r\nQ 18.3125 11.328125 20.140625 9.421875 \r\nQ 21.96875 7.515625 27.59375 7.515625 \r\nL 36.8125 7.515625 \r\nL 36.8125 0 \r\nL 27.59375 0 \r\nQ 17.1875 0 13.234375 3.875 \r\nQ 9.28125 7.765625 9.28125 18.015625 \r\nL 9.28125 47.703125 \r\nL 2.6875 47.703125 \r\nL 2.6875 54.6875 \r\nL 9.28125 54.6875 \r\nL 9.28125 70.21875 \r\nz\r\n\" id=\"DejaVuSans-116\"/>\r\n       <path id=\"DejaVuSans-32\"/>\r\n       <path d=\"M 34.28125 27.484375 \r\nQ 23.390625 27.484375 19.1875 25 \r\nQ 14.984375 22.515625 14.984375 16.5 \r\nQ 14.984375 11.71875 18.140625 8.90625 \r\nQ 21.296875 6.109375 26.703125 6.109375 \r\nQ 34.1875 6.109375 38.703125 11.40625 \r\nQ 43.21875 16.703125 43.21875 25.484375 \r\nL 43.21875 27.484375 \r\nz\r\nM 52.203125 31.203125 \r\nL 52.203125 0 \r\nL 43.21875 0 \r\nL 43.21875 8.296875 \r\nQ 40.140625 3.328125 35.546875 0.953125 \r\nQ 30.953125 -1.421875 24.3125 -1.421875 \r\nQ 15.921875 -1.421875 10.953125 3.296875 \r\nQ 6 8.015625 6 15.921875 \r\nQ 6 25.140625 12.171875 29.828125 \r\nQ 18.359375 34.515625 30.609375 34.515625 \r\nL 43.21875 34.515625 \r\nL 43.21875 35.40625 \r\nQ 43.21875 41.609375 39.140625 45 \r\nQ 35.0625 48.390625 27.6875 48.390625 \r\nQ 23 48.390625 18.546875 47.265625 \r\nQ 14.109375 46.140625 10.015625 43.890625 \r\nL 10.015625 52.203125 \r\nQ 14.9375 54.109375 19.578125 55.046875 \r\nQ 24.21875 56 28.609375 56 \r\nQ 40.484375 56 46.34375 49.84375 \r\nQ 52.203125 43.703125 52.203125 31.203125 \r\nz\r\n\" id=\"DejaVuSans-97\"/>\r\n       <path d=\"M 48.6875 27.296875 \r\nQ 48.6875 37.203125 44.609375 42.84375 \r\nQ 40.53125 48.484375 33.40625 48.484375 \r\nQ 26.265625 48.484375 22.1875 42.84375 \r\nQ 18.109375 37.203125 18.109375 27.296875 \r\nQ 18.109375 17.390625 22.1875 11.75 \r\nQ 26.265625 6.109375 33.40625 6.109375 \r\nQ 40.53125 6.109375 44.609375 11.75 \r\nQ 48.6875 17.390625 48.6875 27.296875 \r\nz\r\nM 18.109375 46.390625 \r\nQ 20.953125 51.265625 25.265625 53.625 \r\nQ 29.59375 56 35.59375 56 \r\nQ 45.5625 56 51.78125 48.09375 \r\nQ 58.015625 40.1875 58.015625 27.296875 \r\nQ 58.015625 14.40625 51.78125 6.484375 \r\nQ 45.5625 -1.421875 35.59375 -1.421875 \r\nQ 29.59375 -1.421875 25.265625 0.953125 \r\nQ 20.953125 3.328125 18.109375 8.203125 \r\nL 18.109375 0 \r\nL 9.078125 0 \r\nL 9.078125 75.984375 \r\nL 18.109375 75.984375 \r\nz\r\n\" id=\"DejaVuSans-98\"/>\r\n      </defs>\r\n      <use xlink:href=\"#DejaVuSans-80\"/>\r\n      <use x=\"58.552734\" xlink:href=\"#DejaVuSans-114\"/>\r\n      <use x=\"97.416016\" xlink:href=\"#DejaVuSans-101\"/>\r\n      <use x=\"158.939453\" xlink:href=\"#DejaVuSans-100\"/>\r\n      <use x=\"222.416016\" xlink:href=\"#DejaVuSans-105\"/>\r\n      <use x=\"250.199219\" xlink:href=\"#DejaVuSans-99\"/>\r\n      <use x=\"305.179688\" xlink:href=\"#DejaVuSans-116\"/>\r\n      <use x=\"344.388672\" xlink:href=\"#DejaVuSans-101\"/>\r\n      <use x=\"405.912109\" xlink:href=\"#DejaVuSans-100\"/>\r\n      <use x=\"469.388672\" xlink:href=\"#DejaVuSans-32\"/>\r\n      <use x=\"501.175781\" xlink:href=\"#DejaVuSans-108\"/>\r\n      <use x=\"528.958984\" xlink:href=\"#DejaVuSans-97\"/>\r\n      <use x=\"590.238281\" xlink:href=\"#DejaVuSans-98\"/>\r\n      <use x=\"653.714844\" xlink:href=\"#DejaVuSans-101\"/>\r\n      <use x=\"715.238281\" xlink:href=\"#DejaVuSans-108\"/>\r\n     </g>\r\n    </g>\r\n   </g>\r\n   <g id=\"matplotlib.axis_2\">\r\n    <g id=\"ytick_1\">\r\n     <g id=\"line2d_3\">\r\n      <defs>\r\n       <path d=\"M 0 0 \r\nL -3.5 0 \r\n\" id=\"m46d4ff0cfb\" style=\"stroke:#000000;stroke-width:0.8;\"/>\r\n      </defs>\r\n      <g>\r\n       <use style=\"stroke:#000000;stroke-width:0.8;\" x=\"49.679688\" xlink:href=\"#m46d4ff0cfb\" y=\"61.56\"/>\r\n      </g>\r\n     </g>\r\n     <g id=\"text_4\">\r\n      <!-- high -->\r\n      <g transform=\"translate(20.878125 65.359219)scale(0.1 -0.1)\">\r\n       <use xlink:href=\"#DejaVuSans-104\"/>\r\n       <use x=\"63.378906\" xlink:href=\"#DejaVuSans-105\"/>\r\n       <use x=\"91.162109\" xlink:href=\"#DejaVuSans-103\"/>\r\n       <use x=\"154.638672\" xlink:href=\"#DejaVuSans-104\"/>\r\n      </g>\r\n     </g>\r\n    </g>\r\n    <g id=\"ytick_2\">\r\n     <g id=\"line2d_4\">\r\n      <g>\r\n       <use style=\"stroke:#000000;stroke-width:0.8;\" x=\"49.679688\" xlink:href=\"#m46d4ff0cfb\" y=\"170.28\"/>\r\n      </g>\r\n     </g>\r\n     <g id=\"text_5\">\r\n      <!-- low -->\r\n      <g transform=\"translate(25.604688 174.079219)scale(0.1 -0.1)\">\r\n       <use xlink:href=\"#DejaVuSans-108\"/>\r\n       <use x=\"27.783203\" xlink:href=\"#DejaVuSans-111\"/>\r\n       <use x=\"88.964844\" xlink:href=\"#DejaVuSans-119\"/>\r\n      </g>\r\n     </g>\r\n    </g>\r\n    <g id=\"text_6\">\r\n     <!-- True label -->\r\n     <g transform=\"translate(14.798438 140.219219)rotate(-90)scale(0.1 -0.1)\">\r\n      <defs>\r\n       <path d=\"M -0.296875 72.90625 \r\nL 61.375 72.90625 \r\nL 61.375 64.59375 \r\nL 35.5 64.59375 \r\nL 35.5 0 \r\nL 25.59375 0 \r\nL 25.59375 64.59375 \r\nL -0.296875 64.59375 \r\nz\r\n\" id=\"DejaVuSans-84\"/>\r\n       <path d=\"M 8.5 21.578125 \r\nL 8.5 54.6875 \r\nL 17.484375 54.6875 \r\nL 17.484375 21.921875 \r\nQ 17.484375 14.15625 20.5 10.265625 \r\nQ 23.53125 6.390625 29.59375 6.390625 \r\nQ 36.859375 6.390625 41.078125 11.03125 \r\nQ 45.3125 15.671875 45.3125 23.6875 \r\nL 45.3125 54.6875 \r\nL 54.296875 54.6875 \r\nL 54.296875 0 \r\nL 45.3125 0 \r\nL 45.3125 8.40625 \r\nQ 42.046875 3.421875 37.71875 1 \r\nQ 33.40625 -1.421875 27.6875 -1.421875 \r\nQ 18.265625 -1.421875 13.375 4.4375 \r\nQ 8.5 10.296875 8.5 21.578125 \r\nz\r\nM 31.109375 56 \r\nz\r\n\" id=\"DejaVuSans-117\"/>\r\n      </defs>\r\n      <use xlink:href=\"#DejaVuSans-84\"/>\r\n      <use x=\"46.333984\" xlink:href=\"#DejaVuSans-114\"/>\r\n      <use x=\"87.447266\" xlink:href=\"#DejaVuSans-117\"/>\r\n      <use x=\"150.826172\" xlink:href=\"#DejaVuSans-101\"/>\r\n      <use x=\"212.349609\" xlink:href=\"#DejaVuSans-32\"/>\r\n      <use x=\"244.136719\" xlink:href=\"#DejaVuSans-108\"/>\r\n      <use x=\"271.919922\" xlink:href=\"#DejaVuSans-97\"/>\r\n      <use x=\"333.199219\" xlink:href=\"#DejaVuSans-98\"/>\r\n      <use x=\"396.675781\" xlink:href=\"#DejaVuSans-101\"/>\r\n      <use x=\"458.199219\" xlink:href=\"#DejaVuSans-108\"/>\r\n     </g>\r\n    </g>\r\n   </g>\r\n   <g id=\"patch_3\">\r\n    <path d=\"M 49.679688 224.64 \r\nL 49.679688 7.2 \r\n\" style=\"fill:none;stroke:#000000;stroke-linecap:square;stroke-linejoin:miter;stroke-width:0.8;\"/>\r\n   </g>\r\n   <g id=\"patch_4\">\r\n    <path d=\"M 267.119687 224.64 \r\nL 267.119687 7.2 \r\n\" style=\"fill:none;stroke:#000000;stroke-linecap:square;stroke-linejoin:miter;stroke-width:0.8;\"/>\r\n   </g>\r\n   <g id=\"patch_5\">\r\n    <path d=\"M 49.679688 224.64 \r\nL 267.119687 224.64 \r\n\" style=\"fill:none;stroke:#000000;stroke-linecap:square;stroke-linejoin:miter;stroke-width:0.8;\"/>\r\n   </g>\r\n   <g id=\"patch_6\">\r\n    <path d=\"M 49.679688 7.2 \r\nL 267.119687 7.2 \r\n\" style=\"fill:none;stroke:#000000;stroke-linecap:square;stroke-linejoin:miter;stroke-width:0.8;\"/>\r\n   </g>\r\n   <g id=\"text_7\">\r\n    <!-- 61 -->\r\n    <g style=\"fill:#440154;\" transform=\"translate(97.677188 64.319375)scale(0.1 -0.1)\">\r\n     <defs>\r\n      <path d=\"M 33.015625 40.375 \r\nQ 26.375 40.375 22.484375 35.828125 \r\nQ 18.609375 31.296875 18.609375 23.390625 \r\nQ 18.609375 15.53125 22.484375 10.953125 \r\nQ 26.375 6.390625 33.015625 6.390625 \r\nQ 39.65625 6.390625 43.53125 10.953125 \r\nQ 47.40625 15.53125 47.40625 23.390625 \r\nQ 47.40625 31.296875 43.53125 35.828125 \r\nQ 39.65625 40.375 33.015625 40.375 \r\nz\r\nM 52.59375 71.296875 \r\nL 52.59375 62.3125 \r\nQ 48.875 64.0625 45.09375 64.984375 \r\nQ 41.3125 65.921875 37.59375 65.921875 \r\nQ 27.828125 65.921875 22.671875 59.328125 \r\nQ 17.53125 52.734375 16.796875 39.40625 \r\nQ 19.671875 43.65625 24.015625 45.921875 \r\nQ 28.375 48.1875 33.59375 48.1875 \r\nQ 44.578125 48.1875 50.953125 41.515625 \r\nQ 57.328125 34.859375 57.328125 23.390625 \r\nQ 57.328125 12.15625 50.6875 5.359375 \r\nQ 44.046875 -1.421875 33.015625 -1.421875 \r\nQ 20.359375 -1.421875 13.671875 8.265625 \r\nQ 6.984375 17.96875 6.984375 36.375 \r\nQ 6.984375 53.65625 15.1875 63.9375 \r\nQ 23.390625 74.21875 37.203125 74.21875 \r\nQ 40.921875 74.21875 44.703125 73.484375 \r\nQ 48.484375 72.75 52.59375 71.296875 \r\nz\r\n\" id=\"DejaVuSans-54\"/>\r\n      <path d=\"M 12.40625 8.296875 \r\nL 28.515625 8.296875 \r\nL 28.515625 63.921875 \r\nL 10.984375 60.40625 \r\nL 10.984375 69.390625 \r\nL 28.421875 72.90625 \r\nL 38.28125 72.90625 \r\nL 38.28125 8.296875 \r\nL 54.390625 8.296875 \r\nL 54.390625 0 \r\nL 12.40625 0 \r\nz\r\n\" id=\"DejaVuSans-49\"/>\r\n     </defs>\r\n     <use xlink:href=\"#DejaVuSans-54\"/>\r\n     <use x=\"63.623047\" xlink:href=\"#DejaVuSans-49\"/>\r\n    </g>\r\n   </g>\r\n   <g id=\"text_8\">\r\n    <!-- 14 -->\r\n    <g style=\"fill:#fde725;\" transform=\"translate(206.397188 64.319375)scale(0.1 -0.1)\">\r\n     <defs>\r\n      <path d=\"M 37.796875 64.3125 \r\nL 12.890625 25.390625 \r\nL 37.796875 25.390625 \r\nz\r\nM 35.203125 72.90625 \r\nL 47.609375 72.90625 \r\nL 47.609375 25.390625 \r\nL 58.015625 25.390625 \r\nL 58.015625 17.1875 \r\nL 47.609375 17.1875 \r\nL 47.609375 0 \r\nL 37.796875 0 \r\nL 37.796875 17.1875 \r\nL 4.890625 17.1875 \r\nL 4.890625 26.703125 \r\nz\r\n\" id=\"DejaVuSans-52\"/>\r\n     </defs>\r\n     <use xlink:href=\"#DejaVuSans-49\"/>\r\n     <use x=\"63.623047\" xlink:href=\"#DejaVuSans-52\"/>\r\n    </g>\r\n   </g>\r\n   <g id=\"text_9\">\r\n    <!-- 14 -->\r\n    <g style=\"fill:#fde725;\" transform=\"translate(97.677188 173.039375)scale(0.1 -0.1)\">\r\n     <use xlink:href=\"#DejaVuSans-49\"/>\r\n     <use x=\"63.623047\" xlink:href=\"#DejaVuSans-52\"/>\r\n    </g>\r\n   </g>\r\n   <g id=\"text_10\">\r\n    <!-- 67 -->\r\n    <g style=\"fill:#440154;\" transform=\"translate(206.397188 173.039375)scale(0.1 -0.1)\">\r\n     <defs>\r\n      <path d=\"M 8.203125 72.90625 \r\nL 55.078125 72.90625 \r\nL 55.078125 68.703125 \r\nL 28.609375 0 \r\nL 18.3125 0 \r\nL 43.21875 64.59375 \r\nL 8.203125 64.59375 \r\nz\r\n\" id=\"DejaVuSans-55\"/>\r\n     </defs>\r\n     <use xlink:href=\"#DejaVuSans-54\"/>\r\n     <use x=\"63.623047\" xlink:href=\"#DejaVuSans-55\"/>\r\n    </g>\r\n   </g>\r\n  </g>\r\n  <g id=\"axes_2\">\r\n   <g id=\"patch_7\">\r\n    <path clip-path=\"url(#pe1b35dd091)\" d=\"M 283.859688 224.64 \r\nL 283.859688 223.790625 \r\nL 283.859688 8.049375 \r\nL 283.859688 7.2 \r\nL 294.731688 7.2 \r\nL 294.731688 8.049375 \r\nL 294.731688 223.790625 \r\nL 294.731688 224.64 \r\nz\r\n\" style=\"fill:#ffffff;stroke:#ffffff;stroke-linejoin:miter;stroke-width:0.01;\"/>\r\n   </g>\r\n   <image height=\"217\" id=\"image55aeaa6e42\" transform=\"scale(1 -1)translate(0 -217)\" width=\"11\" x=\"284\" xlink:href=\"data:image/png;base64,\r\niVBORw0KGgoAAAANSUhEUgAAAAsAAADZCAYAAAD2WsoCAAABYUlEQVR4nO3aQW7DMBBDUWkk52Q9Q+9/kLbptkA2egsC4yJZE8QnZ2Q7TuZHfT7H4WfPmqfaseda5+IxC8SCMaYwl2CI86A2qOce1VlAcs6J3238FcfaeK4eAYnZxt0D4/xKkMUQ5yBzynmIMy2/9UwYsTZsgrQbxgziJm0EMXLVUcAupxvE5IwBUxjoHLvI3LKNmPMd2zjX4vPGHSf4/8dNzi3GDRDv0/0iPj/fd9yNNm0Exw3MweoqhdGkDXhESrYxRi4gOM9YQOuZmE0MGNSGYZxTcMBUG6t+OmBUrI0l4hxGE+c1Ydzk3ES87xhQbhPWRn13wCgZih1YYaY2lrWR2jpqY08KmGMWZ+mZnC9pw1Y0thu5oTzmFzjHhlISkJb/koDUM16RyDm1G7T8ts/BgKkb0GPQpUCWn06KBTzWjn3ZgQXnBV8It7zd20t+yCjBuOB9lmKAMzEv+SOQYPwCBCyBaHjgE4oAAAAASUVORK5CYII=\" y=\"-7\"/>\r\n   <g id=\"matplotlib.axis_3\"/>\r\n   <g id=\"matplotlib.axis_4\">\r\n    <g id=\"ytick_3\">\r\n     <g id=\"line2d_5\">\r\n      <defs>\r\n       <path d=\"M 0 0 \r\nL 3.5 0 \r\n\" id=\"m12d91855cb\" style=\"stroke:#000000;stroke-width:0.8;\"/>\r\n      </defs>\r\n      <g>\r\n       <use style=\"stroke:#000000;stroke-width:0.8;\" x=\"294.731688\" xlink:href=\"#m12d91855cb\" y=\"200.024151\"/>\r\n      </g>\r\n     </g>\r\n     <g id=\"text_11\">\r\n      <!-- 20 -->\r\n      <g transform=\"translate(301.731688 203.82337)scale(0.1 -0.1)\">\r\n       <defs>\r\n        <path d=\"M 19.1875 8.296875 \r\nL 53.609375 8.296875 \r\nL 53.609375 0 \r\nL 7.328125 0 \r\nL 7.328125 8.296875 \r\nQ 12.9375 14.109375 22.625 23.890625 \r\nQ 32.328125 33.6875 34.8125 36.53125 \r\nQ 39.546875 41.84375 41.421875 45.53125 \r\nQ 43.3125 49.21875 43.3125 52.78125 \r\nQ 43.3125 58.59375 39.234375 62.25 \r\nQ 35.15625 65.921875 28.609375 65.921875 \r\nQ 23.96875 65.921875 18.8125 64.3125 \r\nQ 13.671875 62.703125 7.8125 59.421875 \r\nL 7.8125 69.390625 \r\nQ 13.765625 71.78125 18.9375 73 \r\nQ 24.125 74.21875 28.421875 74.21875 \r\nQ 39.75 74.21875 46.484375 68.546875 \r\nQ 53.21875 62.890625 53.21875 53.421875 \r\nQ 53.21875 48.921875 51.53125 44.890625 \r\nQ 49.859375 40.875 45.40625 35.40625 \r\nQ 44.1875 33.984375 37.640625 27.21875 \r\nQ 31.109375 20.453125 19.1875 8.296875 \r\nz\r\n\" id=\"DejaVuSans-50\"/>\r\n        <path d=\"M 31.78125 66.40625 \r\nQ 24.171875 66.40625 20.328125 58.90625 \r\nQ 16.5 51.421875 16.5 36.375 \r\nQ 16.5 21.390625 20.328125 13.890625 \r\nQ 24.171875 6.390625 31.78125 6.390625 \r\nQ 39.453125 6.390625 43.28125 13.890625 \r\nQ 47.125 21.390625 47.125 36.375 \r\nQ 47.125 51.421875 43.28125 58.90625 \r\nQ 39.453125 66.40625 31.78125 66.40625 \r\nz\r\nM 31.78125 74.21875 \r\nQ 44.046875 74.21875 50.515625 64.515625 \r\nQ 56.984375 54.828125 56.984375 36.375 \r\nQ 56.984375 17.96875 50.515625 8.265625 \r\nQ 44.046875 -1.421875 31.78125 -1.421875 \r\nQ 19.53125 -1.421875 13.0625 8.265625 \r\nQ 6.59375 17.96875 6.59375 36.375 \r\nQ 6.59375 54.828125 13.0625 64.515625 \r\nQ 19.53125 74.21875 31.78125 74.21875 \r\nz\r\n\" id=\"DejaVuSans-48\"/>\r\n       </defs>\r\n       <use xlink:href=\"#DejaVuSans-50\"/>\r\n       <use x=\"63.623047\" xlink:href=\"#DejaVuSans-48\"/>\r\n      </g>\r\n     </g>\r\n    </g>\r\n    <g id=\"ytick_4\">\r\n     <g id=\"line2d_6\">\r\n      <g>\r\n       <use style=\"stroke:#000000;stroke-width:0.8;\" x=\"294.731688\" xlink:href=\"#m12d91855cb\" y=\"158.997736\"/>\r\n      </g>\r\n     </g>\r\n     <g id=\"text_12\">\r\n      <!-- 30 -->\r\n      <g transform=\"translate(301.731688 162.796955)scale(0.1 -0.1)\">\r\n       <defs>\r\n        <path d=\"M 40.578125 39.3125 \r\nQ 47.65625 37.796875 51.625 33 \r\nQ 55.609375 28.21875 55.609375 21.1875 \r\nQ 55.609375 10.40625 48.1875 4.484375 \r\nQ 40.765625 -1.421875 27.09375 -1.421875 \r\nQ 22.515625 -1.421875 17.65625 -0.515625 \r\nQ 12.796875 0.390625 7.625 2.203125 \r\nL 7.625 11.71875 \r\nQ 11.71875 9.328125 16.59375 8.109375 \r\nQ 21.484375 6.890625 26.8125 6.890625 \r\nQ 36.078125 6.890625 40.9375 10.546875 \r\nQ 45.796875 14.203125 45.796875 21.1875 \r\nQ 45.796875 27.640625 41.28125 31.265625 \r\nQ 36.765625 34.90625 28.71875 34.90625 \r\nL 20.21875 34.90625 \r\nL 20.21875 43.015625 \r\nL 29.109375 43.015625 \r\nQ 36.375 43.015625 40.234375 45.921875 \r\nQ 44.09375 48.828125 44.09375 54.296875 \r\nQ 44.09375 59.90625 40.109375 62.90625 \r\nQ 36.140625 65.921875 28.71875 65.921875 \r\nQ 24.65625 65.921875 20.015625 65.03125 \r\nQ 15.375 64.15625 9.8125 62.3125 \r\nL 9.8125 71.09375 \r\nQ 15.4375 72.65625 20.34375 73.4375 \r\nQ 25.25 74.21875 29.59375 74.21875 \r\nQ 40.828125 74.21875 47.359375 69.109375 \r\nQ 53.90625 64.015625 53.90625 55.328125 \r\nQ 53.90625 49.265625 50.4375 45.09375 \r\nQ 46.96875 40.921875 40.578125 39.3125 \r\nz\r\n\" id=\"DejaVuSans-51\"/>\r\n       </defs>\r\n       <use xlink:href=\"#DejaVuSans-51\"/>\r\n       <use x=\"63.623047\" xlink:href=\"#DejaVuSans-48\"/>\r\n      </g>\r\n     </g>\r\n    </g>\r\n    <g id=\"ytick_5\">\r\n     <g id=\"line2d_7\">\r\n      <g>\r\n       <use style=\"stroke:#000000;stroke-width:0.8;\" x=\"294.731688\" xlink:href=\"#m12d91855cb\" y=\"117.971321\"/>\r\n      </g>\r\n     </g>\r\n     <g id=\"text_13\">\r\n      <!-- 40 -->\r\n      <g transform=\"translate(301.731688 121.77054)scale(0.1 -0.1)\">\r\n       <use xlink:href=\"#DejaVuSans-52\"/>\r\n       <use x=\"63.623047\" xlink:href=\"#DejaVuSans-48\"/>\r\n      </g>\r\n     </g>\r\n    </g>\r\n    <g id=\"ytick_6\">\r\n     <g id=\"line2d_8\">\r\n      <g>\r\n       <use style=\"stroke:#000000;stroke-width:0.8;\" x=\"294.731688\" xlink:href=\"#m12d91855cb\" y=\"76.944906\"/>\r\n      </g>\r\n     </g>\r\n     <g id=\"text_14\">\r\n      <!-- 50 -->\r\n      <g transform=\"translate(301.731688 80.744124)scale(0.1 -0.1)\">\r\n       <defs>\r\n        <path d=\"M 10.796875 72.90625 \r\nL 49.515625 72.90625 \r\nL 49.515625 64.59375 \r\nL 19.828125 64.59375 \r\nL 19.828125 46.734375 \r\nQ 21.96875 47.46875 24.109375 47.828125 \r\nQ 26.265625 48.1875 28.421875 48.1875 \r\nQ 40.625 48.1875 47.75 41.5 \r\nQ 54.890625 34.8125 54.890625 23.390625 \r\nQ 54.890625 11.625 47.5625 5.09375 \r\nQ 40.234375 -1.421875 26.90625 -1.421875 \r\nQ 22.3125 -1.421875 17.546875 -0.640625 \r\nQ 12.796875 0.140625 7.71875 1.703125 \r\nL 7.71875 11.625 \r\nQ 12.109375 9.234375 16.796875 8.0625 \r\nQ 21.484375 6.890625 26.703125 6.890625 \r\nQ 35.15625 6.890625 40.078125 11.328125 \r\nQ 45.015625 15.765625 45.015625 23.390625 \r\nQ 45.015625 31 40.078125 35.4375 \r\nQ 35.15625 39.890625 26.703125 39.890625 \r\nQ 22.75 39.890625 18.8125 39.015625 \r\nQ 14.890625 38.140625 10.796875 36.28125 \r\nz\r\n\" id=\"DejaVuSans-53\"/>\r\n       </defs>\r\n       <use xlink:href=\"#DejaVuSans-53\"/>\r\n       <use x=\"63.623047\" xlink:href=\"#DejaVuSans-48\"/>\r\n      </g>\r\n     </g>\r\n    </g>\r\n    <g id=\"ytick_7\">\r\n     <g id=\"line2d_9\">\r\n      <g>\r\n       <use style=\"stroke:#000000;stroke-width:0.8;\" x=\"294.731688\" xlink:href=\"#m12d91855cb\" y=\"35.918491\"/>\r\n      </g>\r\n     </g>\r\n     <g id=\"text_15\">\r\n      <!-- 60 -->\r\n      <g transform=\"translate(301.731688 39.717709)scale(0.1 -0.1)\">\r\n       <use xlink:href=\"#DejaVuSans-54\"/>\r\n       <use x=\"63.623047\" xlink:href=\"#DejaVuSans-48\"/>\r\n      </g>\r\n     </g>\r\n    </g>\r\n   </g>\r\n   <g id=\"patch_8\">\r\n    <path d=\"M 283.859688 224.64 \r\nL 283.859688 223.790625 \r\nL 283.859688 8.049375 \r\nL 283.859688 7.2 \r\nL 294.731688 7.2 \r\nL 294.731688 8.049375 \r\nL 294.731688 223.790625 \r\nL 294.731688 224.64 \r\nz\r\n\" style=\"fill:none;stroke:#000000;stroke-linejoin:miter;stroke-width:0.8;\"/>\r\n   </g>\r\n  </g>\r\n </g>\r\n <defs>\r\n  <clipPath id=\"p187f885993\">\r\n   <rect height=\"217.44\" width=\"217.44\" x=\"49.679688\" y=\"7.2\"/>\r\n  </clipPath>\r\n  <clipPath id=\"pe1b35dd091\">\r\n   <rect height=\"217.44\" width=\"10.872\" x=\"283.859688\" y=\"7.2\"/>\r\n  </clipPath>\r\n </defs>\r\n</svg>\r\n",
            "image/png": "[encoded data removed]"
          },
          "metadata": {
            "tags": [],
            "needs_background": "light"
          }
        }
      ]
    },
    {
      "cell_type": "markdown",
      "metadata": {
        "id": "9CagA-XDhu1l"
      },
      "source": [
        "## End of Homework\n",
        "\n",
        "Congratulations on finishing your last homework for DS4E! By completing this homework, you have demonstrated that you can import data, clean data, inspect and visualize data, model data using regression and classification, and intepret model outputs. These are key steps in any data science pipeline.\n",
        "\n",
        "Be sure to submit this file according to the instructions at the top of this notebook."
      ]
    }
  ]
}